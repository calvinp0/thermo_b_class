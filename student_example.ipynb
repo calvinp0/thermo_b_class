{
 "cells": [
  {
   "attachments": {},
   "cell_type": "markdown",
   "metadata": {},
   "source": [
    "# Thermo B - Student Exercises"
   ]
  },
  {
   "attachments": {},
   "cell_type": "markdown",
   "metadata": {},
   "source": [
    "# Pressure-Volume Diagram\n",
    "\n",
    "![image](images/PvVDiag.png)\n",
    "\n",
    "In a pressure-volume diagram, each region corresponds to the range of combinations of temperature and pressure over which that phase is stable [1](https://chem.libretexts.org/Bookshelves/General_Chemistry/Map%3A_General_Chemistry_(Petrucci_et_al.)/12%3A_Intermolecular_Forces%3A_Liquids_And_Solids/12.4%3A_Phase_Diagrams)\n",
    "\n",
    "**Liquid Region**: The liquid region would be where the substance is in its liquid phase at a given combination of temperature and pressure.\n",
    "\n",
    "**Liquid-Vapor Region**: The liquid-vapor region on a pressure-volume diagram represents the range of values where both liquid and vapor phases can coexist at equilibrium\n",
    "\n",
    "**Vapour Region**: The vapour region would be where the substance is in its vapour phase at a given combination of temperature and pressure.\n",
    "\n",
    "**Gas Region**: The gas region would be where the substance is in its gas phase at a given combination of temperature and pressure.\n",
    "\n",
    "**Supercritical Region**: In a pressure-temperature phase diagram, the supercritical region is where the liquid and gas phases disappear to become a single supercritical phase [1](https://en.wikipedia.org/wiki/Supercritical_fluid). This occurs at conditions beyond the critical point, where temperature and pressure are both higher than their respective critical values."
   ]
  },
  {
   "attachments": {},
   "cell_type": "markdown",
   "metadata": {},
   "source": [
    "## Ideal Gas Law\n",
    "\n",
    "The ideal gas law is a mathematical expression of the state of a hypothetical ideal gas, derived from the kinetic theory of gases and named by the French physicist Jacques Charles in 1787 [1](https://en.wikipedia.org/wiki/Ideal_gas_law). It is a special case of the general gas law, which describes the state of any gas.\n",
    "\n",
    "$$PV = nRT$$\n",
    "\n",
    "where:\n",
    "\n",
    "* $P$ is the pressure of the gas\n",
    "* $V$ is the volume of the gas\n",
    "* $n$ is the number of moles of gas\n",
    "* $R$ is the ideal gas constant\n",
    "* $T$ is the temperature of the gas"
   ]
  },
  {
   "attachments": {},
   "cell_type": "markdown",
   "metadata": {},
   "source": [
    "### Task 1: Idea Gas Law Calculation\n",
    "\n",
    "Calculate the theoretical pressure of the gas, CO<sub>2</sub>, at various temperatures and volumes.\n",
    "\n",
    "> **Python**: For this task, you will need to use the ideal gas law function from the `thermo` module. The function is called `ideal_gas_law` and takes the following arguments: `ideal_gas_law(gas_constant: float, list_of_volumes: List, list_of_temperatures: List)`. The function returns a Dataframe with the calculated pressures for each combination of temperature and volume. The index of the Dataframe is the volume and the columns are the temperatures."
   ]
  },
  {
   "attachments": {},
   "cell_type": "markdown",
   "metadata": {},
   "source": [
    "### Task 2: Ideal Gas Law Plot and Critical Point\n",
    "\n",
    "In this task you will need to on the same plot:\n",
    "1. Plot the pressure of the gas, CO<sub>2</sub>, at various temperatures and volumes using the Dataframe from Task 1.\n",
    "2. Plot the critical point of the gas, CO<sub>2</sub>, on the pressure-volume diagram.\n",
    "\n",
    "> **Python**: For this task, you will need to use the `plot_ideal_gas_law` function from the `thermo` module. The function is called `plot_ideal_gas_law` and takes the following arguments: `plot_ideal_gas_law(ideal_gas_law_df: pd.DataFrame)`. The function returns a plot of the Dataframe. However, the plot will not be shown in the notebook. You will need to use the `plt.show()` function to display the plot. Additionally, you will need to use the `plt.figure(figsize=(width, height))` function to set the size of the plot. Recommended is a width of 10 and a height of 10. You will also need to use the `plt.title()` function to set the title of the plot. You can use the `plt.xlabel()` and `plt.ylabel()` functions to set the x and y axis labels.\n",
    "\n",
    "> ***Tip***: Before calling `plt.show()`, ensure you have plotted both the ideal gas law and the critical point on the same plot.\n",
    "\n",
    "> ***Tip***: You can get the docstring for a function by using the ? symbol after the function name\n",
    " "
   ]
  },
  {
   "cell_type": "code",
   "execution_count": 1,
   "metadata": {},
   "outputs": [
    {
     "name": "stderr",
     "output_type": "stream",
     "text": [
      "UsageError: Line magic function `%%script` not found.\n"
     ]
    }
   ],
   "source": [
    "# Call the plot_ideal_gas_law function with the appropriate argument - You will not need to set it as a variable\n",
    "# \n",
    "%%script false --no-raise-error\n",
    "plot_ideal_gas_law()"
   ]
  },
  {
   "attachments": {},
   "cell_type": "markdown",
   "metadata": {},
   "source": [
    "As it can bve seen, the Critical Point of CO<sub>2</sub> is nowhere near the ideal gas law for temperature 304.1K\n",
    "\n",
    "#### Assumptions:\n",
    "\n",
    "* The gas is a perfect gas\n",
    "* The volume of the gas is negligible compared to the volume of the container\n",
    "* There is no intermolecular attraction or repulsion between the gas molecules\n",
    "\n",
    "#### Limitations:\n",
    "\n",
    "* The ideal gas law is only valid for a small range of temperatures and pressures\n",
    "* It is unrealiable at high pressures and low temperatures\n",
    "* Cannot predict vapur-liquid coexistence"
   ]
  },
  {
   "attachments": {},
   "cell_type": "markdown",
   "metadata": {},
   "source": [
    "## Peng-Robinson Equation of State\n",
    "![img](images/preos.png)\n",
    "\n",
    "The Peng-Robinson equation of state (PR EOS) is a cubic equation of state that was developed in 1976 at The University of Alberta by Ding-Yu Peng and Donald Robinson [1](https://en.wikipedia.org/wiki/Cubic_equations_of_state). It is used to predict the behavior of fluids, particularly natural gas systems [2](https://eng.libretexts.org/Bookshelves/Chemical_Engineering/Phase_Relations_in_Reservoir_Engineering_(Adewumi)/11%3A_Cubic_EOS_and_Their_Behavior_III/11.01%3A_Peng-Robinson_EOS_(1976)).\n",
    "\n",
    "The PR EOS is more accurate than the Ideal Gas Law for predicting the behavior of real gases because it takes into account molecular interactions and volume [3](https://www.sciencedirect.com/topics/chemistry/peng-robinson-equation-of-state)."
   ]
  },
  {
   "attachments": {},
   "cell_type": "markdown",
   "metadata": {},
   "source": [
    "### Task 3: Peng-Robinson Equation of State Calculation\n",
    "\n",
    "Calculate the theoretical pressure of the gas, CO<sub>2</sub>, at various temperatures and volumes using the Peng-Robinson Equation of State.\n",
    "\n",
    "> **Python**: For this task, you will need to use the Peng-Robinson Equation of State function from the `thermo` module. The function is called `peng_robinson_eos` and takes the following arguments: `peng_robinson_eos(gas_constant: float, list_of_volumes: List, list_of_temperatures: List, kappa: float, bc: float, ac: float, alpha: Callable)`. The function returns a Dataframe with the calculated pressures for each combination of temperature and volume. The index of the Dataframe is the volume and the columns are the temperatures."
   ]
  },
  {
   "attachments": {},
   "cell_type": "markdown",
   "metadata": {},
   "source": [
    "#### Kappa\n",
    "\n",
    "The kappa parameter is a dimensionless parameter that is calculated from the acentric factor of the substance. The acentric factor is used to measure the non-sphericity of a molecule. The kappa parameter is calculated using the following equation:\n",
    "\n",
    "$$\\kappa = 0.37464 + 1.54226\\omega - 0.26992\\omega^2$$\n",
    "\n",
    "where:\n",
    "\n",
    "* $\\omega$ is the acentric factor of the substance"
   ]
  },
  {
   "attachments": {},
   "cell_type": "markdown",
   "metadata": {},
   "source": [
    "#### Alpha\n",
    "\n",
    "The alpha function is a function of temperature that is used to calculate the acentric factor of the gas. The acentric factor is a measure of the deviation of the gas from ideal gas behavior. The acentric factor is used to calculate the a and b constants of the Peng-Robinson Equation of State. The alpha function is defined as:\n",
    "\n",
    "$$\\alpha(T) = \\left(1 + \\kappa \\left(1 - \\sqrt{\\frac{T}{T_c}}\\right)\\right)^2$$\n",
    "\n",
    "where: \n",
    "\n",
    "* $T$ is the temperature\n",
    "* $\\kappa$ is the acentric factor\n",
    "* $T_c$ is the critical temperature\n",
    "\n",
    "As we already know $\\kappa$ and $T_c$, we can create a function that takes in T and returns the value of alpha:\n",
    "\n",
    "Two ways to do this - *lambda* or defining a *function*\n",
    "\n",
    "You can run either Cell below\n"
   ]
  },
  {
   "attachments": {},
   "cell_type": "markdown",
   "metadata": {},
   "source": [
    "#### a variable\n",
    "\n",
    "The a variable is defined as:\n",
    "\n",
    "$$a = 0.45724\\frac{{\\alpha}R^2T_c^2}{P_c}$$\n",
    "\n",
    "where: \n",
    "* $\\alpha$ is the alpha function\n",
    "* $R$ is the ideal gas constant\n",
    "* $T_c$ is the critical temperature\n",
    "* $P_c$ is the critical pressure\n"
   ]
  },
  {
   "attachments": {},
   "cell_type": "markdown",
   "metadata": {},
   "source": [
    "#### b variable\n",
    "\n",
    "The b variable is defined as:\n",
    "\n",
    "$$b = 0.07780\\frac{R T_c}{P_c}$$\n",
    "\n",
    "where:\n",
    "\n",
    "* $R$ is the ideal gas constant\n",
    "* $T_c$ is the critical temperature\n",
    "* $P_c$ is the critical pressure"
   ]
  },
  {
   "attachments": {},
   "cell_type": "markdown",
   "metadata": {},
   "source": [
    "#### Peng-Robinson Equation of State Function\n",
    "\n",
    "Now that you have the required variables for the Peng-Robinson Equation of State function, you can create the function."
   ]
  },
  {
   "attachments": {},
   "cell_type": "markdown",
   "metadata": {},
   "source": [
    "### Task 4: Peng-Robinson Equation of State Plot\n",
    "\n",
    "In this task you will need to on the same plot:\n",
    "\n",
    "1. Plot the pressure of the gas, CO<sub>2</sub>, at various temperatures and volumes using the Dataframe from Task 3\n",
    "2. Plot the critical point of the gas, CO<sub>2</sub> on the pressure-volume diagram\n",
    "\n",
    "> **Python**: For this task, you will need to use the `plot_peng_robinson_eos` function from the `thermo` module. The function takes the following arguments: `plot_peng_robinson_eos(peng_robinson_eos_df: pd.DataFrame)`. The function returns a plot of the Dataframe. However, the plot will not be shown in the notebook. You will need to use the `plt.show()` function to display the plot. Additionally, you will need to use the `plt.figure(figsize(width, height))` function to set the size of the plot. Recommended is a width of 10 and a height of 10. You will also need to use the `plt.title()`. function to set the title of the plot. You can use the `plt.xlabel()` and `plt.ylabel()` functions to set the x and y axis labels.\n",
    "\n",
    "> ***Tip***: Before calling `plt.show()`, ensure you have plotted both the ideal gas law and the critical point on the same plot.\n",
    "\n",
    "> ***Tip***: You can get the docstring for a function by using the ? symbol after the function name"
   ]
  },
  {
   "attachments": {},
   "cell_type": "markdown",
   "metadata": {},
   "source": [
    "### Peng-Robinson Equation of State Polynomial Form\n",
    "\n",
    "<center><img src=images/preos_polynomial.png widht=\"110%\"></center>\n",
    "\n",
    "In a more compact and dimensionless form, the Peng-Robinson EOS can be restated as a cubic in $Z$. This is the polynomial form of the Peng Robinson Equation of State. This sets up a cubic equation in $Z$, which has three real roots (as opposed to being imaginary). The largest root is the value of $Z_v$; the smallest root is the value of $Z_L$; and the third root is discarded as having no physical meaning.\n",
    "\n",
    "So how do we solve for the roots? In Python, we will use the module `CubicEquationSolver` which contains the function `solve(a, b, c, d)` which takes the coefficients of the cubic equation and returns the roots in an array.\n",
    "\n",
    "Polynomial Structure:\n",
    "\n",
    "$${ax^3} + {bx^2} + {cx} + {d} = 0$$"
   ]
  },
  {
   "attachments": {},
   "cell_type": "markdown",
   "metadata": {},
   "source": [
    "#### Breaking up the equation: $Z^3$\n",
    "\n",
    "Define the variable Z_3 as the coefficient of $Z^3$ from the polynomial"
   ]
  },
  {
   "attachments": {},
   "cell_type": "markdown",
   "metadata": {},
   "source": [
    "#### Breaking up the equation: $Z^2$\n",
    "\n",
    "Define the variable Z_2 as the coefficient of $Z^2$ from the polynomial\n",
    "\n",
    "> ***Tip***: $-(1-B)$ \n",
    "\n",
    "> ***Tip***: $B = \\frac{bP}{RT}$\n",
    "\n",
    "> ***Tip***: Use the variable b from the previous task "
   ]
  },
  {
   "attachments": {},
   "cell_type": "markdown",
   "metadata": {},
   "source": [
    "#### Breaking up the equation: $Z_1$\n",
    "\n",
    "Define the variable Z_1 as the coefficient of $Z^1$ from the polynomial\n",
    "\n",
    "> ***Tip***: $(A-2B-3B^2)$\n",
    "\n",
    "> ***Tip***: $A = \\frac{aP}{R^2T^2}$\n",
    "\n",
    "> ***Tip***: a is the variable from the previous task **BUT it must be adjusted due to the alpha function, which is a function of T!**"
   ]
  },
  {
   "attachments": {},
   "cell_type": "markdown",
   "metadata": {},
   "source": [
    "#### Breaking up the equation: $Z_0$\n",
    "\n",
    "Define the variable Z_0 as the coefficient of $Z_O$ from the polynomial\n",
    "\n",
    "> ***Tip***: $-(AB-B^2-B^3)$"
   ]
  },
  {
   "attachments": {},
   "cell_type": "markdown",
   "metadata": {},
   "source": [
    "#### Solving for the roots\n",
    "\n",
    "Recall that you will need to use the `CubicEquationSolver` module to solve for the roots. The function is `solve(a, b, c, d)` where it takes the coefficients of the polynomial. Furthermore, the return value is an array of the roots. As there are three roots, you will need to store each root in a variable. The variables should be called:\n",
    "\n",
    "Z_v: The largest root\n",
    "\n",
    "Z_L: The smallest root\n",
    "\n",
    "Z_none: The middle root"
   ]
  },
  {
   "attachments": {},
   "cell_type": "markdown",
   "metadata": {},
   "source": [
    "### Task 6: Peng-Robinson Equation of State Plot - Roots\n",
    "\n",
    "Now let's take a look at the plot of CO<sub>2</sub> at temperature 284.0K and pressure at 4.6 MPa. On the plot we will also plot the saturation pressure and the saturation temperature, acquired from literature."
   ]
  },
  {
   "attachments": {},
   "cell_type": "markdown",
   "metadata": {},
   "source": [
    "#### Task 6.1: Calculating the Volumes at the roots\n",
    "\n",
    "Calculate the volumes at the roots of the Peng-Robinson Equation of State for the gas, CO<sub>2</sub>, at the temperature 284.0K and pressure at 4.6 MPa.\n",
    "\n",
    "The equation for the volume is:\n",
    "\n",
    "$$V = \\frac{RTZ}{P}$$\n",
    "\n",
    "where:\n",
    "\n",
    "* $R$ is the ideal gas constant\n",
    "* $T$ is the temperature\n",
    "* $P$ is the pressure\n",
    "* $Z$ is the root of the Peng-Robinson Equation of State\n",
    "\n",
    "The volume variable names should be\n",
    "\n",
    "V_v: The volume at the largest root\n",
    "\n",
    "V_L: The volume at the smallest root\n",
    "\n",
    "V_none: The volume at the middle root\n",
    "\n",
    "> ***Tip***: Use the variables from the previous task"
   ]
  },
  {
   "attachments": {},
   "cell_type": "markdown",
   "metadata": {},
   "source": [
    "#### Task 6.2: Plot the volumes at the roots on the Peng-Robinson Equation of State Plot of CO<sub>2</sub> at 284.0K and 4.6 MPa\n",
    "\n",
    "Plot the volumes at the roots on the Peng-Robinson Equation of State Plot of CO<sub>2</sub> at 284.0K and 4.6 MPa. \n",
    "\n",
    "You will need to use the `plt.scatter()` function to plot the points. The function takes the following arguments: `plt.scatter(x, y, label)`. The x and y arguments are the x and y coordinates of the point and the label is what will be shown in the legend. \n",
    "\n",
    "Further to this, you will need to annotate two of the points with either `Dew Point` or `Bubble Point`.You will need to use the `plt.annotate()` function to annotate the points. The function takes the following arguments: `plt.annotate(text, xy=(x, y), rotation=45)`. The text argument is the text to be displayed. The xy argument is the x and y coordinates of the point. The rotation argument is the rotation of the text. In this instance, it will be set to 45 degrees.\n",
    "\n",
    "After you have plotted the points, you will need to use the the function `plot_example_ideal_gas_law_and_peng_robinson_eos()`, as can be seen in the example above of the plot."
   ]
  },
  {
   "attachments": {},
   "cell_type": "markdown",
   "metadata": {},
   "source": [
    "### Task 7: Peng-Robinson Equation of State - Mixing Rules & Fugacity Coefficients\n",
    "\n",
    "In the previous tasks we have only been looking at the Peng-Robinson Equation of State for a single component. However, in reality, we are often dealing with mixtures of components. In this task, we will look at how to use the Peng-Robinson Equation of State to predict the fugacity coefficients of a mixture of components.\n",
    "\n",
    "The fugacity coefficient is defined as the ratio of fugacity to pressure [[1]](https://www.chemeurope.com/en/encyclopedia/Fugacity.html). For gases at low pressures (where the ideal gas law is a good approximation), fugacity is roughly equal to pressure. Thus, for an ideal gas, the ratio between fugacity and pressure (the fugacity coefficient) is equal to 1 [[1]](https://www.chemeurope.com/en/encyclopedia/Fugacity.html). This ratio can be thought of as ‘how closely’ a real gas behaves like an ideal gas [[1]](https://www.chemeurope.com/en/encyclopedia/Fugacity.html)."
   ]
  },
  {
   "attachments": {},
   "cell_type": "markdown",
   "metadata": {},
   "source": [
    "#### Task 7.1: Peng-Robinson Equation of State - Mixing Rules\n",
    "\n",
    "<center><img src='images/mixing_rules.png'></center>\n",
    "\n",
    "The next cell provides you with the variables required and the chemical data for components in a DataFrame. The DataFrame is called `chemical_data_df`\n",
    "\n",
    "The chemical data contains the following columns:\n",
    "\n",
    "* `Element`: The element name\n",
    "* `Tc(K)`: The critical temperature of the element\n",
    "* `Pc(MPa)`: The critical pressure of the element\n",
    "* `Vc(cm3/mol)`: The critical volume of the element\n",
    "* `w`: The acentric factor of the element\n",
    "\n",
    "Below is the element names will be printed, as well as the number of rows and names of the columns."
   ]
  },
  {
   "cell_type": "code",
   "execution_count": 2,
   "metadata": {},
   "outputs": [
    {
     "name": "stdout",
     "output_type": "stream",
     "text": [
      "Index(['Element', 'Tc_K', 'Pc_MPa', 'Vc_cm3_mol', 'w'], dtype='object')\n",
      "------------------\n",
      "Number of rows:  76\n",
      "Number of columns:  5\n",
      "------------------\n",
      "List of elements:  ['Argon' 'Bromine' 'Chlorine' 'Fluorine' 'Helium-4' 'Hydrogen' 'Iodine'\n",
      " 'Krypton' 'Neon' 'Nitrogen' 'Oxygen' 'Xenon' 'Acetylene' 'Benzene'\n",
      " 'n-Butane' '1-Butene' 'Cyclobutane' 'Cyclohexane' 'Cyclopropane' 'Ethane'\n",
      " 'Ethylene' 'n-Heptane' 'n-Hexane' 'Isobutane' 'Isobutylene' 'Isopentane'\n",
      " 'Methane' 'Naphthalene' 'n-Octane' 'n-Pentane' 'Propadiene' 'Propane'\n",
      " 'Propylene' 'Toluene' 'm-Xylene' 'o-Xylene' 'p-Xylene' 'Ammonia'\n",
      " 'Carbon dioxide' 'Carbon disulfide' 'Carbon monoxide'\n",
      " 'Carbon tetrachloride' 'Carbon tetrafluoride' 'Chloroform' 'Hydrazine'\n",
      " 'Hydrogen chloride' 'Hydrogen fluoride' 'Hydrogen sulfide' 'Nitric oxide'\n",
      " 'Nitrous oxide' 'Sulfur dioxide' 'Sulfur trioxide' 'Water' 'Acetaldehyde'\n",
      " 'Acetic acid' 'Acetone' 'Acetonitrile' 'Aniline' 'n-Butanol'\n",
      " 'Chlorobenzene' 'Dichlorodifluoromethane (Freon 12)' 'Diethyl ether'\n",
      " 'Dimethyl ether' 'Ethanol' 'Ethylene oxide' 'Isobutanol'\n",
      " 'Isopropyl alcohol' 'Methanol' 'Methyl chloride' 'Methyl ethyl ketone'\n",
      " 'Phenol' '1-Propanol' 'Pyridine' 'Trichlorotrifluoroethane (Freon 113)'\n",
      " 'Trichlorofluoromethane (Freon 11)' 'Trimethylamine']\n"
     ]
    }
   ],
   "source": [
    "# Shift + Enter to run the code\n",
    "import pandas as pd\n",
    "import numpy as np\n",
    "import matplotlib.pyplot as plt\n",
    "\n",
    "R = 8.314 # J/(mol*K)\n",
    "T = 233.2 # K\n",
    "P = 0.1 # MPa\n",
    "\n",
    "chemical_data_df = pd.read_csv(\"src/Critical_Constants_and_Acentric_Factors.csv\")\n",
    "\n",
    "print(chemical_data_df.columns)\n",
    "print('------------------')\n",
    "print('Number of rows: ', chemical_data_df.shape[0])\n",
    "print('Number of columns: ', chemical_data_df.shape[1])\n",
    "print('------------------')\n",
    "print('List of elements: ', chemical_data_df['Element'].unique())"
   ]
  },
  {
   "attachments": {},
   "cell_type": "markdown",
   "metadata": {},
   "source": [
    "##### Task 7.1.1: Peng-Robinson Equation of State - Mixing Rules - Binary Mixture\n",
    "\n",
    "You have been provided with the chemical data for two components, Methane and Propane. The chemical data is stored in the DataFrame `chemical_data_df`. \n",
    "\n",
    "The mol fractions of the components are:\n",
    "\n",
    "* $x_{CH_4}$ = 0.4\n",
    "* $x_{C_3H_8}$ = 0.6\n",
    "\n",
    "You will need to do the following:\n",
    "\n",
    "1. Create a table of the chemical data for the two components, Methane<sub>2</sub> and Propane<sub>2</sub>. The table should be called `chemical_data_df_binary_mixture`. It should have the following columns:\n",
    "   \n",
    "    * `Methane`\n",
    "    * `Propane`\n",
    "\n",
    "    It then should have the following index:\n",
    "   \n",
    "    * `mol_frac`\n",
    "    * `Tc_K`\n",
    "    * `Pc_MPa`\n",
    "    * `w`\n",
    "    * `ai`\n",
    "    * `bi`\n",
    "    * `ki`\n",
    "\n",
    "2. Fill in the table with the correct values. The values for the `mol_frac` column should be the mol fractions of the components. The values for the `Tc_K` column should be the critical temperature of the components. The values for the `Pc_MPa` column should be the critical pressure of the components. The values for the `w` column should be the acentric factor of the components. The values for the `ai` column should be the attraction parameter of the component. The values for the `bi` column should be the covolume for the component. The values for the `ki` column should be the binary interaction of component.\n",
    "\n",
    "> ***Tip***: Creating an empty table (or rather, DataFrame) can be done using the `pd.DataFrame()` function. The function takes the following arguments: `pd.DataFrame(columns, index)`. The index argument is the index of the DataFrame and the columns argument is the columns of the DataFrame. These both accept only lists - `[]`.\n",
    "\n",
    "> ***Tip***: You will need to use the `chemical_data_df` DataFrame to get the values for the `Tc_K`, `Pc_MPa` and `w` columns. You will need to use the `ai()` function to get the values for the `ai` column. You will need to use the `bi()` function to get the values for the `bi` column. You will need to use the `ki()` function to get the values for the `ki` column.\n",
    "\n",
    "> ***Tip***: Access rows and setting them will require the use of the `.loc[]` function. The function takes the following arguments: `.loc[column]`. The column argument is the column to be accessed. The function will return the row of the column. To set the row of the column, you will need to use the following syntax: `.loc[column] = row`. The column argument is the column to be accessed. The row argument is the row to be set. Ensure the column is a string and the row is a list."
   ]
  },
  {
   "cell_type": "code",
   "execution_count": 4,
   "metadata": {},
   "outputs": [
    {
     "ename": "NameError",
     "evalue": "name 'chemical_data_df_binary_mixture' is not defined",
     "output_type": "error",
     "traceback": [
      "\u001b[0;31m---------------------------------------------------------------------------\u001b[0m",
      "\u001b[0;31mNameError\u001b[0m                                 Traceback (most recent call last)",
      "Cell \u001b[0;32mIn[4], line 6\u001b[0m\n\u001b[1;32m      1\u001b[0m \u001b[39mfrom\u001b[39;00m \u001b[39msrc\u001b[39;00m\u001b[39m.\u001b[39;00m\u001b[39mthermo\u001b[39;00m \u001b[39mimport\u001b[39;00m get_chemical_values\n\u001b[1;32m      4\u001b[0m \u001b[39m# Get the values for Tc_K - You will need to run the get_chemical_values function. Remember to use ?get_chemical_values to get help\u001b[39;00m\n\u001b[0;32m----> 6\u001b[0m chemical_data_df_binary_mixture\u001b[39m.\u001b[39mloc[\u001b[39m'\u001b[39m\u001b[39mTc_K\u001b[39m\u001b[39m'\u001b[39m] \u001b[39m=\u001b[39m \u001b[39mNone\u001b[39;00m \u001b[39m# < - Enter your code here, remove None\u001b[39;00m\n\u001b[1;32m      8\u001b[0m \u001b[39m# Get the values for Pc_MPa - You will need to run the get_chemical_values function. Remember to use ?get_chemical_values to get help\u001b[39;00m\n\u001b[1;32m      9\u001b[0m chemical_data_df_binary_mixture\u001b[39m.\u001b[39mloc[\u001b[39m'\u001b[39m\u001b[39mPc_MPa\u001b[39m\u001b[39m'\u001b[39m] \u001b[39m=\u001b[39m \u001b[39mNone\u001b[39;00m \u001b[39m# < - Enter your code here, remove None\u001b[39;00m\n",
      "\u001b[0;31mNameError\u001b[0m: name 'chemical_data_df_binary_mixture' is not defined"
     ]
    }
   ],
   "source": [
    "from src.thermo import get_chemical_values\n",
    "\n",
    "\n",
    "# Get the values for Tc_K - You will need to run the get_chemical_values function. Remember to use ?get_chemical_values to get help\n",
    "\n",
    "chemical_data_df_binary_mixture.loc['Tc_K'] = None # < - Enter your code here, remove None\n",
    "\n",
    "# Get the values for Pc_MPa - You will need to run the get_chemical_values function. Remember to use ?get_chemical_values to get help\n",
    "chemical_data_df_binary_mixture.loc['Pc_MPa'] = None # < - Enter your code here, remove None\n",
    "\n",
    "# Get the values for w - You will need to run the get_chemical_values function. Remember to use ?get_chemical_values to get help\n",
    "chemical_data_df_binary_mixture.loc['w'] = None # < - Enter your code here, remove None\n",
    "\n",
    "print(chemical_data_df_binary_mixture)"
   ]
  },
  {
   "attachments": {},
   "cell_type": "markdown",
   "metadata": {},
   "source": []
  }
 ],
 "metadata": {
  "kernelspec": {
   "display_name": "thermo_env",
   "language": "python",
   "name": "python3"
  },
  "language_info": {
   "codemirror_mode": {
    "name": "ipython",
    "version": 3
   },
   "file_extension": ".py",
   "mimetype": "text/x-python",
   "name": "python",
   "nbconvert_exporter": "python",
   "pygments_lexer": "ipython3",
   "version": "3.9.16"
  },
  "orig_nbformat": 4,
  "vscode": {
   "interpreter": {
    "hash": "46d651a8e253cbf9e4a0030eaf36195ff27b64b8f54f1eaf21374660fc033629"
   }
  }
 },
 "nbformat": 4,
 "nbformat_minor": 2
}
