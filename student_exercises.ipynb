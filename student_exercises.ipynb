{
 "cells": [
  {
   "cell_type": "markdown",
   "metadata": {},
   "source": [
    "# Thermo B - Student Exercises"
   ]
  },
  {
   "cell_type": "markdown",
   "metadata": {},
   "source": [
    "# Pressure-Volume Diagram\n",
    "\n",
    "<center><img src=\"/home/calvin/Code/Thermo_B/images/PvVDia.png\" width=\"60%\" ></center>\n",
    "\n",
    "In a pressure-volume diagram, each region corresponds to the range of combinations of temperature and pressure over which that phase is stable [1](https://chem.libretexts.org/Bookshelves/General_Chemistry/Map%3A_General_Chemistry_(Petrucci_et_al.)/12%3A_Intermolecular_Forces%3A_Liquids_And_Solids/12.4%3A_Phase_Diagrams)\n",
    "\n",
    "**Liquid Region**: The liquid region would be where the substance is in its liquid phase at a given combination of temperature and pressure.\n",
    "\n",
    "**Liquid-Vapor Region**: The liquid-vapor region on a pressure-volume diagram represents the range of values where both liquid and vapor phases can coexist at equilibrium\n",
    "\n",
    "**Vapour Region**: The vapour region would be where the substance is in its vapour phase at a given combination of temperature and pressure.\n",
    "\n",
    "**Gas Region**: The gas region would be where the substance is in its gas phase at a given combination of temperature and pressure.\n",
    "\n",
    "**Supercritical Region**: In a pressure-temperature phase diagram, the supercritical region is where the liquid and gas phases disappear to become a single supercritical phase [1](https://en.wikipedia.org/wiki/Supercritical_fluid). This occurs at conditions beyond the critical point, where temperature and pressure are both higher than their respective critical values."
   ]
  },
  {
   "cell_type": "markdown",
   "metadata": {},
   "source": [
    "## Ideal Gas Law\n",
    "\n",
    "The ideal gas law is a mathematical expression of the state of a hypothetical ideal gas, derived from the kinetic theory of gases and named by the French physicist Jacques Charles in 1787 [1](https://en.wikipedia.org/wiki/Ideal_gas_law). It is a special case of the general gas law, which describes the state of any gas.\n",
    "\n",
    "$$PV = nRT$$\n",
    "\n",
    "where:\n",
    "\n",
    "* $P$ is the pressure of the gas\n",
    "* $V$ is the volume of the gas\n",
    "* $n$ is the number of moles of gas\n",
    "* $R$ is the ideal gas constant\n",
    "* $T$ is the temperature of the gas"
   ]
  },
  {
   "cell_type": "markdown",
   "metadata": {},
   "source": [
    "### Task 1: Idea Gas Law Calculation\n",
    "\n",
    "Calculate the theoretical pressure of the gas, CO<sub>2</sub>, at various temperatures and volumes.\n",
    "\n",
    "> **Python**: For this task, you will need to use the ideal gas law function from the `thermo` module. The function is called `ideal_gas_law` and takes the following arguments: `ideal_gas_law(gas_constant: float, list_of_volumes: List, list_of_temperatures: List)`. The function returns a Dataframe with the calculated pressures for each combination of temperature and volume. The index of the Dataframe is the volume and the columns are the temperatures."
   ]
  },
  {
   "cell_type": "code",
   "execution_count": 73,
   "metadata": {},
   "outputs": [],
   "source": [
    "# Press Shift+Enter to run the code\n",
    "from src.thermo import ideal_gas_law"
   ]
  },
  {
   "attachments": {},
   "cell_type": "markdown",
   "metadata": {},
   "source": [
    "> ***Recommended***: You can get the docstring for a function by using the ? symbol after the function name"
   ]
  },
  {
   "cell_type": "code",
   "execution_count": 81,
   "metadata": {},
   "outputs": [
    {
     "name": "stdout",
     "output_type": "stream",
     "text": [
      "\u001b[0;31mInit signature:\u001b[0m\n",
      "\u001b[0mpd\u001b[0m\u001b[0;34m.\u001b[0m\u001b[0mDataFrame\u001b[0m\u001b[0;34m(\u001b[0m\u001b[0;34m\u001b[0m\n",
      "\u001b[0;34m\u001b[0m    \u001b[0mdata\u001b[0m\u001b[0;34m=\u001b[0m\u001b[0;32mNone\u001b[0m\u001b[0;34m,\u001b[0m\u001b[0;34m\u001b[0m\n",
      "\u001b[0;34m\u001b[0m    \u001b[0mindex\u001b[0m\u001b[0;34m:\u001b[0m \u001b[0;34m'Axes | None'\u001b[0m \u001b[0;34m=\u001b[0m \u001b[0;32mNone\u001b[0m\u001b[0;34m,\u001b[0m\u001b[0;34m\u001b[0m\n",
      "\u001b[0;34m\u001b[0m    \u001b[0mcolumns\u001b[0m\u001b[0;34m:\u001b[0m \u001b[0;34m'Axes | None'\u001b[0m \u001b[0;34m=\u001b[0m \u001b[0;32mNone\u001b[0m\u001b[0;34m,\u001b[0m\u001b[0;34m\u001b[0m\n",
      "\u001b[0;34m\u001b[0m    \u001b[0mdtype\u001b[0m\u001b[0;34m:\u001b[0m \u001b[0;34m'Dtype | None'\u001b[0m \u001b[0;34m=\u001b[0m \u001b[0;32mNone\u001b[0m\u001b[0;34m,\u001b[0m\u001b[0;34m\u001b[0m\n",
      "\u001b[0;34m\u001b[0m    \u001b[0mcopy\u001b[0m\u001b[0;34m:\u001b[0m \u001b[0;34m'bool | None'\u001b[0m \u001b[0;34m=\u001b[0m \u001b[0;32mNone\u001b[0m\u001b[0;34m,\u001b[0m\u001b[0;34m\u001b[0m\n",
      "\u001b[0;34m\u001b[0m\u001b[0;34m)\u001b[0m \u001b[0;34m->\u001b[0m \u001b[0;34m'None'\u001b[0m\u001b[0;34m\u001b[0m\u001b[0;34m\u001b[0m\u001b[0m\n",
      "\u001b[0;31mDocstring:\u001b[0m     \n",
      "Two-dimensional, size-mutable, potentially heterogeneous tabular data.\n",
      "\n",
      "Data structure also contains labeled axes (rows and columns).\n",
      "Arithmetic operations align on both row and column labels. Can be\n",
      "thought of as a dict-like container for Series objects. The primary\n",
      "pandas data structure.\n",
      "\n",
      "Parameters\n",
      "----------\n",
      "data : ndarray (structured or homogeneous), Iterable, dict, or DataFrame\n",
      "    Dict can contain Series, arrays, constants, dataclass or list-like objects. If\n",
      "    data is a dict, column order follows insertion-order. If a dict contains Series\n",
      "    which have an index defined, it is aligned by its index.\n",
      "\n",
      "    .. versionchanged:: 0.25.0\n",
      "       If data is a list of dicts, column order follows insertion-order.\n",
      "\n",
      "index : Index or array-like\n",
      "    Index to use for resulting frame. Will default to RangeIndex if\n",
      "    no indexing information part of input data and no index provided.\n",
      "columns : Index or array-like\n",
      "    Column labels to use for resulting frame when data does not have them,\n",
      "    defaulting to RangeIndex(0, 1, 2, ..., n). If data contains column labels,\n",
      "    will perform column selection instead.\n",
      "dtype : dtype, default None\n",
      "    Data type to force. Only a single dtype is allowed. If None, infer.\n",
      "copy : bool or None, default None\n",
      "    Copy data from inputs.\n",
      "    For dict data, the default of None behaves like ``copy=True``.  For DataFrame\n",
      "    or 2d ndarray input, the default of None behaves like ``copy=False``.\n",
      "    If data is a dict containing one or more Series (possibly of different dtypes),\n",
      "    ``copy=False`` will ensure that these inputs are not copied.\n",
      "\n",
      "    .. versionchanged:: 1.3.0\n",
      "\n",
      "See Also\n",
      "--------\n",
      "DataFrame.from_records : Constructor from tuples, also record arrays.\n",
      "DataFrame.from_dict : From dicts of Series, arrays, or dicts.\n",
      "read_csv : Read a comma-separated values (csv) file into DataFrame.\n",
      "read_table : Read general delimited file into DataFrame.\n",
      "read_clipboard : Read text from clipboard into DataFrame.\n",
      "\n",
      "Notes\n",
      "-----\n",
      "Please reference the :ref:`User Guide <basics.dataframe>` for more information.\n",
      "\n",
      "Examples\n",
      "--------\n",
      "Constructing DataFrame from a dictionary.\n",
      "\n",
      ">>> d = {'col1': [1, 2], 'col2': [3, 4]}\n",
      ">>> df = pd.DataFrame(data=d)\n",
      ">>> df\n",
      "   col1  col2\n",
      "0     1     3\n",
      "1     2     4\n",
      "\n",
      "Notice that the inferred dtype is int64.\n",
      "\n",
      ">>> df.dtypes\n",
      "col1    int64\n",
      "col2    int64\n",
      "dtype: object\n",
      "\n",
      "To enforce a single dtype:\n",
      "\n",
      ">>> df = pd.DataFrame(data=d, dtype=np.int8)\n",
      ">>> df.dtypes\n",
      "col1    int8\n",
      "col2    int8\n",
      "dtype: object\n",
      "\n",
      "Constructing DataFrame from a dictionary including Series:\n",
      "\n",
      ">>> d = {'col1': [0, 1, 2, 3], 'col2': pd.Series([2, 3], index=[2, 3])}\n",
      ">>> pd.DataFrame(data=d, index=[0, 1, 2, 3])\n",
      "   col1  col2\n",
      "0     0   NaN\n",
      "1     1   NaN\n",
      "2     2   2.0\n",
      "3     3   3.0\n",
      "\n",
      "Constructing DataFrame from numpy ndarray:\n",
      "\n",
      ">>> df2 = pd.DataFrame(np.array([[1, 2, 3], [4, 5, 6], [7, 8, 9]]),\n",
      "...                    columns=['a', 'b', 'c'])\n",
      ">>> df2\n",
      "   a  b  c\n",
      "0  1  2  3\n",
      "1  4  5  6\n",
      "2  7  8  9\n",
      "\n",
      "Constructing DataFrame from a numpy ndarray that has labeled columns:\n",
      "\n",
      ">>> data = np.array([(1, 2, 3), (4, 5, 6), (7, 8, 9)],\n",
      "...                 dtype=[(\"a\", \"i4\"), (\"b\", \"i4\"), (\"c\", \"i4\")])\n",
      ">>> df3 = pd.DataFrame(data, columns=['c', 'a'])\n",
      "...\n",
      ">>> df3\n",
      "   c  a\n",
      "0  3  1\n",
      "1  6  4\n",
      "2  9  7\n",
      "\n",
      "Constructing DataFrame from dataclass:\n",
      "\n",
      ">>> from dataclasses import make_dataclass\n",
      ">>> Point = make_dataclass(\"Point\", [(\"x\", int), (\"y\", int)])\n",
      ">>> pd.DataFrame([Point(0, 0), Point(0, 3), Point(2, 3)])\n",
      "   x  y\n",
      "0  0  0\n",
      "1  0  3\n",
      "2  2  3\n",
      "\u001b[0;31mFile:\u001b[0m           ~/mambaforge/envs/thermo_env/lib/python3.9/site-packages/pandas/core/frame.py\n",
      "\u001b[0;31mType:\u001b[0m           type\n",
      "\u001b[0;31mSubclasses:\u001b[0m     SubclassedDataFrame"
     ]
    }
   ],
   "source": []
  },
  {
   "attachments": {},
   "cell_type": "markdown",
   "metadata": {},
   "source": [
    "list_of_volumes is a list of volumes in m^3 - You will need to create this list, ranging from 30 to 600 in steps of 1 (Don't forget that the range function does not include the last value)\n"
   ]
  },
  {
   "cell_type": "code",
   "execution_count": 2,
   "metadata": {},
   "outputs": [],
   "source": [
    "# Constant values for the ideal gas law function\n",
    "## R is the gas constant\n",
    "## list_of_volumes is a list of volumes in m^3 - You will need to create this list, ranging from 30 to 600 in steps of 1 (Don't forget that the range function does not include the last value)\n",
    "## list_of_temperatures is a list of temperatures in K - You will need to create this list. The values of the temperatures are: 255.2, 265.1, 274.4, 284.0, 294.4, 304.1, 334.1, 354.1\n",
    "\n",
    "R = 8.314 # cm^3 MPa / K mol\n",
    "list_of_volumes = list(range('START', 'END','STEP'))# cm^3 \n",
    "list_of_temperatures = ['Put Values Here'] # K"
   ]
  },
  {
   "cell_type": "code",
   "execution_count": 3,
   "metadata": {},
   "outputs": [],
   "source": [
    "### Teacher Solution\n",
    "\n",
    "R = 8.314 # J/mol*K\n",
    "list_of_volumes = list(range(30, 601)) # m^3\n",
    "list_of_temperatures = [255.2, 265.1, 274.4, 284.0, 294.4, 304.1, 334.1, 354.1] # K"
   ]
  },
  {
   "cell_type": "code",
   "execution_count": 4,
   "metadata": {},
   "outputs": [
    {
     "name": "stderr",
     "output_type": "stream",
     "text": [
      "UsageError: Line magic function `%%script` not found.\n"
     ]
    }
   ],
   "source": [
    "# Call the ideal_gas_law function with the appropriate arguments and set it to the variable ideal_gas_law_df\n",
    "%%script false --no-raise-error\n",
    "ideal_gas_law_df = ideal_gas_law()"
   ]
  },
  {
   "cell_type": "code",
   "execution_count": 5,
   "metadata": {},
   "outputs": [
    {
     "data": {
      "text/html": [
       "<div>\n",
       "<style scoped>\n",
       "    .dataframe tbody tr th:only-of-type {\n",
       "        vertical-align: middle;\n",
       "    }\n",
       "\n",
       "    .dataframe tbody tr th {\n",
       "        vertical-align: top;\n",
       "    }\n",
       "\n",
       "    .dataframe thead th {\n",
       "        text-align: right;\n",
       "    }\n",
       "</style>\n",
       "<table border=\"1\" class=\"dataframe\">\n",
       "  <thead>\n",
       "    <tr style=\"text-align: right;\">\n",
       "      <th></th>\n",
       "      <th>255.2</th>\n",
       "      <th>265.1</th>\n",
       "      <th>274.4</th>\n",
       "      <th>284.0</th>\n",
       "      <th>294.4</th>\n",
       "      <th>304.1</th>\n",
       "      <th>334.1</th>\n",
       "      <th>354.1</th>\n",
       "    </tr>\n",
       "  </thead>\n",
       "  <tbody>\n",
       "    <tr>\n",
       "      <th>30</th>\n",
       "      <td>70.724427</td>\n",
       "      <td>73.468047</td>\n",
       "      <td>76.045387</td>\n",
       "      <td>78.705867</td>\n",
       "      <td>81.588053</td>\n",
       "      <td>84.276247</td>\n",
       "      <td>92.590247</td>\n",
       "      <td>98.132913</td>\n",
       "    </tr>\n",
       "    <tr>\n",
       "      <th>31</th>\n",
       "      <td>68.442994</td>\n",
       "      <td>71.098110</td>\n",
       "      <td>73.592310</td>\n",
       "      <td>76.166968</td>\n",
       "      <td>78.956181</td>\n",
       "      <td>81.557658</td>\n",
       "      <td>89.603465</td>\n",
       "      <td>94.967335</td>\n",
       "    </tr>\n",
       "    <tr>\n",
       "      <th>32</th>\n",
       "      <td>66.304150</td>\n",
       "      <td>68.876294</td>\n",
       "      <td>71.292550</td>\n",
       "      <td>73.786750</td>\n",
       "      <td>76.488800</td>\n",
       "      <td>79.008981</td>\n",
       "      <td>86.803356</td>\n",
       "      <td>91.999606</td>\n",
       "    </tr>\n",
       "    <tr>\n",
       "      <th>33</th>\n",
       "      <td>64.294933</td>\n",
       "      <td>66.789133</td>\n",
       "      <td>69.132170</td>\n",
       "      <td>71.550788</td>\n",
       "      <td>74.170958</td>\n",
       "      <td>76.614770</td>\n",
       "      <td>84.172952</td>\n",
       "      <td>89.211739</td>\n",
       "    </tr>\n",
       "    <tr>\n",
       "      <th>34</th>\n",
       "      <td>62.403906</td>\n",
       "      <td>64.824747</td>\n",
       "      <td>67.098871</td>\n",
       "      <td>69.446353</td>\n",
       "      <td>71.989459</td>\n",
       "      <td>74.361394</td>\n",
       "      <td>81.697276</td>\n",
       "      <td>86.587865</td>\n",
       "    </tr>\n",
       "    <tr>\n",
       "      <th>...</th>\n",
       "      <td>...</td>\n",
       "      <td>...</td>\n",
       "      <td>...</td>\n",
       "      <td>...</td>\n",
       "      <td>...</td>\n",
       "      <td>...</td>\n",
       "      <td>...</td>\n",
       "      <td>...</td>\n",
       "    </tr>\n",
       "    <tr>\n",
       "      <th>596</th>\n",
       "      <td>3.559954</td>\n",
       "      <td>3.698056</td>\n",
       "      <td>3.827788</td>\n",
       "      <td>3.961705</td>\n",
       "      <td>4.106781</td>\n",
       "      <td>4.242093</td>\n",
       "      <td>4.660583</td>\n",
       "      <td>4.939576</td>\n",
       "    </tr>\n",
       "    <tr>\n",
       "      <th>597</th>\n",
       "      <td>3.553991</td>\n",
       "      <td>3.691862</td>\n",
       "      <td>3.821376</td>\n",
       "      <td>3.955069</td>\n",
       "      <td>4.099902</td>\n",
       "      <td>4.234987</td>\n",
       "      <td>4.652776</td>\n",
       "      <td>4.931302</td>\n",
       "    </tr>\n",
       "    <tr>\n",
       "      <th>598</th>\n",
       "      <td>3.548048</td>\n",
       "      <td>3.685688</td>\n",
       "      <td>3.814986</td>\n",
       "      <td>3.948455</td>\n",
       "      <td>4.093046</td>\n",
       "      <td>4.227905</td>\n",
       "      <td>4.644996</td>\n",
       "      <td>4.923056</td>\n",
       "    </tr>\n",
       "    <tr>\n",
       "      <th>599</th>\n",
       "      <td>3.542125</td>\n",
       "      <td>3.679535</td>\n",
       "      <td>3.808617</td>\n",
       "      <td>3.941863</td>\n",
       "      <td>4.086213</td>\n",
       "      <td>4.220847</td>\n",
       "      <td>4.637241</td>\n",
       "      <td>4.914837</td>\n",
       "    </tr>\n",
       "    <tr>\n",
       "      <th>600</th>\n",
       "      <td>3.536221</td>\n",
       "      <td>3.673402</td>\n",
       "      <td>3.802269</td>\n",
       "      <td>3.935293</td>\n",
       "      <td>4.079403</td>\n",
       "      <td>4.213812</td>\n",
       "      <td>4.629512</td>\n",
       "      <td>4.906646</td>\n",
       "    </tr>\n",
       "  </tbody>\n",
       "</table>\n",
       "<p>571 rows × 8 columns</p>\n",
       "</div>"
      ],
      "text/plain": [
       "         255.2      265.1      274.4      284.0      294.4      304.1  \\\n",
       "30   70.724427  73.468047  76.045387  78.705867  81.588053  84.276247   \n",
       "31   68.442994  71.098110  73.592310  76.166968  78.956181  81.557658   \n",
       "32   66.304150  68.876294  71.292550  73.786750  76.488800  79.008981   \n",
       "33   64.294933  66.789133  69.132170  71.550788  74.170958  76.614770   \n",
       "34   62.403906  64.824747  67.098871  69.446353  71.989459  74.361394   \n",
       "..         ...        ...        ...        ...        ...        ...   \n",
       "596   3.559954   3.698056   3.827788   3.961705   4.106781   4.242093   \n",
       "597   3.553991   3.691862   3.821376   3.955069   4.099902   4.234987   \n",
       "598   3.548048   3.685688   3.814986   3.948455   4.093046   4.227905   \n",
       "599   3.542125   3.679535   3.808617   3.941863   4.086213   4.220847   \n",
       "600   3.536221   3.673402   3.802269   3.935293   4.079403   4.213812   \n",
       "\n",
       "         334.1      354.1  \n",
       "30   92.590247  98.132913  \n",
       "31   89.603465  94.967335  \n",
       "32   86.803356  91.999606  \n",
       "33   84.172952  89.211739  \n",
       "34   81.697276  86.587865  \n",
       "..         ...        ...  \n",
       "596   4.660583   4.939576  \n",
       "597   4.652776   4.931302  \n",
       "598   4.644996   4.923056  \n",
       "599   4.637241   4.914837  \n",
       "600   4.629512   4.906646  \n",
       "\n",
       "[571 rows x 8 columns]"
      ]
     },
     "execution_count": 5,
     "metadata": {},
     "output_type": "execute_result"
    }
   ],
   "source": [
    "### Teacher Solution\n",
    "\n",
    "ideal_gas_law_df = ideal_gas_law(R, list_of_volumes, list_of_temperatures)\n",
    "ideal_gas_law_df"
   ]
  },
  {
   "cell_type": "markdown",
   "metadata": {},
   "source": [
    "### Task 2: Ideal Gas Law Plot and Critical Point\n",
    "\n",
    "In this task you will need to on the same plot:\n",
    "1. Plot the pressure of the gas, CO<sub>2</sub>, at various temperatures and volumes using the Dataframe from Task 1.\n",
    "2. Plot the critical point of the gas, CO<sub>2</sub>, on the pressure-volume diagram.\n",
    "\n",
    "> **Python**: For this task, you will need to use the `plot_ideal_gas_law` function from the `thermo` module. The function is called `plot_ideal_gas_law` and takes the following arguments: `plot_ideal_gas_law(ideal_gas_law_df: pd.DataFrame)`. The function returns a plot of the Dataframe. However, the plot will not be shown in the notebook. You will need to use the `plt.show()` function to display the plot. Additionally, you will need to use the `plt.figure(figsize=(width, height))` function to set the size of the plot. Recommended is a width of 10 and a height of 10. You will also need to use the `plt.title()` function to set the title of the plot. You can use the `plt.xlabel()` and `plt.ylabel()` functions to set the x and y axis labels.\n",
    "\n",
    "> ***Tip***: Before calling `plt.show()`, ensure you have plotted both the ideal gas law and the critical point on the same plot.\n",
    "\n",
    "> ***Tip***: You can get the docstring for a function by using the ? symbol after the function name\n",
    " "
   ]
  },
  {
   "cell_type": "code",
   "execution_count": 6,
   "metadata": {},
   "outputs": [],
   "source": [
    "# Press Shift+Enter to run the code\n",
    "from src.thermo import plot_ideal_gas_law\n",
    "import matplotlib.pyplot as plt"
   ]
  },
  {
   "cell_type": "code",
   "execution_count": 75,
   "metadata": {},
   "outputs": [
    {
     "name": "stdout",
     "output_type": "stream",
     "text": [
      "\u001b[0;31mSignature:\u001b[0m \u001b[0mplot_ideal_gas_law\u001b[0m\u001b[0;34m(\u001b[0m\u001b[0mideal_gas_law_df\u001b[0m\u001b[0;34m:\u001b[0m \u001b[0mpandas\u001b[0m\u001b[0;34m.\u001b[0m\u001b[0mcore\u001b[0m\u001b[0;34m.\u001b[0m\u001b[0mframe\u001b[0m\u001b[0;34m.\u001b[0m\u001b[0mDataFrame\u001b[0m\u001b[0;34m)\u001b[0m \u001b[0;34m->\u001b[0m \u001b[0;32mNone\u001b[0m\u001b[0;34m\u001b[0m\u001b[0;34m\u001b[0m\u001b[0m\n",
      "\u001b[0;31mDocstring:\u001b[0m <no docstring>\n",
      "\u001b[0;31mFile:\u001b[0m      ~/Code/Thermo_B/src/thermo.py\n",
      "\u001b[0;31mType:\u001b[0m      function"
     ]
    }
   ],
   "source": [
    "?plot_ideal_gas_law"
   ]
  },
  {
   "cell_type": "code",
   "execution_count": 7,
   "metadata": {},
   "outputs": [],
   "source": [
    "# From literature of CO2 Critical Point\n",
    "critical_point_pressure = 7.377 # MPa\n",
    "critical_point_temperature = 304.1 # K\n",
    "critical_point_volume = 94.120 # cm^3"
   ]
  },
  {
   "cell_type": "code",
   "execution_count": 8,
   "metadata": {},
   "outputs": [
    {
     "name": "stderr",
     "output_type": "stream",
     "text": [
      "UsageError: Line magic function `%%script` not found.\n"
     ]
    }
   ],
   "source": [
    "# Call the plot_ideal_gas_law function with the appropriate argument - You will not need to set it as a variable\n",
    "# \n",
    "%%script false --no-raise-error\n",
    "plot_ideal_gas_law()"
   ]
  },
  {
   "cell_type": "code",
   "execution_count": 9,
   "metadata": {},
   "outputs": [
    {
     "data": {
      "image/png": "[encoded data removed]",
      "text/plain": [
       "<Figure size 1000x1000 with 1 Axes>"
      ]
     },
     "metadata": {},
     "output_type": "display_data"
    }
   ],
   "source": [
    "### Teacher Solution\n",
    "\n",
    "plt.figure(figsize=(10, 10))\n",
    "\n",
    "plot_ideal_gas_law(ideal_gas_law_df)\n",
    "\n",
    "plt.xlabel('Volume (cm^3)')\n",
    "plt.ylabel('Pressure (MPa)')\n",
    "\n",
    "plt.scatter(critical_point_volume, critical_point_pressure, color='red', label='Critical Point')\n",
    "\n",
    "plt.legend()\n",
    "plt.title('Pressure vs. Volume of CO2 at Different Temperatures (Ideal Gas Law)')\n",
    "\n",
    "plt.show()"
   ]
  },
  {
   "cell_type": "markdown",
   "metadata": {},
   "source": [
    "As it can be seen, the Critical Point of CO<sub>2</sub> is nowhere near the ideal gas law for temperature 304.1K\n",
    "\n",
    "#### Assumptions:\n",
    "\n",
    "* The gas is a perfect gas\n",
    "* The volume of the gas is negligible compared to the volume of the container\n",
    "* There is no intermolecular attraction or repulsion between the gas molecules\n",
    "\n",
    "#### Limitations:\n",
    "\n",
    "* The ideal gas law is only valid for a small range of temperatures and pressures\n",
    "* It is unrealiable at high pressures and low temperatures\n",
    "* Cannot predict vapur-liquid coexistence"
   ]
  },
  {
   "cell_type": "markdown",
   "metadata": {},
   "source": [
    "## Peng-Robinson Equation of State\n",
    "\n",
    "<center><img src=/home/calvin/Code/Thermo_B/images/preos.png width=\"60%\"></center>\n",
    "\n",
    "The Peng-Robinson equation of state (PR EOS) is a cubic equation of state that was developed in 1976 at The University of Alberta by Ding-Yu Peng and Donald Robinson [1](https://en.wikipedia.org/wiki/Cubic_equations_of_state). It is used to predict the behavior of fluids, particularly natural gas systems [2](https://eng.libretexts.org/Bookshelves/Chemical_Engineering/Phase_Relations_in_Reservoir_Engineering_(Adewumi)/11%3A_Cubic_EOS_and_Their_Behavior_III/11.01%3A_Peng-Robinson_EOS_(1976)).\n",
    "\n",
    "The PR EOS is more accurate than the Ideal Gas Law for predicting the behavior of real gases because it takes into account molecular interactions and volume [3](https://www.sciencedirect.com/topics/chemistry/peng-robinson-equation-of-state)."
   ]
  },
  {
   "cell_type": "markdown",
   "metadata": {},
   "source": [
    "### Task 3: Peng-Robinson Equation of State Calculation\n",
    "\n",
    "Calculate the theoretical pressure of the gas, CO<sub>2</sub>, at various temperatures and volumes using the Peng-Robinson Equation of State.\n",
    "\n",
    "> **Python**: For this task, you will need to use the Peng-Robinson Equation of State function from the `thermo` module. The function is called `peng_robinson_eos` and takes the following arguments: `peng_robinson_eos(gas_constant: float, list_of_volumes: List, list_of_temperatures: List, kappa: float, bc: float, ac: float, alpha: Callable)`. The function returns a Dataframe with the calculated pressures for each combination of temperature and volume. The index of the Dataframe is the volume and the columns are the temperatures."
   ]
  },
  {
   "cell_type": "code",
   "execution_count": 10,
   "metadata": {},
   "outputs": [],
   "source": [
    "from src.thermo import peng_robinson_eos"
   ]
  },
  {
   "cell_type": "code",
   "execution_count": 11,
   "metadata": {},
   "outputs": [],
   "source": [
    "# Values for the Peng-Robinson EOS\n",
    "critical_point_pressure = 7.377 # MPa\n",
    "critical_point_temperature = 304.1 # K\n",
    "w = 0.224 # Acentric Factor of CO2 - Acquired from literature\n"
   ]
  },
  {
   "cell_type": "markdown",
   "metadata": {},
   "source": [
    "#### Kappa\n",
    "\n",
    "The kappa parameter is a dimensionless parameter that is calculated from the acentric factor of the substance. The acentric factor is used to measure the non-sphericity of a molecule. The kappa parameter is calculated using the following equation:\n",
    "\n",
    "$$\\kappa = 0.37464 + 1.54226\\omega - 0.26992\\omega^2$$\n",
    "\n",
    "where:\n",
    "\n",
    "* $\\omega$ is the acentric factor of the substance\n",
    "  "
   ]
  },
  {
   "cell_type": "code",
   "execution_count": 12,
   "metadata": {},
   "outputs": [
    {
     "name": "stderr",
     "output_type": "stream",
     "text": [
      "UsageError: Line magic function `%%script` not found.\n"
     ]
    }
   ],
   "source": [
    "# Find Kappa for the Peng-Robinson EOS and set the value to the variable kappa\n",
    "%%script false --no-raise-error\n",
    "kappa = None # < - Enter your code here, remove None"
   ]
  },
  {
   "cell_type": "code",
   "execution_count": 13,
   "metadata": {},
   "outputs": [],
   "source": [
    "### Teacher Solution\n",
    "kappa = 0.37464 + 1.54226 * w - 0.26992 * w**2"
   ]
  },
  {
   "cell_type": "markdown",
   "metadata": {},
   "source": [
    "#### Alpha\n",
    "\n",
    "The alpha function is a function of temperature that is used to calculate the acentric factor of the gas. The acentric factor is a measure of the deviation of the gas from ideal gas behavior. The acentric factor is used to calculate the a and b constants of the Peng-Robinson Equation of State. The alpha function is defined as:\n",
    "\n",
    "$$\\alpha(T) = \\left(1 + \\kappa \\left(1 - \\sqrt{\\frac{T}{T_c}}\\right)\\right)^2$$\n",
    "\n",
    "where: \n",
    "\n",
    "* $T$ is the temperature\n",
    "* $\\kappa$ is the acentric factor\n",
    "* $T_c$ is the critical temperature\n",
    "\n",
    "As we already know $\\kappa$ and $T_c$, we can create a function that takes in T and returns the value of alpha:\n",
    "\n",
    "Two ways to do this - *lambda* or defining a *function*\n",
    "\n",
    "You can run either Cell below\n"
   ]
  },
  {
   "cell_type": "code",
   "execution_count": 14,
   "metadata": {},
   "outputs": [],
   "source": [
    "# Lambda version of alpha\n",
    "alpha = lambda T: (1 + kappa * (1 - (T / critical_point_temperature)**0.5))**2"
   ]
  },
  {
   "cell_type": "code",
   "execution_count": 15,
   "metadata": {},
   "outputs": [],
   "source": [
    "# Function version of alpha\n",
    "def alpha(T):\n",
    "    return (1 + kappa * (1 - (T / critical_point_temperature)**0.5))**2"
   ]
  },
  {
   "cell_type": "code",
   "execution_count": 16,
   "metadata": {},
   "outputs": [],
   "source": [
    "%%script false --no-raise-error\n",
    "peng_robinson_eos_df = peng_robinson_eos()"
   ]
  },
  {
   "cell_type": "code",
   "execution_count": 76,
   "metadata": {},
   "outputs": [
    {
     "name": "stdout",
     "output_type": "stream",
     "text": [
      "\u001b[0;31mSignature:\u001b[0m\n",
      "\u001b[0mpeng_robinson_eos\u001b[0m\u001b[0;34m(\u001b[0m\u001b[0;34m\u001b[0m\n",
      "\u001b[0;34m\u001b[0m    \u001b[0mgas_constant\u001b[0m\u001b[0;34m:\u001b[0m \u001b[0mfloat\u001b[0m\u001b[0;34m,\u001b[0m\u001b[0;34m\u001b[0m\n",
      "\u001b[0;34m\u001b[0m    \u001b[0mlist_of_volumes\u001b[0m\u001b[0;34m:\u001b[0m \u001b[0mList\u001b[0m\u001b[0;34m,\u001b[0m\u001b[0;34m\u001b[0m\n",
      "\u001b[0;34m\u001b[0m    \u001b[0mlist_of_temperatures\u001b[0m\u001b[0;34m:\u001b[0m \u001b[0mList\u001b[0m\u001b[0;34m,\u001b[0m\u001b[0;34m\u001b[0m\n",
      "\u001b[0;34m\u001b[0m    \u001b[0mbc\u001b[0m\u001b[0;34m:\u001b[0m \u001b[0mfloat\u001b[0m\u001b[0;34m,\u001b[0m\u001b[0;34m\u001b[0m\n",
      "\u001b[0;34m\u001b[0m    \u001b[0mac\u001b[0m\u001b[0;34m:\u001b[0m \u001b[0mfloat\u001b[0m\u001b[0;34m,\u001b[0m\u001b[0;34m\u001b[0m\n",
      "\u001b[0;34m\u001b[0m    \u001b[0malpha\u001b[0m\u001b[0;34m:\u001b[0m \u001b[0mCallable\u001b[0m\u001b[0;34m,\u001b[0m\u001b[0;34m\u001b[0m\n",
      "\u001b[0;34m\u001b[0m\u001b[0;34m)\u001b[0m \u001b[0;34m->\u001b[0m \u001b[0mpandas\u001b[0m\u001b[0;34m.\u001b[0m\u001b[0mcore\u001b[0m\u001b[0;34m.\u001b[0m\u001b[0mframe\u001b[0m\u001b[0;34m.\u001b[0m\u001b[0mDataFrame\u001b[0m\u001b[0;34m\u001b[0m\u001b[0;34m\u001b[0m\u001b[0m\n",
      "\u001b[0;31mDocstring:\u001b[0m <no docstring>\n",
      "\u001b[0;31mFile:\u001b[0m      ~/Code/Thermo_B/src/thermo.py\n",
      "\u001b[0;31mType:\u001b[0m      function"
     ]
    }
   ],
   "source": [
    "?peng_robinson_eos"
   ]
  },
  {
   "cell_type": "markdown",
   "metadata": {},
   "source": [
    "#### a variable\n",
    "\n",
    "The a variable is defined as:\n",
    "\n",
    "$$a = 0.45724\\frac{{\\alpha}R^2T_c^2}{P_c}$$\n",
    "\n",
    "where: \n",
    "* $\\alpha$ is the alpha function\n",
    "* $R$ is the ideal gas constant\n",
    "* $T_c$ is the critical temperature\n",
    "* $P_c$ is the critical pressure\n",
    "\n"
   ]
  },
  {
   "cell_type": "code",
   "execution_count": 17,
   "metadata": {},
   "outputs": [
    {
     "name": "stderr",
     "output_type": "stream",
     "text": [
      "UsageError: Line magic function `%%script` not found.\n"
     ]
    }
   ],
   "source": [
    "# Since alpha is a function/lambda, it will not be included in the variable a, but instead will be included in the function peng_robinson_eos\n",
    "%%script false --no-raise-error\n",
    "a = None"
   ]
  },
  {
   "cell_type": "code",
   "execution_count": 18,
   "metadata": {},
   "outputs": [],
   "source": [
    "### Teacher Solution\n",
    "a = 0.45724 * (R * critical_point_temperature)**2 / critical_point_pressure"
   ]
  },
  {
   "cell_type": "markdown",
   "metadata": {},
   "source": [
    "#### b variable\n",
    "\n",
    "The b variable is defined as:\n",
    "\n",
    "$$b = 0.07780\\frac{R T_c}{P_c}$$\n",
    "\n",
    "where:\n",
    "\n",
    "* $R$ is the ideal gas constant\n",
    "* $T_c$ is the critical temperature\n",
    "* $P_c$ is the critical pressure"
   ]
  },
  {
   "cell_type": "code",
   "execution_count": 19,
   "metadata": {},
   "outputs": [],
   "source": [
    "# Find the value of b and set it to the variable b\n",
    "b = None # < - Enter your code here, remove None"
   ]
  },
  {
   "cell_type": "code",
   "execution_count": 20,
   "metadata": {},
   "outputs": [],
   "source": [
    "### Teacher Solution\n",
    "b = 0.07780 * R * critical_point_temperature / critical_point_pressure"
   ]
  },
  {
   "cell_type": "markdown",
   "metadata": {},
   "source": [
    "#### Peng-Robinson Equation of State Function\n",
    "\n",
    "Now that you have the required variables for the Peng-Robinson Equation of State function, you can create the function."
   ]
  },
  {
   "cell_type": "code",
   "execution_count": 21,
   "metadata": {},
   "outputs": [
    {
     "name": "stderr",
     "output_type": "stream",
     "text": [
      "UsageError: Line magic function `%%script` not found.\n"
     ]
    }
   ],
   "source": [
    "# Call the peng_robinson_eos function with the appropriate arguments and set it to the variable peng_robinson_eos_df\n",
    "%%script false --no-raise-error\n",
    "peng_robinson_eos_df = peng_robinson_eos()\n",
    "peng_robinson_eos_df"
   ]
  },
  {
   "cell_type": "code",
   "execution_count": 22,
   "metadata": {},
   "outputs": [
    {
     "data": {
      "text/html": [
       "<div>\n",
       "<style scoped>\n",
       "    .dataframe tbody tr th:only-of-type {\n",
       "        vertical-align: middle;\n",
       "    }\n",
       "\n",
       "    .dataframe tbody tr th {\n",
       "        vertical-align: top;\n",
       "    }\n",
       "\n",
       "    .dataframe thead th {\n",
       "        text-align: right;\n",
       "    }\n",
       "</style>\n",
       "<table border=\"1\" class=\"dataframe\">\n",
       "  <thead>\n",
       "    <tr style=\"text-align: right;\">\n",
       "      <th></th>\n",
       "      <th>255.2</th>\n",
       "      <th>265.1</th>\n",
       "      <th>274.4</th>\n",
       "      <th>284.0</th>\n",
       "      <th>294.4</th>\n",
       "      <th>304.1</th>\n",
       "      <th>334.1</th>\n",
       "      <th>354.1</th>\n",
       "    </tr>\n",
       "  </thead>\n",
       "  <tbody>\n",
       "    <tr>\n",
       "      <th>30</th>\n",
       "      <td>387.495310</td>\n",
       "      <td>417.969341</td>\n",
       "      <td>446.437831</td>\n",
       "      <td>475.671860</td>\n",
       "      <td>507.175837</td>\n",
       "      <td>536.411348</td>\n",
       "      <td>625.997372</td>\n",
       "      <td>685.083781</td>\n",
       "    </tr>\n",
       "    <tr>\n",
       "      <th>31</th>\n",
       "      <td>255.738637</td>\n",
       "      <td>280.173799</td>\n",
       "      <td>302.978943</td>\n",
       "      <td>326.376115</td>\n",
       "      <td>351.566816</td>\n",
       "      <td>374.922874</td>\n",
       "      <td>446.375067</td>\n",
       "      <td>493.410557</td>\n",
       "    </tr>\n",
       "    <tr>\n",
       "      <th>32</th>\n",
       "      <td>177.488559</td>\n",
       "      <td>198.052113</td>\n",
       "      <td>217.228878</td>\n",
       "      <td>236.888901</td>\n",
       "      <td>258.040023</td>\n",
       "      <td>277.636410</td>\n",
       "      <td>337.505860</td>\n",
       "      <td>376.854042</td>\n",
       "    </tr>\n",
       "    <tr>\n",
       "      <th>33</th>\n",
       "      <td>126.915275</td>\n",
       "      <td>144.759859</td>\n",
       "      <td>161.390218</td>\n",
       "      <td>178.429183</td>\n",
       "      <td>196.748975</td>\n",
       "      <td>213.711859</td>\n",
       "      <td>265.477297</td>\n",
       "      <td>299.454065</td>\n",
       "    </tr>\n",
       "    <tr>\n",
       "      <th>34</th>\n",
       "      <td>92.348148</td>\n",
       "      <td>108.163258</td>\n",
       "      <td>122.894214</td>\n",
       "      <td>137.979319</td>\n",
       "      <td>154.189840</td>\n",
       "      <td>169.192022</td>\n",
       "      <td>214.930578</td>\n",
       "      <td>244.917854</td>\n",
       "    </tr>\n",
       "    <tr>\n",
       "      <th>...</th>\n",
       "      <td>...</td>\n",
       "      <td>...</td>\n",
       "      <td>...</td>\n",
       "      <td>...</td>\n",
       "      <td>...</td>\n",
       "      <td>...</td>\n",
       "      <td>...</td>\n",
       "      <td>...</td>\n",
       "    </tr>\n",
       "    <tr>\n",
       "      <th>596</th>\n",
       "      <td>2.575772</td>\n",
       "      <td>2.747204</td>\n",
       "      <td>2.907512</td>\n",
       "      <td>3.072284</td>\n",
       "      <td>3.250016</td>\n",
       "      <td>3.415101</td>\n",
       "      <td>3.921813</td>\n",
       "      <td>4.256669</td>\n",
       "    </tr>\n",
       "    <tr>\n",
       "      <th>597</th>\n",
       "      <td>2.572939</td>\n",
       "      <td>2.744031</td>\n",
       "      <td>2.904022</td>\n",
       "      <td>3.068469</td>\n",
       "      <td>3.245852</td>\n",
       "      <td>3.410613</td>\n",
       "      <td>3.916337</td>\n",
       "      <td>4.250543</td>\n",
       "    </tr>\n",
       "    <tr>\n",
       "      <th>598</th>\n",
       "      <td>2.570111</td>\n",
       "      <td>2.740865</td>\n",
       "      <td>2.900540</td>\n",
       "      <td>3.064663</td>\n",
       "      <td>3.241698</td>\n",
       "      <td>3.406137</td>\n",
       "      <td>3.910876</td>\n",
       "      <td>4.244434</td>\n",
       "    </tr>\n",
       "    <tr>\n",
       "      <th>599</th>\n",
       "      <td>2.567288</td>\n",
       "      <td>2.737705</td>\n",
       "      <td>2.897066</td>\n",
       "      <td>3.060866</td>\n",
       "      <td>3.237555</td>\n",
       "      <td>3.401672</td>\n",
       "      <td>3.905429</td>\n",
       "      <td>4.238343</td>\n",
       "    </tr>\n",
       "    <tr>\n",
       "      <th>600</th>\n",
       "      <td>2.564471</td>\n",
       "      <td>2.734551</td>\n",
       "      <td>2.893599</td>\n",
       "      <td>3.057078</td>\n",
       "      <td>3.233421</td>\n",
       "      <td>3.397218</td>\n",
       "      <td>3.899998</td>\n",
       "      <td>4.232270</td>\n",
       "    </tr>\n",
       "  </tbody>\n",
       "</table>\n",
       "<p>571 rows × 8 columns</p>\n",
       "</div>"
      ],
      "text/plain": [
       "          255.2       265.1       274.4       284.0       294.4       304.1  \\\n",
       "30   387.495310  417.969341  446.437831  475.671860  507.175837  536.411348   \n",
       "31   255.738637  280.173799  302.978943  326.376115  351.566816  374.922874   \n",
       "32   177.488559  198.052113  217.228878  236.888901  258.040023  277.636410   \n",
       "33   126.915275  144.759859  161.390218  178.429183  196.748975  213.711859   \n",
       "34    92.348148  108.163258  122.894214  137.979319  154.189840  169.192022   \n",
       "..          ...         ...         ...         ...         ...         ...   \n",
       "596    2.575772    2.747204    2.907512    3.072284    3.250016    3.415101   \n",
       "597    2.572939    2.744031    2.904022    3.068469    3.245852    3.410613   \n",
       "598    2.570111    2.740865    2.900540    3.064663    3.241698    3.406137   \n",
       "599    2.567288    2.737705    2.897066    3.060866    3.237555    3.401672   \n",
       "600    2.564471    2.734551    2.893599    3.057078    3.233421    3.397218   \n",
       "\n",
       "          334.1       354.1  \n",
       "30   625.997372  685.083781  \n",
       "31   446.375067  493.410557  \n",
       "32   337.505860  376.854042  \n",
       "33   265.477297  299.454065  \n",
       "34   214.930578  244.917854  \n",
       "..          ...         ...  \n",
       "596    3.921813    4.256669  \n",
       "597    3.916337    4.250543  \n",
       "598    3.910876    4.244434  \n",
       "599    3.905429    4.238343  \n",
       "600    3.899998    4.232270  \n",
       "\n",
       "[571 rows x 8 columns]"
      ]
     },
     "execution_count": 22,
     "metadata": {},
     "output_type": "execute_result"
    }
   ],
   "source": [
    "### Teacher Solution\n",
    "peng_robinson_eos_df = peng_robinson_eos(R, list_of_volumes=list_of_volumes, list_of_temperatures=list_of_temperatures, bc=b, ac=a, alpha=alpha)\n",
    "peng_robinson_eos_df"
   ]
  },
  {
   "cell_type": "markdown",
   "metadata": {},
   "source": [
    "### Task 4: Peng-Robinson Equation of State Plot\n",
    "\n",
    "In this task you will need to on the same plot:\n",
    "\n",
    "1. Plot the pressure of the gas, CO<sub>2</sub>, at various temperatures and volumes using the Dataframe from Task 3\n",
    "2. Plot the critical point of the gas, CO<sub>2</sub> on the pressure-volume diagram\n",
    "\n",
    "> **Python**: For this task, you will need to use the `plot_peng_robinson_eos` function from the `thermo` module. The function takes the following arguments: `plot_peng_robinson_eos(peng_robinson_eos_df: pd.DataFrame)`. The function returns a plot of the Dataframe. However, the plot will not be shown in the notebook. You will need to use the `plt.show()` function to display the plot. Additionally, you will need to use the `plt.figure(figsize(width, height))` function to set the size of the plot. Recommended is a width of 10 and a height of 10. You will also need to use the `plt.title()`. function to set the title of the plot. You can use the `plt.xlabel()` and `plt.ylabel()` functions to set the x and y axis labels.\n",
    "\n",
    "> ***Tip***: Before calling `plt.show()`, ensure you have plotted both the ideal gas law and the critical point on the same plot.\n",
    "\n",
    "> ***Tip***: You can get the docstring for a function by using the ? symbol after the function name"
   ]
  },
  {
   "cell_type": "code",
   "execution_count": 23,
   "metadata": {},
   "outputs": [],
   "source": [
    "from src.thermo import plot_peng_robinson_eos"
   ]
  },
  {
   "cell_type": "code",
   "execution_count": 24,
   "metadata": {},
   "outputs": [
    {
     "name": "stderr",
     "output_type": "stream",
     "text": [
      "UsageError: Line magic function `%%script` not found.\n"
     ]
    }
   ],
   "source": [
    "# Call the plot_ideal_gas_law function with the appropriate argument - You will not need to set it as a variable\n",
    "# \n",
    "%%script false --no-raise-error\n",
    "plot_peng_robinson_eos()"
   ]
  },
  {
   "cell_type": "code",
   "execution_count": 25,
   "metadata": {},
   "outputs": [
    {
     "data": {
      "image/png": "[encoded data removed]",
      "text/plain": [
       "<Figure size 1000x1000 with 1 Axes>"
      ]
     },
     "metadata": {},
     "output_type": "display_data"
    }
   ],
   "source": [
    "### Teacher Solution\n",
    "\n",
    "plt.figure(figsize=(10, 10))\n",
    "plt.ylim(0, 10)\n",
    "plot_peng_robinson_eos(peng_robinson_eos_df)\n",
    "\n",
    "plt.xlabel('Volume (cm^3)')\n",
    "plt.ylabel('Pressure (MPa)')\n",
    "\n",
    "plt.scatter(critical_point_volume, critical_point_pressure, color='red', label='Critical Point')\n",
    "\n",
    "plt.legend()\n",
    "plt.title('Pressure vs. Volume of CO2 at Different Temperatures (Peng-Robinson EOS)')\n",
    "\n",
    "plt.show()"
   ]
  },
  {
   "cell_type": "markdown",
   "metadata": {},
   "source": [
    "#### Peng-Robinson Equation of State Plot\n",
    "\n",
    "As you can see, the Peng-Robinson Equation of State is a much better fit for the data than the Ideal Gas Law.\n",
    "\n",
    "It procies better accuracy near the critical point and for liquid molar volumes and it can be used to predict the vapour-liquid equilibria with good accuracy when combined with appropriate mixng rules."
   ]
  },
  {
   "cell_type": "markdown",
   "metadata": {},
   "source": [
    "### Peng-Robinson Equation of State Polynomial Form\n",
    "\n",
    "<center><img src=/home/calvin/Code/Thermo_B/images/preos_polynomial.png widht=\"110%\"></center>\n",
    "\n",
    "In a more compact and dimensionless form, the Peng-Robinson EOS can be restated as a cubic in $Z$. This is the polynomial form of the Peng Robinson Equation of State. This sets up a cubic equation in $Z$, which has three real roots (as opposed to being imaginary). The largest root is the value of $Z_v$; the smallest root is the value of $Z_L$; and the third root is discarded as having no physical meaning.\n",
    "\n",
    "So how do we solve for the roots? In Python, we will use the module `CubicEquationSolver` which contains the function `solve(a, b, c, d)` which takes the coefficients of the cubic equation and returns the roots in an array.\n",
    "\n",
    "Polynomial Structure:\n",
    "\n",
    "$${ax^3} + {bx^2} + {cx} + {d} = 0$$"
   ]
  },
  {
   "cell_type": "markdown",
   "metadata": {},
   "source": [
    "### Task 5: Finding the Roots of the Peng Robinson Equation of State\n",
    "\n",
    "Find the roots of the Peng Robinson Equation of State Polynomial for the gas, CO<sub>2</sub>, at the temperature 284.0K and pressure at 4.6 MPa.\n"
   ]
  },
  {
   "cell_type": "code",
   "execution_count": 26,
   "metadata": {},
   "outputs": [],
   "source": [
    "# Shift + Enter to run the code\n",
    "import CubicEquationSolver as ces"
   ]
  },
  {
   "cell_type": "markdown",
   "metadata": {},
   "source": [
    "#### Breaking up the equation: $Z^3$\n",
    "\n",
    "Define the variable Z_3 as the coefficient of $Z^3$ from the polynomial"
   ]
  },
  {
   "cell_type": "code",
   "execution_count": 27,
   "metadata": {},
   "outputs": [],
   "source": [
    "Z_3 = None # < - Enter your code here, remove None"
   ]
  },
  {
   "cell_type": "code",
   "execution_count": 28,
   "metadata": {},
   "outputs": [],
   "source": [
    "### Teacher Solution\n",
    "Z_3 = 1"
   ]
  },
  {
   "cell_type": "markdown",
   "metadata": {},
   "source": [
    "#### Breaking up the equation: $Z^2$\n",
    "\n",
    "Define the variable Z_2 as the coefficient of $Z^2$ from the polynomial\n",
    "\n",
    "> ***Tip***: $-(1-B)$ \n",
    "\n",
    "> ***Tip***: $B = \\frac{bP}{RT}$\n",
    "\n",
    "> ***Tip***: Use the variable b from the previous task "
   ]
  },
  {
   "cell_type": "code",
   "execution_count": 29,
   "metadata": {},
   "outputs": [],
   "source": [
    "Z_2 = None # < - Enter your code here, remove None"
   ]
  },
  {
   "cell_type": "code",
   "execution_count": 30,
   "metadata": {},
   "outputs": [
    {
     "name": "stdout",
     "output_type": "stream",
     "text": [
      "-0.9480535677123606\n"
     ]
    }
   ],
   "source": [
    "### Teacher Solution\n",
    "pressure = 4.6 # MPa\n",
    "temperature = 284 # K\n",
    "\n",
    "B = b * pressure / (R * temperature)\n",
    "Z_2 = -1+ B\n",
    "print (Z_2)"
   ]
  },
  {
   "cell_type": "markdown",
   "metadata": {},
   "source": [
    "#### Breaking up the equation: $Z^1$\n",
    "\n",
    "Define the variable Z_1 as the coefficient of $Z^1$ from the polynomial\n",
    "\n",
    "> ***Tip***: $(A-2B-3B^2)$\n",
    "\n",
    "> ***Tip***: $A = \\frac{aP}{R^2T^2}$\n",
    "\n",
    "> ***Tip***: a is the variable from the previous task **BUT it must be adjusted due to the alpha function, which is a function of T!**"
   ]
  },
  {
   "cell_type": "code",
   "execution_count": 31,
   "metadata": {},
   "outputs": [],
   "source": [
    "alpha_temp = None # < - Enter your code here, remove None\n",
    "a = None # < - Enter your code here, remove None\n",
    "A = None # < - Enter your code here, remove None\n",
    "\n",
    "Z_1 = None # < - Enter your code here, remove None"
   ]
  },
  {
   "cell_type": "code",
   "execution_count": 32,
   "metadata": {},
   "outputs": [
    {
     "name": "stdout",
     "output_type": "stream",
     "text": [
      "0.23062666623811\n"
     ]
    }
   ],
   "source": [
    "### Teacher Solution\n",
    "\n",
    "alpha_temp = alpha(temperature)\n",
    "a = 0.45724 * (R * critical_point_temperature)**2 / critical_point_pressure * alpha_temp\n",
    "\n",
    "A = a * pressure / (R * temperature)**2\n",
    "\n",
    "Z_1 = A -2 * B - 3 * B**2\n",
    "print (Z_1)"
   ]
  },
  {
   "cell_type": "markdown",
   "metadata": {},
   "source": [
    "#### Breaking up the equation: $Z^0$\n",
    "\n",
    "Define the variable Z_0 as the coefficient of $Z_O$ from the polynomial\n",
    "\n",
    "> ***Tip***: $-(AB-B^2-B^3)$"
   ]
  },
  {
   "cell_type": "code",
   "execution_count": 33,
   "metadata": {},
   "outputs": [],
   "source": [
    "Z_0 = None # < - Enter your code here, remove None"
   ]
  },
  {
   "cell_type": "code",
   "execution_count": 34,
   "metadata": {},
   "outputs": [
    {
     "name": "stdout",
     "output_type": "stream",
     "text": [
      "-0.014959012141287458\n"
     ]
    }
   ],
   "source": [
    "### Teacher Solution\n",
    "Z_0 = B**3 + B**2 - A * B\n",
    "print (Z_0)"
   ]
  },
  {
   "cell_type": "markdown",
   "metadata": {},
   "source": [
    "#### Solving for the roots\n",
    "\n",
    "Recall that you will need to use the `CubicEquationSolver` module to solve for the roots. The function is `solve(a, b, c, d)` where it takes the coefficients of the polynomial. Furthermore, the return value is an array of the roots. As there are three roots, you will need to store each root in a variable. The variables should be called:\n",
    "\n",
    "Z_v: The largest root\n",
    "\n",
    "Z_L: The smallest root\n",
    "\n",
    "Z_none: The middle root"
   ]
  },
  {
   "cell_type": "code",
   "execution_count": 35,
   "metadata": {},
   "outputs": [],
   "source": [
    "%%script false --no-raise-error\n",
    "_, _, _ = ces.solve() # < - Enter your code here. Variables will need to be set\n",
    "\n",
    "print (f'Vapour root: {_},\\nNo Physical Meaning root: {_},\\niquid root: {_}')"
   ]
  },
  {
   "cell_type": "code",
   "execution_count": 36,
   "metadata": {},
   "outputs": [
    {
     "name": "stdout",
     "output_type": "stream",
     "text": [
      "Vapour root: 0.6103487677467386,\n",
      "No Physical Meaning root: 0.23211514781296316,\n",
      "Liquid root: 0.10558965215265873\n"
     ]
    }
   ],
   "source": [
    "### Teacher Solution\n",
    "\n",
    "Z_v, Z_l, Z_none = ces.solve(Z_3, Z_2, Z_1, Z_0)\n",
    "print (f'Vapour root: {Z_v},\\nNo Physical Meaning root: {Z_none},\\nLiquid root: {Z_l}')"
   ]
  },
  {
   "cell_type": "markdown",
   "metadata": {},
   "source": [
    "### Task 6: Peng-Robinson Equation of State Plot - Roots\n",
    "\n",
    "Now let's take a look at the plot of CO<sub>2</sub> at temperature 284.0K and pressure at 4.6 MPa. On the plot we will also plot the saturation pressure and the saturation temperature, acquired from literature."
   ]
  },
  {
   "cell_type": "code",
   "execution_count": 37,
   "metadata": {},
   "outputs": [],
   "source": [
    "import matplotlib.pyplot as plt\n",
    "from src.thermo import plot_example_ideal_gas_law_and_peng_robinson_eos\n"
   ]
  },
  {
   "cell_type": "code",
   "execution_count": 38,
   "metadata": {},
   "outputs": [
    {
     "data": {
      "image/png": "[encoded data removed]",
      "text/plain": [
       "<Figure size 1000x1000 with 1 Axes>"
      ]
     },
     "metadata": {},
     "output_type": "display_data"
    }
   ],
   "source": [
    "plt.figure(figsize = (10, 10))\n",
    "\n",
    "plot_example_ideal_gas_law_and_peng_robinson_eos()"
   ]
  },
  {
   "cell_type": "markdown",
   "metadata": {},
   "source": [
    "#### Peng-Robinson Equation of State - CO<sub>2</sub> at 284.0K and 4.6 MPa Example\n",
    "\n",
    "As it can be seen, the saturation line (acquired from  literature) passes through the Peng-Robinson Equation of State plot three times. This is because the Peng-Robinson Equation of State has three roots. The largest root is the value of $Z_v$; the smallest root is the value of $Z_L$; and the third root is discarded as having no physical meaning."
   ]
  },
  {
   "cell_type": "markdown",
   "metadata": {},
   "source": [
    "#### Task 6.1: Calculating the Volumes at the roots\n",
    "\n",
    "Calculate the volumes at the roots of the Peng-Robinson Equation of State for the gas, CO<sub>2</sub>, at the temperature 284.0K and pressure at 4.6 MPa.\n",
    "\n",
    "The equation for the volume is:\n",
    "\n",
    "$$V = \\frac{RTZ}{P}$$\n",
    "\n",
    "where:\n",
    "\n",
    "* $R$ is the ideal gas constant\n",
    "* $T$ is the temperature\n",
    "* $P$ is the pressure\n",
    "* $Z$ is the root of the Peng-Robinson Equation of State\n",
    "\n",
    "The volume variable names should be\n",
    "\n",
    "V_v: The volume at the largest root\n",
    "\n",
    "V_L: The volume at the smallest root\n",
    "\n",
    "V_none: The volume at the middle root\n",
    "\n",
    "> ***Tip***: Use the variables from the previous task"
   ]
  },
  {
   "cell_type": "code",
   "execution_count": 39,
   "metadata": {},
   "outputs": [
    {
     "name": "stdout",
     "output_type": "stream",
     "text": [
      "Vapour volume: None,\n",
      "No Physical Meaning volume: None,\n",
      "Liquid volume: None\n"
     ]
    }
   ],
   "source": [
    "V_v = None # < - Enter your code here, remove None\n",
    "V_L = None # < - Enter your code here, remove None\n",
    "v_None = None # < - Enter your code here, remove None\n",
    "\n",
    "print (f'Vapour volume: {V_v},\\nNo Physical Meaning volume: {v_None},\\nLiquid volume: {V_L}')"
   ]
  },
  {
   "cell_type": "code",
   "execution_count": 40,
   "metadata": {},
   "outputs": [
    {
     "name": "stdout",
     "output_type": "stream",
     "text": [
      "Vapour volume: 313.29149174634205,\n",
      "No Physical Meaning volume: 119.14450353313504,\n",
      "Liquid volume: 54.199076632870906\n"
     ]
    }
   ],
   "source": [
    "### Teacher Solution\n",
    "\n",
    "V_v = Z_v * R * temperature / pressure\n",
    "V_L = Z_l * R * temperature / pressure\n",
    "V_None = Z_none * R * temperature / pressure\n",
    "\n",
    "print(f'Vapour volume: {V_v},\\nNo Physical Meaning volume: {V_None},\\nLiquid volume: {V_L}')"
   ]
  },
  {
   "cell_type": "markdown",
   "metadata": {},
   "source": [
    "#### Task 6.2: Plot the volumes at the roots on the Peng-Robinson Equation of State Plot of CO<sub>2</sub> at 284.0K and 4.6 MPa\n",
    "\n",
    "Plot the volumes at the roots on the Peng-Robinson Equation of State Plot of CO<sub>2</sub> at 284.0K and 4.6 MPa. \n",
    "\n",
    "You will need to use the `plt.scatter()` function to plot the points. The function takes the following arguments: `plt.scatter(x, y, label)`. The x and y arguments are the x and y coordinates of the point and the label is what will be shown in the legend. \n",
    "\n",
    "Further to this, you will need to annotate two of the points with either `Dew Point` or `Bubble Point`.You will need to use the `plt.annotate()` function to annotate the points. The function takes the following arguments: `plt.annotate(text, xy=(x, y), rotation=45)`. The text argument is the text to be displayed. The xy argument is the x and y coordinates of the point. The rotation argument is the rotation of the text. In this instance, it will be set to 45 degrees.\n",
    "\n",
    "After you have plotted the points, you will need to use the the function `plot_example_ideal_gas_law_and_peng_robinson_eos()`, as can be seen in the example above of the plot."
   ]
  },
  {
   "cell_type": "code",
   "execution_count": 41,
   "metadata": {},
   "outputs": [],
   "source": [
    "# Student solution here"
   ]
  },
  {
   "cell_type": "code",
   "execution_count": 42,
   "metadata": {},
   "outputs": [
    {
     "data": {
      "image/png": "[encoded data removed]",
      "text/plain": [
       "<Figure size 1000x1000 with 1 Axes>"
      ]
     },
     "metadata": {},
     "output_type": "display_data"
    }
   ],
   "source": [
    "### Teacher Solution\n",
    "\n",
    "plt.figure(figsize = (10, 10))\n",
    "plt.scatter(V_v, pressure, color='red', label='Vapour')\n",
    "plt.scatter(V_L, pressure, color='blue', label='Liquid')\n",
    "plt.scatter(V_None, pressure, color='green', label='No Physical Meaning')\n",
    "\n",
    "plt.annotate('Dew Point', (V_v, pressure), rotation=45)\n",
    "plt.annotate('Bubble Point', (V_L, pressure), rotation=45)\n",
    "\n",
    "plot_example_ideal_gas_law_and_peng_robinson_eos()\n"
   ]
  },
  {
   "cell_type": "markdown",
   "metadata": {},
   "source": [
    "### Task 7: Peng-Robinson Equation of State - Mixing Rules & Fugacity Coefficients\n",
    "\n",
    "In the previous tasks we have only been looking at the Peng-Robinson Equation of State for a single component. However, in reality, we are often dealing with mixtures of components. In this task, we will look at how to use the Peng-Robinson Equation of State to predict the fugacity coefficients of a mixture of components.\n",
    "\n",
    "The fugacity coefficient is defined as the ratio of fugacity to pressure [[1]](https://www.chemeurope.com/en/encyclopedia/Fugacity.html). For gases at low pressures (where the ideal gas law is a good approximation), fugacity is roughly equal to pressure. Thus, for an ideal gas, the ratio between fugacity and pressure (the fugacity coefficient) is equal to 1 [[1]](https://www.chemeurope.com/en/encyclopedia/Fugacity.html). This ratio can be thought of as ‘how closely’ a real gas behaves like an ideal gas [[1]](https://www.chemeurope.com/en/encyclopedia/Fugacity.html)."
   ]
  },
  {
   "cell_type": "markdown",
   "metadata": {},
   "source": [
    "#### Task 7.1: Peng-Robinson Equation of State - Mixing Rules\n",
    "\n",
    "<center><img src='images/mixing_rules.png'></center>\n",
    "\n",
    "The next cell provides you with the variables required and the chemical data for components in a DataFrame. The DataFrame is called `chemical_data_df`\n",
    "\n",
    "The chemical data contains the following columns:\n",
    "\n",
    "* `Element`: The element name\n",
    "* `Tc(K)`: The critical temperature of the element\n",
    "* `Pc(MPa)`: The critical pressure of the element\n",
    "* `Vc(cm3/mol)`: The critical volume of the element\n",
    "* `w`: The acentric factor of the element\n",
    "\n",
    "Below is the element names will be printed, as well as the number of rows and names of the columns."
   ]
  },
  {
   "cell_type": "code",
   "execution_count": 43,
   "metadata": {},
   "outputs": [
    {
     "name": "stdout",
     "output_type": "stream",
     "text": [
      "Index(['Element', 'Tc_K', 'Pc_MPa', 'Vc_cm3_mol', 'w'], dtype='object')\n",
      "------------------\n",
      "Number of rows:  76\n",
      "Number of columns:  5\n",
      "------------------\n",
      "List of elements:  ['Argon' 'Bromine' 'Chlorine' 'Fluorine' 'Helium-4' 'Hydrogen' 'Iodine'\n",
      " 'Krypton' 'Neon' 'Nitrogen' 'Oxygen' 'Xenon' 'Acetylene' 'Benzene'\n",
      " 'n-Butane' '1-Butene' 'Cyclobutane' 'Cyclohexane' 'Cyclopropane' 'Ethane'\n",
      " 'Ethylene' 'n-Heptane' 'n-Hexane' 'Isobutane' 'Isobutylene' 'Isopentane'\n",
      " 'Methane' 'Naphthalene' 'n-Octane' 'n-Pentane' 'Propadiene' 'Propane'\n",
      " 'Propylene' 'Toluene' 'm-Xylene' 'o-Xylene' 'p-Xylene' 'Ammonia'\n",
      " 'Carbon dioxide' 'Carbon disulfide' 'Carbon monoxide'\n",
      " 'Carbon tetrachloride' 'Carbon tetrafluoride' 'Chloroform' 'Hydrazine'\n",
      " 'Hydrogen chloride' 'Hydrogen fluoride' 'Hydrogen sulfide' 'Nitric oxide'\n",
      " 'Nitrous oxide' 'Sulfur dioxide' 'Sulfur trioxide' 'Water' 'Acetaldehyde'\n",
      " 'Acetic acid' 'Acetone' 'Acetonitrile' 'Aniline' 'n-Butanol'\n",
      " 'Chlorobenzene' 'Dichlorodifluoromethane (Freon 12)' 'Diethyl ether'\n",
      " 'Dimethyl ether' 'Ethanol' 'Ethylene oxide' 'Isobutanol'\n",
      " 'Isopropyl alcohol' 'Methanol' 'Methyl chloride' 'Methyl ethyl ketone'\n",
      " 'Phenol' '1-Propanol' 'Pyridine' 'Trichlorotrifluoroethane (Freon 113)'\n",
      " 'Trichlorofluoromethane (Freon 11)' 'Trimethylamine']\n"
     ]
    }
   ],
   "source": [
    "# Shift + Enter to run the code\n",
    "import pandas as pd\n",
    "import numpy as np\n",
    "import matplotlib.pyplot as plt\n",
    "\n",
    "R = 8.314 # J/(mol*K)\n",
    "T = 233.2 # K\n",
    "P = 0.1 # MPa\n",
    "\n",
    "chemical_data_df = pd.read_csv(\"src/Critical_Constants_and_Acentric_Factors.csv\")\n",
    "\n",
    "print(chemical_data_df.columns)\n",
    "print('------------------')\n",
    "print('Number of rows: ', chemical_data_df.shape[0])\n",
    "print('Number of columns: ', chemical_data_df.shape[1])\n",
    "print('------------------')\n",
    "print('List of elements: ', chemical_data_df['Element'].unique())\n"
   ]
  },
  {
   "cell_type": "markdown",
   "metadata": {},
   "source": [
    "##### Task 7.1.1: Peng-Robinson Equation of State - Mixing Rules - Binary Mixture\n",
    "\n",
    "You have been provided with the chemical data for two components, Methane and Propane. The chemical data is stored in the DataFrame `chemical_data_df`. \n",
    "\n",
    "The mol fractions of the components are:\n",
    "\n",
    "* $x_{CH_4}$ = 0.4\n",
    "* $x_{C_3H_8}$ = 0.6\n",
    "\n",
    "You will need to do the following:\n",
    "\n",
    "1. Create a table of the chemical data for the two components, Methane<sub>2</sub> and Propane<sub>2</sub>. The table should be called `chemical_data_df_binary_mixture`. It should have the following columns:\n",
    "   \n",
    "    * `Methane`\n",
    "    * `Propane`\n",
    "\n",
    "    It then should have the following index:\n",
    "   \n",
    "    * `mol_frac`\n",
    "    * `Tc_K`\n",
    "    * `Pc_MPa`\n",
    "    * `w`\n",
    "    * `ai`\n",
    "    * `bi`\n",
    "    * `ki`\n",
    "\n",
    "2. Fill in the table with the correct values. The values for the `mol_frac` column should be the mol fractions of the components. The values for the `Tc_K` column should be the critical temperature of the components. The values for the `Pc_MPa` column should be the critical pressure of the components. The values for the `w` column should be the acentric factor of the components. The values for the `ai` column should be the attraction parameter of the component. The values for the `bi` column should be the covolume for the component. The values for the `ki` column should be the binary interaction of component.\n",
    "\n",
    "> ***Tip***: Creating an empty table (or rather, DataFrame) can be done using the `pd.DataFrame()` function. The function takes the following arguments: `pd.DataFrame(columns, index)`. The index argument is the index of the DataFrame and the columns argument is the columns of the DataFrame. These both accept only lists - `[]`.\n",
    "\n",
    "> ***Tip***: You will need to use the `chemical_data_df` DataFrame to get the values for the `Tc_K`, `Pc_MPa` and `w` columns. You will need to use the `ai()` function to get the values for the `ai` column. You will need to use the `bi()` function to get the values for the `bi` column. You will need to use the `ki()` function to get the values for the `ki` column.\n",
    "\n",
    "> ***Tip***: Access rows and setting them will require the use of the `.loc[]` function. The function takes the following arguments: `.loc[column]`. The column argument is the column to be accessed. The function will return the row of the column. To set the row of the column, you will need to use the following syntax: `.loc[column] = row`. The column argument is the column to be accessed. The row argument is the row to be set. Ensure the column is a string and the row is a list."
   ]
  },
  {
   "cell_type": "code",
   "execution_count": 44,
   "metadata": {},
   "outputs": [
    {
     "name": "stderr",
     "output_type": "stream",
     "text": [
      "UsageError: Line magic function `%%script` not found.\n"
     ]
    }
   ],
   "source": [
    "# Create the DataFrame\n",
    "%%script false --no-raise-error\n",
    "molecules = []\n",
    "index_names = []\n",
    "chemical_data_df_binary_mixture = pd.DataFrame(index=None, columns=None)"
   ]
  },
  {
   "cell_type": "code",
   "execution_count": 45,
   "metadata": {},
   "outputs": [
    {
     "name": "stdout",
     "output_type": "stream",
     "text": [
      "         Methane Propane\n",
      "mol_frac     NaN     NaN\n",
      "Tc_K         NaN     NaN\n",
      "Pc_MPa       NaN     NaN\n",
      "w            NaN     NaN\n",
      "ai           NaN     NaN\n",
      "bi           NaN     NaN\n",
      "ki           NaN     NaN\n"
     ]
    }
   ],
   "source": [
    "### Teacher Solution\n",
    "\n",
    "molecules = ['Methane', 'Propane']\n",
    "index_names = ['mol_frac', 'Tc_K', 'Pc_MPa', 'w', 'ai', 'bi', 'ki']\n",
    "chemical_data_df_binary_mixture = pd.DataFrame(index=index_names, columns=molecules)\n",
    "print(chemical_data_df_binary_mixture)"
   ]
  },
  {
   "cell_type": "code",
   "execution_count": 46,
   "metadata": {},
   "outputs": [
    {
     "name": "stderr",
     "output_type": "stream",
     "text": [
      "UsageError: Line magic function `%%script` not found.\n"
     ]
    }
   ],
   "source": [
    "# Create the list of mole fractions and set it in the table\n",
    "%%script false --no-raise-error\n",
    "mol_frac = None # < - Enter your code here, remove None\n",
    "chemical_data_df_binary_mixture.loc[''] = None # < - Enter your code here, remove None\n",
    "print(chemical_data_df_binary_mixture)"
   ]
  },
  {
   "cell_type": "code",
   "execution_count": 47,
   "metadata": {},
   "outputs": [
    {
     "name": "stdout",
     "output_type": "stream",
     "text": [
      "         Methane Propane\n",
      "mol_frac     0.4     0.6\n",
      "Tc_K         NaN     NaN\n",
      "Pc_MPa       NaN     NaN\n",
      "w            NaN     NaN\n",
      "ai           NaN     NaN\n",
      "bi           NaN     NaN\n",
      "ki           NaN     NaN\n"
     ]
    }
   ],
   "source": [
    "### Teacher Solution\n",
    "mol_frac = [0.4, 0.6]\n",
    "chemical_data_df_binary_mixture.loc['mol_frac'] = mol_frac\n",
    "print(chemical_data_df_binary_mixture)"
   ]
  },
  {
   "cell_type": "code",
   "execution_count": 48,
   "metadata": {},
   "outputs": [
    {
     "name": "stdout",
     "output_type": "stream",
     "text": [
      "         Methane Propane\n",
      "mol_frac     0.4     0.6\n",
      "Tc_K        None    None\n",
      "Pc_MPa      None    None\n",
      "w           None    None\n",
      "ai           NaN     NaN\n",
      "bi           NaN     NaN\n",
      "ki           NaN     NaN\n"
     ]
    }
   ],
   "source": [
    "from src.thermo import get_chemical_values\n",
    "#?get_chemical_values # Uncomment this line to get help on the function\n",
    "\n",
    "# Get the values for Tc_K - You will need to run the get_chemical_values function. Remember to use ?get_chemical_values to get help\n",
    "\n",
    "chemical_data_df_binary_mixture.loc['Tc_K'] = None # < - Enter your code here, remove None\n",
    "\n",
    "# Get the values for Pc_MPa - You will need to run the get_chemical_values function. Remember to use ?get_chemical_values to get help\n",
    "chemical_data_df_binary_mixture.loc['Pc_MPa'] = None # < - Enter your code here, remove None\n",
    "\n",
    "# Get the values for w - You will need to run the get_chemical_values function. Remember to use ?get_chemical_values to get help\n",
    "chemical_data_df_binary_mixture.loc['w'] = None # < - Enter your code here, remove None\n",
    "\n",
    "print(chemical_data_df_binary_mixture)"
   ]
  },
  {
   "cell_type": "code",
   "execution_count": 49,
   "metadata": {},
   "outputs": [
    {
     "data": {
      "text/html": [
       "<div>\n",
       "<style scoped>\n",
       "    .dataframe tbody tr th:only-of-type {\n",
       "        vertical-align: middle;\n",
       "    }\n",
       "\n",
       "    .dataframe tbody tr th {\n",
       "        vertical-align: top;\n",
       "    }\n",
       "\n",
       "    .dataframe thead th {\n",
       "        text-align: right;\n",
       "    }\n",
       "</style>\n",
       "<table border=\"1\" class=\"dataframe\">\n",
       "  <thead>\n",
       "    <tr style=\"text-align: right;\">\n",
       "      <th></th>\n",
       "      <th>Methane</th>\n",
       "      <th>Propane</th>\n",
       "    </tr>\n",
       "  </thead>\n",
       "  <tbody>\n",
       "    <tr>\n",
       "      <th>mol_frac</th>\n",
       "      <td>0.4</td>\n",
       "      <td>0.6</td>\n",
       "    </tr>\n",
       "    <tr>\n",
       "      <th>Tc_K</th>\n",
       "      <td>190.4</td>\n",
       "      <td>369.8</td>\n",
       "    </tr>\n",
       "    <tr>\n",
       "      <th>Pc_MPa</th>\n",
       "      <td>4.6</td>\n",
       "      <td>4.25</td>\n",
       "    </tr>\n",
       "    <tr>\n",
       "      <th>w</th>\n",
       "      <td>0.011</td>\n",
       "      <td>0.153</td>\n",
       "    </tr>\n",
       "    <tr>\n",
       "      <th>ai</th>\n",
       "      <td>NaN</td>\n",
       "      <td>NaN</td>\n",
       "    </tr>\n",
       "    <tr>\n",
       "      <th>bi</th>\n",
       "      <td>NaN</td>\n",
       "      <td>NaN</td>\n",
       "    </tr>\n",
       "    <tr>\n",
       "      <th>ki</th>\n",
       "      <td>NaN</td>\n",
       "      <td>NaN</td>\n",
       "    </tr>\n",
       "  </tbody>\n",
       "</table>\n",
       "</div>"
      ],
      "text/plain": [
       "         Methane Propane\n",
       "mol_frac     0.4     0.6\n",
       "Tc_K       190.4   369.8\n",
       "Pc_MPa       4.6    4.25\n",
       "w          0.011   0.153\n",
       "ai           NaN     NaN\n",
       "bi           NaN     NaN\n",
       "ki           NaN     NaN"
      ]
     },
     "execution_count": 49,
     "metadata": {},
     "output_type": "execute_result"
    }
   ],
   "source": [
    "### Teacher Solution\n",
    "chemical_data_df_binary_mixture.loc['Tc_K'] = get_chemical_values(chemical_data_df, molecules, 'Tc_K')\n",
    "chemical_data_df_binary_mixture.loc['Pc_MPa'] = get_chemical_values(chemical_data_df, molecules, 'Pc_MPa')\n",
    "chemical_data_df_binary_mixture.loc['w'] = get_chemical_values(chemical_data_df, molecules, 'w')\n",
    "chemical_data_df_binary_mixture"
   ]
  },
  {
   "attachments": {},
   "cell_type": "markdown",
   "metadata": {},
   "source": [
    "So, now you will need to finish the filling in the last three columns of the table. The values for the `ai` column should be the attraction parameter of the component. The values for the `bi` column should be the covolume for the component. The values for the `ki` column should be the binary interaction of component.\n",
    "\n",
    "The equation for the covolume parameter, `bi`, is:\n",
    "\n",
    "$$b_i = 0.07780\\frac{R T_c}{P_c}$$\n",
    "\n",
    "where:\n",
    "\n",
    "* $R$ is the gas constant\n",
    "* $T_c$ is the critical temperature\n",
    "* $P_c$ is the critical pressure\n",
    "\n",
    "The equation for the binary interaction parameter, `ki`, is:\n",
    "\n",
    "\n",
    "$$k_i = 0.37464 + 1.54226\\omega_i - 0.26992\\omega_i^2$$\n",
    "\n",
    "where:\n",
    "* $\\omega_i$ is the acentric factor\n",
    "\n",
    "\n",
    "The equation for the attraction parameter, `ai`, is:\n",
    "\n",
    "$$a_i = 0.45724 \\frac{R^2 T_c^2}{P_c} \\left(1 + \\kappa_i(1 - \\sqrt{T/T_c})\\right)^2$$\n",
    "\n",
    "where:\n",
    "\n",
    "* $R$ is the gas constant\n",
    "* $T_c$ is the critical temperature\n",
    "* $P_c$ is the critical pressure\n",
    "* $\\kappa_i$ is the binary interaction parameters\n",
    "* $T$ is the temperature\n",
    "\n",
    "For this section, you will need to use write the code to calculate `bi` and `ki` and then use the function `ai()`\n",
    "\n",
    "> ***Hint***: When you are setting the values for `chemical_data_df_binary_mixture.loc['{COLUMNNAME}']` you will need to use the `.loc[]` function in place of the variables required in the formulas. For example, for $T_c$, you will need to use `chemical_data_df.loc['Tc_K']` in place of $T_c$."
   ]
  },
  {
   "cell_type": "code",
   "execution_count": 50,
   "metadata": {},
   "outputs": [],
   "source": [
    "# Shift + Enter to run the code\n",
    "from src.thermo import calculate_ai"
   ]
  },
  {
   "cell_type": "code",
   "execution_count": 51,
   "metadata": {},
   "outputs": [
    {
     "data": {
      "text/html": [
       "<div>\n",
       "<style scoped>\n",
       "    .dataframe tbody tr th:only-of-type {\n",
       "        vertical-align: middle;\n",
       "    }\n",
       "\n",
       "    .dataframe tbody tr th {\n",
       "        vertical-align: top;\n",
       "    }\n",
       "\n",
       "    .dataframe thead th {\n",
       "        text-align: right;\n",
       "    }\n",
       "</style>\n",
       "<table border=\"1\" class=\"dataframe\">\n",
       "  <thead>\n",
       "    <tr style=\"text-align: right;\">\n",
       "      <th></th>\n",
       "      <th>Methane</th>\n",
       "      <th>Propane</th>\n",
       "    </tr>\n",
       "  </thead>\n",
       "  <tbody>\n",
       "    <tr>\n",
       "      <th>mol_frac</th>\n",
       "      <td>0.4</td>\n",
       "      <td>0.6</td>\n",
       "    </tr>\n",
       "    <tr>\n",
       "      <th>Tc_K</th>\n",
       "      <td>190.4</td>\n",
       "      <td>369.8</td>\n",
       "    </tr>\n",
       "    <tr>\n",
       "      <th>Pc_MPa</th>\n",
       "      <td>4.6</td>\n",
       "      <td>4.25</td>\n",
       "    </tr>\n",
       "    <tr>\n",
       "      <th>w</th>\n",
       "      <td>0.011</td>\n",
       "      <td>0.153</td>\n",
       "    </tr>\n",
       "    <tr>\n",
       "      <th>ai</th>\n",
       "      <td>None</td>\n",
       "      <td>None</td>\n",
       "    </tr>\n",
       "    <tr>\n",
       "      <th>bi</th>\n",
       "      <td>None</td>\n",
       "      <td>None</td>\n",
       "    </tr>\n",
       "    <tr>\n",
       "      <th>ki</th>\n",
       "      <td>None</td>\n",
       "      <td>None</td>\n",
       "    </tr>\n",
       "  </tbody>\n",
       "</table>\n",
       "</div>"
      ],
      "text/plain": [
       "         Methane Propane\n",
       "mol_frac     0.4     0.6\n",
       "Tc_K       190.4   369.8\n",
       "Pc_MPa       4.6    4.25\n",
       "w          0.011   0.153\n",
       "ai          None    None\n",
       "bi          None    None\n",
       "ki          None    None"
      ]
     },
     "execution_count": 51,
     "metadata": {},
     "output_type": "execute_result"
    }
   ],
   "source": [
    "# Calculate ki and bi AND THEN ai using the function `calculate_ai(chemical_df, molecules, temperature)`\n",
    "\n",
    "chemical_data_df_binary_mixture.loc['ki'] = None # < - Enter your code here, remove None\n",
    "chemical_data_df_binary_mixture.loc['bi'] = None # < - Enter your code here, remove None\n",
    "chemical_data_df_binary_mixture.loc['ai'] = None # < - Enter your code here, remove None\n",
    "chemical_data_df_binary_mixture"
   ]
  },
  {
   "cell_type": "code",
   "execution_count": 52,
   "metadata": {},
   "outputs": [],
   "source": [
    "### Teacher Solution\n",
    "\n",
    "chemical_data_df_binary_mixture.loc['ki'] = 0.37464 + 1.54226 * chemical_data_df_binary_mixture.loc['w'] - 0.26992 * chemical_data_df_binary_mixture.loc['w']**2\n",
    "chemical_data_df_binary_mixture.loc['bi'] = 0.07780 * R * chemical_data_df_binary_mixture.loc['Tc_K'] / chemical_data_df_binary_mixture.loc['Pc_MPa']\n",
    "chemical_data_df_binary_mixture.loc['ai'] = calculate_ai(chemical_data_df_binary_mixture, molecules, T)"
   ]
  },
  {
   "cell_type": "code",
   "execution_count": 53,
   "metadata": {},
   "outputs": [
    {
     "data": {
      "text/html": [
       "<div>\n",
       "<style scoped>\n",
       "    .dataframe tbody tr th:only-of-type {\n",
       "        vertical-align: middle;\n",
       "    }\n",
       "\n",
       "    .dataframe tbody tr th {\n",
       "        vertical-align: top;\n",
       "    }\n",
       "\n",
       "    .dataframe thead th {\n",
       "        text-align: right;\n",
       "    }\n",
       "</style>\n",
       "<table border=\"1\" class=\"dataframe\">\n",
       "  <thead>\n",
       "    <tr style=\"text-align: right;\">\n",
       "      <th></th>\n",
       "      <th>Methane</th>\n",
       "      <th>Propane</th>\n",
       "    </tr>\n",
       "  </thead>\n",
       "  <tbody>\n",
       "    <tr>\n",
       "      <th>mol_frac</th>\n",
       "      <td>0.4</td>\n",
       "      <td>0.6</td>\n",
       "    </tr>\n",
       "    <tr>\n",
       "      <th>Tc_K</th>\n",
       "      <td>190.4</td>\n",
       "      <td>369.8</td>\n",
       "    </tr>\n",
       "    <tr>\n",
       "      <th>Pc_MPa</th>\n",
       "      <td>4.6</td>\n",
       "      <td>4.25</td>\n",
       "    </tr>\n",
       "    <tr>\n",
       "      <th>w</th>\n",
       "      <td>0.011</td>\n",
       "      <td>0.153</td>\n",
       "    </tr>\n",
       "    <tr>\n",
       "      <th>ai</th>\n",
       "      <td>228729.152635</td>\n",
       "      <td>1285925.517754</td>\n",
       "    </tr>\n",
       "    <tr>\n",
       "      <th>bi</th>\n",
       "      <td>26.773104</td>\n",
       "      <td>56.28175</td>\n",
       "    </tr>\n",
       "    <tr>\n",
       "      <th>ki</th>\n",
       "      <td>0.391572</td>\n",
       "      <td>0.604287</td>\n",
       "    </tr>\n",
       "  </tbody>\n",
       "</table>\n",
       "</div>"
      ],
      "text/plain": [
       "                Methane         Propane\n",
       "mol_frac            0.4             0.6\n",
       "Tc_K              190.4           369.8\n",
       "Pc_MPa              4.6            4.25\n",
       "w                 0.011           0.153\n",
       "ai        228729.152635  1285925.517754\n",
       "bi            26.773104        56.28175\n",
       "ki             0.391572        0.604287"
      ]
     },
     "execution_count": 53,
     "metadata": {},
     "output_type": "execute_result"
    }
   ],
   "source": [
    "chemical_data_df_binary_mixture"
   ]
  },
  {
   "cell_type": "markdown",
   "metadata": {},
   "source": [
    "##### Task 7.1.2: Peng-Robinson Equation of State - Mixing Rules - Interaction Parameters between components\n",
    "\n",
    "Interaction parameters between components is usually acquired from literature. For this task, there is a DataFrame that has extracted the interaction parameters from literature. The DataFrame is called `interaction_parameters_df`. The DataFrame has the following columns:\n",
    "\n",
    "* `component_1`: The name of the first component\n",
    "* `component_2`: The name of the second componnet\n",
    "* `k12`: The binary interaction parameter between the first and second component\n",
    "\n",
    "You will need to create a table similar to this:\n",
    "\n",
    "##### chemical_data_interaction_df\n",
    "|i, j |Methane    |Ethane |\n",
    "|-----|--------|-----|\n",
    "|Methane|0       |0.00340  |\n",
    "|Ethane|0.0340       |0  |\n",
    "\n",
    "For this,  you will need to create an empty DataFrame called `chemical_data_interaction_df`. The DataFrame should have your components as the columns **AND** the index. \n",
    "\n",
    "Then, you will need to fill in the DataFrame with either 0 when the component is the same for both column and index, or the value from the `interaction_parameters_df` when the component is different for both column and index.\n",
    "\n",
    "> ***Tip***: Filtering a DataFrame will require .isin() function. An example of this is `filtered_df = df[(df['component_1'].str.upper().isin(filter_components)) & (df['component_2'].str.upper().isin(filter_components))]`.\n",
    "\n",
    "> ***Tip***: Once you have filtered the DataFrame, see what the values are and then you can use the `.loc['{COLUMNNAME}','{INDEXNAME}']` function to set the values\n"
   ]
  },
  {
   "cell_type": "code",
   "execution_count": 54,
   "metadata": {},
   "outputs": [
    {
     "data": {
      "text/html": [
       "<div>\n",
       "<style scoped>\n",
       "    .dataframe tbody tr th:only-of-type {\n",
       "        vertical-align: middle;\n",
       "    }\n",
       "\n",
       "    .dataframe tbody tr th {\n",
       "        vertical-align: top;\n",
       "    }\n",
       "\n",
       "    .dataframe thead th {\n",
       "        text-align: right;\n",
       "    }\n",
       "</style>\n",
       "<table border=\"1\" class=\"dataframe\">\n",
       "  <thead>\n",
       "    <tr style=\"text-align: right;\">\n",
       "      <th></th>\n",
       "      <th>#</th>\n",
       "      <th>component_1</th>\n",
       "      <th>component_2</th>\n",
       "      <th>k12</th>\n",
       "    </tr>\n",
       "  </thead>\n",
       "  <tbody>\n",
       "    <tr>\n",
       "      <th>0</th>\n",
       "      <td>1</td>\n",
       "      <td>benzene</td>\n",
       "      <td>heptane</td>\n",
       "      <td>0.0011</td>\n",
       "    </tr>\n",
       "    <tr>\n",
       "      <th>1</th>\n",
       "      <td>2</td>\n",
       "      <td>carbon dioxide</td>\n",
       "      <td>benzene</td>\n",
       "      <td>0.0774</td>\n",
       "    </tr>\n",
       "    <tr>\n",
       "      <th>2</th>\n",
       "      <td>3</td>\n",
       "      <td>carbon dioxide</td>\n",
       "      <td>decane</td>\n",
       "      <td>0.1141</td>\n",
       "    </tr>\n",
       "    <tr>\n",
       "      <th>3</th>\n",
       "      <td>4</td>\n",
       "      <td>carbon dioxide</td>\n",
       "      <td>ethane</td>\n",
       "      <td>0.1322</td>\n",
       "    </tr>\n",
       "    <tr>\n",
       "      <th>4</th>\n",
       "      <td>5</td>\n",
       "      <td>carbon dioxide</td>\n",
       "      <td>heptane</td>\n",
       "      <td>0.1</td>\n",
       "    </tr>\n",
       "    <tr>\n",
       "      <th>...</th>\n",
       "      <td>...</td>\n",
       "      <td>...</td>\n",
       "      <td>...</td>\n",
       "      <td>...</td>\n",
       "    </tr>\n",
       "    <tr>\n",
       "      <th>56</th>\n",
       "      <td>57</td>\n",
       "      <td>nitrogen</td>\n",
       "      <td>propane</td>\n",
       "      <td>0.0852</td>\n",
       "    </tr>\n",
       "    <tr>\n",
       "      <th>57</th>\n",
       "      <td>58</td>\n",
       "      <td>nitrogen</td>\n",
       "      <td>toluene</td>\n",
       "      <td>0.20142</td>\n",
       "    </tr>\n",
       "    <tr>\n",
       "      <th>58</th>\n",
       "      <td>59</td>\n",
       "      <td>pentane</td>\n",
       "      <td>toluene</td>\n",
       "      <td>0.00845</td>\n",
       "    </tr>\n",
       "    <tr>\n",
       "      <th>59</th>\n",
       "      <td>60</td>\n",
       "      <td>propane</td>\n",
       "      <td>i-butane</td>\n",
       "      <td>−0.0078</td>\n",
       "    </tr>\n",
       "    <tr>\n",
       "      <th>60</th>\n",
       "      <td>61</td>\n",
       "      <td>propane</td>\n",
       "      <td>i-pentane</td>\n",
       "      <td>0.0111</td>\n",
       "    </tr>\n",
       "  </tbody>\n",
       "</table>\n",
       "<p>61 rows × 4 columns</p>\n",
       "</div>"
      ],
      "text/plain": [
       "     #     component_1 component_2      k12\n",
       "0    1         benzene     heptane   0.0011\n",
       "1    2  carbon dioxide     benzene   0.0774\n",
       "2    3  carbon dioxide      decane   0.1141\n",
       "3    4  carbon dioxide      ethane   0.1322\n",
       "4    5  carbon dioxide     heptane      0.1\n",
       "..  ..             ...         ...      ...\n",
       "56  57        nitrogen     propane   0.0852\n",
       "57  58        nitrogen     toluene  0.20142\n",
       "58  59         pentane     toluene  0.00845\n",
       "59  60         propane    i-butane  −0.0078\n",
       "60  61         propane   i-pentane   0.0111\n",
       "\n",
       "[61 rows x 4 columns]"
      ]
     },
     "execution_count": 54,
     "metadata": {},
     "output_type": "execute_result"
    }
   ],
   "source": [
    "# Shift + Enter to run the code\n",
    "import pandas as pd\n",
    "interaction_parameter_df = pd.read_excel(\"src/interaction_parameters_df.xlsx\")\n",
    "interaction_parameter_df"
   ]
  },
  {
   "cell_type": "code",
   "execution_count": 55,
   "metadata": {},
   "outputs": [
    {
     "name": "stdout",
     "output_type": "stream",
     "text": [
      "None\n"
     ]
    }
   ],
   "source": [
    "### Student Solution - 1\n",
    "\n",
    "chemical_data_interaction_df = pd.DataFrame(index=None, columns=None) # < - Enter your code here, remove None\n",
    "\n",
    "# filtered_df = df[(df['component_1'].str.upper().isin(filter_components)) & (df['component_2'].str.upper().isin(filter_components))]`\n",
    "filtered_df = None\n",
    "print(filtered_df) "
   ]
  },
  {
   "cell_type": "code",
   "execution_count": 56,
   "metadata": {},
   "outputs": [
    {
     "name": "stdout",
     "output_type": "stream",
     "text": [
      "    \n",
      " NaN\n"
     ]
    }
   ],
   "source": [
    "### Student Solution - 2\n",
    "\n",
    "chemical_data_interaction_df.loc['',''] = None # < - Enter your code here, remove None\n",
    "chemical_data_interaction_df.loc['',''] = None # < - Enter your code here, remove None\n",
    "chemical_data_interaction_df.loc['',''] = None # < - Enter your code here, remove None\n",
    "chemical_data_interaction_df.loc['',''] = None # < - Enter your code here, remove None\n",
    "\n",
    "print(chemical_data_interaction_df)"
   ]
  },
  {
   "cell_type": "code",
   "execution_count": 57,
   "metadata": {},
   "outputs": [
    {
     "name": "stdout",
     "output_type": "stream",
     "text": [
      "     # component_1 component_2    k12\n",
      "44  45     methane     propane  0.014\n"
     ]
    }
   ],
   "source": [
    "### Teacher Solution - 1\n",
    "\n",
    "chemical_data_interaction_df = pd.DataFrame(index=molecules, columns=molecules)\n",
    "chemical_data_interaction_df\n",
    "\n",
    "filtered_df = interaction_parameter_df[(interaction_parameter_df['component_1'].str.title().isin(molecules)) & (interaction_parameter_df['component_2'].str.title().isin(molecules))]\n",
    "print(filtered_df)"
   ]
  },
  {
   "cell_type": "code",
   "execution_count": 58,
   "metadata": {},
   "outputs": [
    {
     "name": "stdout",
     "output_type": "stream",
     "text": [
      "        Methane Propane\n",
      "Methane       0   0.014\n",
      "Propane   0.014       0\n"
     ]
    }
   ],
   "source": [
    "### Teacher Solution - 2\n",
    "\n",
    "chemical_data_interaction_df.loc['Methane','Propane'] = 0.014 # < - Enter your code here, remove None\n",
    "chemical_data_interaction_df.loc['Propane','Methane'] = 0.014 # < - Enter your code here, remove None\n",
    "chemical_data_interaction_df.loc['Methane','Methane'] = 0 # < - Enter your code here, remove None\n",
    "chemical_data_interaction_df.loc['Propane','Propane'] = 0 # < - Enter your code here, remove None\n",
    "\n",
    "print(chemical_data_interaction_df)"
   ]
  },
  {
   "cell_type": "markdown",
   "metadata": {},
   "source": [
    "#### Task 7.2: Peng-Robinson Equation of State - Mixing Rules - Creating aij table\n",
    "\n",
    "In this section we will now need to create the aij table. The aij table is a table that contains the attraction parameters between components. The table will be called `aij_df`.\n",
    "\n",
    "Remember, the equation for attraction parameter, `aij` is:\n",
    "\n",
    "$$a_{ij} = \\sqrt{a_i a_j}(1 - \\kappa_{ij})$$\n",
    "\n",
    "where:\n",
    "\n",
    "* $a_i$ is the attraction parameter of the first component\n",
    "* $a_j$ is the attraction parameter of the second component\n",
    "* $\\kappa_{ij}$ is the binary interaction parameter between the two components\n",
    "\n",
    "> ***Tip***: You will need to use the function from the module `thermo` called `calculate_df_aij()` to calculate the aij table. The function takes the following arguments: `calculate_df_aij(molecules, chemical_data_df_binary_mixture, chemical_data_interaction_df, df_aij)`. \n",
    "\n",
    "You table will be similar to the interaction table set up, where the columns and the index are the components."
   ]
  },
  {
   "cell_type": "code",
   "execution_count": 59,
   "metadata": {},
   "outputs": [],
   "source": [
    "# Shift + Enter to run the code\n",
    "from src.thermo import calculate_df_aij"
   ]
  },
  {
   "cell_type": "code",
   "execution_count": 60,
   "metadata": {},
   "outputs": [
    {
     "name": "stderr",
     "output_type": "stream",
     "text": [
      "UsageError: Line magic function `%%script` not found.\n"
     ]
    }
   ],
   "source": [
    "### Student Solution\n",
    "\n",
    "%%script false --no-raise-error\n",
    "\n",
    "df_aij = pd.DataFrame(index=None, columns=None) # < - Enter your code here, remove None\n",
    "\n",
    "df_aij = calculate_df_aij()"
   ]
  },
  {
   "cell_type": "code",
   "execution_count": 61,
   "metadata": {},
   "outputs": [
    {
     "data": {
      "text/html": [
       "<div>\n",
       "<style scoped>\n",
       "    .dataframe tbody tr th:only-of-type {\n",
       "        vertical-align: middle;\n",
       "    }\n",
       "\n",
       "    .dataframe tbody tr th {\n",
       "        vertical-align: top;\n",
       "    }\n",
       "\n",
       "    .dataframe thead th {\n",
       "        text-align: right;\n",
       "    }\n",
       "</style>\n",
       "<table border=\"1\" class=\"dataframe\">\n",
       "  <thead>\n",
       "    <tr style=\"text-align: right;\">\n",
       "      <th></th>\n",
       "      <th>Methane</th>\n",
       "      <th>Propane</th>\n",
       "    </tr>\n",
       "  </thead>\n",
       "  <tbody>\n",
       "    <tr>\n",
       "      <th>Methane</th>\n",
       "      <td>228729.152635</td>\n",
       "      <td>534743.584282</td>\n",
       "    </tr>\n",
       "    <tr>\n",
       "      <th>Propane</th>\n",
       "      <td>534743.584282</td>\n",
       "      <td>1285925.517754</td>\n",
       "    </tr>\n",
       "  </tbody>\n",
       "</table>\n",
       "</div>"
      ],
      "text/plain": [
       "               Methane         Propane\n",
       "Methane  228729.152635   534743.584282\n",
       "Propane  534743.584282  1285925.517754"
      ]
     },
     "execution_count": 61,
     "metadata": {},
     "output_type": "execute_result"
    }
   ],
   "source": [
    "### Teacher Solution\n",
    "\n",
    "df_aij = pd.DataFrame(index=molecules, columns=molecules)\n",
    "df_aij = calculate_df_aij(molecules, chemical_data_df_binary_mixture, chemical_data_interaction_df, df_aij)\n",
    "df_aij\n"
   ]
  },
  {
   "cell_type": "markdown",
   "metadata": {},
   "source": [
    "#### Task 7.2.1: Peng-Robinson Equation of State - Mixing Rules - Finding the value of `a`\n",
    "\n",
    "Now that we have our `aij` table, we will need to find the value of `a`. The equation for `a` is:\n",
    "\n",
    "$$a = \\sum_{i=1}^{n}\\sum_{j=1}^{n}x_i x_j a_{ij}$$\n",
    "\n",
    "where:\n",
    "\n",
    "* $x_i$ is the mole fraction of the first component\n",
    "* $x_j$ is the mole fraction of the second component\n",
    "* $a_{ij}$ is the attraction parameter between the two components\n",
    "\n",
    "Create a DataFrame called `a_mol_frac_df` that has columns and indexes again defined by the molecules list.\n",
    "\n",
    "> ***Python***: Use vectorization to calculate the values for the `a_mol_frac_df` DataFrame. To do this, you will need to lock onto the mol fractions of the components and then multiply them by the aij table. `.multiply()` is a good function to use. Make sure you choose the right axis! You may have to chain the `.multiply()` function twice. *ALTERNATIVELY* you can use two for loops to calculate the values for the DataFrame.\n",
    "\n",
    "Once you have completed this table, you will need to sum all the values in the table. This will give you the value of `a`\n"
   ]
  },
  {
   "cell_type": "code",
   "execution_count": 62,
   "metadata": {},
   "outputs": [],
   "source": [
    "### Student Solution\n",
    "\n",
    "# Get the mol fractions in a list\n",
    "\n",
    "# Use the multiply function, with the axis=0 and then axis=1 \n",
    "\n",
    "# Get the sum of the values in the dataframe - use the sum function, twice!"
   ]
  },
  {
   "cell_type": "code",
   "execution_count": 63,
   "metadata": {},
   "outputs": [
    {
     "name": "stdout",
     "output_type": "stream",
     "text": [
      "               Methane        Propane\n",
      "Methane   36596.664422  128338.460228\n",
      "Propane  128338.460228  462933.186391\n",
      "756206.7712684579\n"
     ]
    }
   ],
   "source": [
    "### Teacher Solution\n",
    "\n",
    "# Get the mol fractions in a list\n",
    "mol_frac = chemical_data_df_binary_mixture.loc['mol_frac'].tolist()\n",
    "\n",
    "# Use the multiply function, with the axis=0 and then axis=1\n",
    "df_aij_mol_frac = df_aij.multiply(mol_frac, axis=0).multiply(mol_frac, axis=1)\n",
    "print(df_aij_mol_frac)\n",
    "# Get the sum of the values in the dataframe\n",
    "a = df_aij_mol_frac.sum().sum()\n",
    "print(a)"
   ]
  },
  {
   "cell_type": "markdown",
   "metadata": {},
   "source": [
    "#### Task 7.2.1: Peng-Robinson Equation of State - Mixing Rules - Finding the value of `b`\n",
    "\n",
    "Finally, we will need to find the value of `b`. The equation for `b` is:\n",
    "\n",
    "$$b = \\sum_{i=1}^{n}x_i b_i$$\n",
    "\n",
    "where:\n",
    "\n",
    "* $x_i$ is the mole fraction of the component i\n",
    "* $b_i$ is the covolume of the component i\n",
    "\n",
    "> ***Tip***: You can use `.loc[]` to access the relevant indexes to multiply. Then after the multiplication, you can use `.sum()` to sum all the values."
   ]
  },
  {
   "cell_type": "code",
   "execution_count": 64,
   "metadata": {},
   "outputs": [
    {
     "name": "stderr",
     "output_type": "stream",
     "text": [
      "UsageError: Line magic function `%%script` not found.\n"
     ]
    }
   ],
   "source": [
    "### Student Solution\n",
    "%%script false --no-raise-error\n",
    "b = (df.loc[''] * df.loc['']).sum() # <- adjust the relevant section of the code to get `b`\n",
    "print(b)"
   ]
  },
  {
   "cell_type": "code",
   "execution_count": 65,
   "metadata": {},
   "outputs": [
    {
     "name": "stdout",
     "output_type": "stream",
     "text": [
      "44.47829180448082\n"
     ]
    }
   ],
   "source": [
    "### Teacher Solution\n",
    "b = (chemical_data_df_binary_mixture.loc['mol_frac'] * chemical_data_df_binary_mixture.loc['bi']).sum()\n",
    "print(b)"
   ]
  },
  {
   "cell_type": "markdown",
   "metadata": {},
   "source": [
    "#### Task 7.3: Peng-Robinson Equation of State - Mixing Rules - Finding the roots of the cubic equation\n",
    "\n",
    "We have all the data we need now to find the roots of the cubic equation. Recall, the cubic equation is:\n",
    "\n",
    "$$Z^3 + (1-B)Z^2 + (A-3B^2-2B)Z - (AB-B^2-B^3) = 0$$\n",
    "\n",
    "where:\n",
    "\n",
    "* $Z$ is the compressibility factor\n",
    "* $A$ is the value calculated from `a`\n",
    "* $B$ is the value calculated from `b`\n",
    "\n",
    "You will need to find:\n",
    "\n",
    "1. The value of `A`\n",
    "2. The value of `B`\n",
    "3. Then the values of each coefficient:\n",
    "    * $Z^3$ -> $1$\n",
    "    * $Z^2$ -> $(1-B)$\n",
    "    * $Z^1$ -> $(A-3B^2-2B)$\n",
    "    * $Z^0$ -> $(-(AB-B^2-B^3))$\n",
    "4. Use the CubicEquationSolver module to find the roots using the function `solve(a, b, c, d)`"
   ]
  },
  {
   "cell_type": "code",
   "execution_count": 66,
   "metadata": {},
   "outputs": [
    {
     "name": "stderr",
     "output_type": "stream",
     "text": [
      "UsageError: Line magic function `%%script` not found.\n"
     ]
    }
   ],
   "source": [
    "### Student Solution\n",
    "%%script false --no-raise-error\n",
    "# Find the value of A\n",
    "A = None # <- Enter your code here, remove None\n",
    "\n",
    "# Find the value of B\n",
    "B = None # <- Enter your code here, remove None\n",
    "\n",
    "# Find the coefficients\n",
    "Z_3 = None # <- Enter your code here, remove None\n",
    "Z_2 = None # <- Enter your code here, remove None\n",
    "Z_1 = None # <- Enter your code here, remove None\n",
    "Z_0 = None # <- Enter your code here, remove None\n",
    "\n",
    "# Find the roots of the cubic equation\n",
    "import CubicEquationSolver as ces\n",
    "Z_roots = ces.solve(Z_3, Z_2, Z_1, Z_0)\n",
    "print(Z_roots)\n"
   ]
  },
  {
   "cell_type": "code",
   "execution_count": 78,
   "metadata": {},
   "outputs": [
    {
     "name": "stdout",
     "output_type": "stream",
     "text": [
      "[0.78872989 0.03335064 0.15497862]\n"
     ]
    }
   ],
   "source": [
    "### Teacher Solution\n",
    "\n",
    "# Find the value of A\n",
    "A = a * P / (R * T)**2\n",
    "\n",
    "# Find the value of B\n",
    "B = b * P / (R * T)\n",
    "\n",
    "# Find the coefficients\n",
    "Z_3 = 1\n",
    "Z_2 = -1 + B\n",
    "Z_1 = A - 3 * B**2 - 2 * B\n",
    "Z_0 = -A * B + B**2 + B**3\n",
    "\n",
    "# Find the roots of the cubic equation\n",
    "import CubicEquationSolver as ces\n",
    "Z_roots = ces.solve(Z_3, Z_2, Z_1, Z_0)\n",
    "print(Z_roots)"
   ]
  },
  {
   "cell_type": "markdown",
   "metadata": {},
   "source": [
    "#### Task 7.4: Peng-Robinson Equation of State - Mixing Rules - Fugacity Coefficient\n",
    "\n",
    "The fugacity coefficient is a dimensionless quantity that relates the fugacity of a real gas to its pressure. The real gas pressure and fugacity are related through the dimensionless fugacity coefficient $φ$ [[1]](https://en.wikipedia.org/wiki/Fugacity). For an ideal gas, fugacity and pressure are equal and so $φ$ = 1. Taken at the same temperature and pressure, the difference between the molar Gibbs free energies of a real gas and the corresponding ideal gas is equal to RT $ln(φ)$ [[1]](https://en.wikipedia.org/wiki/Fugacity). Fugacities are determined experimentally or estimated from various models such as a Van der Waals gas that are closer to reality than an ideal gas [[1]](https://en.wikipedia.org/wiki/Fugacity).\n",
    "\n",
    "<center><img src='/home/calvin/Code/Thermo_B/images/fug_coefficient.png' width=\"60%\"></center>\n",
    "\n",
    "We have done a lot of work so far, and as seen by the equation above, we have a lot of data we need to work with. However, for this exercise, we will use a script called `preos` that has been developed to calculate the fugacity coefficient and other properties.\n",
    "\n",
    "Source: https://github.com/CorySimon/PREOS\n",
    "\n",
    "Provided is an example of loading a molecule into the `preos` module. You will need to do this for each molecule in the `molecules` list. The class `Molecule` takes the following arguments: `Molecule(name, temperature, pressure, omega)`. The `name` is the name of the molecule, `temperature` is the critical temperature in Kelvin, `pressure` is the critical pressure in bar , and `omega` is the acentric of the molecule.\n",
    "```\n",
    "xe = preos.Molecule(\"Xe\", 16.59 + 273.15, 58.42, 0.0)\n",
    "xe.print_params()\n",
    "```\n",
    "\n",
    "Make sure to use the chemical_data_df_binary_mixture DataFrame you created!"
   ]
  },
  {
   "cell_type": "code",
   "execution_count": 68,
   "metadata": {},
   "outputs": [],
   "source": [
    "# Shift + Enter to run the code\n",
    "import src.preos as preos"
   ]
  },
  {
   "cell_type": "code",
   "execution_count": 69,
   "metadata": {},
   "outputs": [],
   "source": [
    "### Student Solution\n",
    "\n",
    "# save component 1 and component 2 in variables using preos.Molecule\n"
   ]
  },
  {
   "cell_type": "code",
   "execution_count": 70,
   "metadata": {},
   "outputs": [],
   "source": [
    "### Teacher Solution\n",
    "\n",
    "methane = preos.Molecule('Methane', 190.4, 46, 0.011)\n",
    "propane = preos.Molecule('Propane', 369.8, 42.5, 0.153)"
   ]
  },
  {
   "attachments": {},
   "cell_type": "markdown",
   "metadata": {},
   "source": [
    "Now, for the last part.\n",
    "\n",
    "The `preos` module contains a function called `.preos_mixture()` that takes the following arguments:\n",
    "\n",
    "* molecule_a\n",
    "* molecule_b\n",
    "* delta - the binary interaction parameter between the two molecules\n",
    "* T - the temperature in Kelvin chosen\n",
    "* P - the pressure in bar chosen\n",
    "* x - the mole fraction as list [x_a, x_b]\n",
    "\n",
    "For delta, make sure to use `interaction_parameter_df`"
   ]
  },
  {
   "attachments": {},
   "cell_type": "markdown",
   "metadata": {},
   "source": [
    "### "
   ]
  },
  {
   "cell_type": "code",
   "execution_count": 71,
   "metadata": {},
   "outputs": [
    {
     "name": "stderr",
     "output_type": "stream",
     "text": [
      "UsageError: Line magic function `%%` not found.\n"
     ]
    }
   ],
   "source": [
    "### Student Solution\n",
    "%% script false --no-raise-error\n",
    "T = None # <- Enter your code here, remove None\n",
    "P = None # <- Enter your code here, remove None\n",
    "x = list() # <- Enter your code here, remove None\n",
    "delta = None # <- Enter your code here, remove None\n",
    "\n",
    "mixture = preos.preos_mixture()"
   ]
  },
  {
   "cell_type": "code",
   "execution_count": 72,
   "metadata": {},
   "outputs": [
    {
     "name": "stdout",
     "output_type": "stream",
     "text": [
      "PREOS calculation at\n",
      "        \t T = 233.20 K\n",
      "        \t P, total = 1.00 bar\n",
      "\tDensity: 52.526575 mol/m3\n",
      "\tCompressibility factor : 0.981934\n",
      "Component 0, Methane:\n",
      "\tFugacity coefficient: 0.999675\n",
      "\tFugacity: 0.399870 bar\n",
      "Component 1, Propane:\n",
      "\tFugacity coefficient: 0.970735\n",
      "\tFugacity: 0.582441 bar\n"
     ]
    },
    {
     "data": {
      "image/png": "[encoded data removed]",
      "text/plain": [
       "<Figure size 640x480 with 1 Axes>"
      ]
     },
     "metadata": {},
     "output_type": "display_data"
    }
   ],
   "source": [
    "### Teacher Solution\n",
    "\n",
    "T = 233.2\n",
    "P = 0.1/0.1\n",
    "x = [0.4, 0.6]\n",
    "delta =0.0114\n",
    "mixture = preos.preos_mixture(methane, propane,delta,  T, P, x )"
   ]
  },
  {
   "cell_type": "code",
   "execution_count": null,
   "metadata": {},
   "outputs": [],
   "source": []
  }
 ],
 "metadata": {
  "kernelspec": {
   "display_name": "thermo_env",
   "language": "python",
   "name": "python3"
  },
  "language_info": {
   "codemirror_mode": {
    "name": "ipython",
    "version": 3
   },
   "file_extension": ".py",
   "mimetype": "text/x-python",
   "name": "python",
   "nbconvert_exporter": "python",
   "pygments_lexer": "ipython3",
   "version": "3.9.16"
  },
  "orig_nbformat": 4
 },
 "nbformat": 4,
 "nbformat_minor": 2
}
