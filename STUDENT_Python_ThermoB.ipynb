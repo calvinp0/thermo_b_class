{
 "cells": [
  {
   "cell_type": "markdown",
   "metadata": {},
   "source": [
    "# Thermo B - Student Exercises"
   ]
  },
  {
   "attachments": {},
   "cell_type": "markdown",
   "metadata": {},
   "source": [
    "# Pressure-Volume Diagram\n",
    "\n",
    "<center><img src=\"images/PvVDia.png\" width=\"60%\" ></center>\n",
    "\n",
    "In a pressure-volume diagram, each region corresponds to the range of combinations of temperature and pressure over which that phase is stable [[1]](https://chem.libretexts.org/Bookshelves/General_Chemistry/Map%3A_General_Chemistry_(Petrucci_et_al.)/12%3A_Intermolecular_Forces%3A_Liquids_And_Solids/12.4%3A_Phase_Diagrams)\n",
    "\n",
    "**Liquid Region**: The liquid region would be where the substance is in its liquid phase at a given combination of temperature and pressure.\n",
    "\n",
    "**Liquid-Vapor Region**: The liquid-vapor region on a pressure-volume diagram represents the range of values where both liquid and vapor phases can coexist at equilibrium\n",
    "\n",
    "**Vapour Region**: The vapour region would be where the substance is in its vapour phase at a given combination of temperature and pressure.\n",
    "\n",
    "**Gas Region**: The gas region would be where the substance is in its gas phase at a given combination of temperature and pressure.\n",
    "\n",
    "**Supercritical Region**: In a pressure-temperature phase diagram, the supercritical region is where the liquid and gas phases disappear to become a single supercritical phase [[2]](https://en.wikipedia.org/wiki/Supercritical_fluid). This occurs at conditions beyond the critical point, where temperature and pressure are both higher than their respective critical values."
   ]
  },
  {
   "attachments": {},
   "cell_type": "markdown",
   "metadata": {},
   "source": [
    "## Ideal Gas Law\n",
    "\n",
    "The ideal gas law is a mathematical expression of the state of a hypothetical ideal gas, derived from the kinetic theory of gases and named by the French physicist Jacques Charles in 1787 [[3]](https://en.wikipedia.org/wiki/Ideal_gas_law). It is a special case of the general gas law, which describes the state of any gas.\n",
    "\n",
    "$$PV = RT$$\n",
    "\n",
    "where:\n",
    "\n",
    "* $P$ is the pressure of the gas (Pa)\n",
    "* $V$ is the molar volume of the gas (m $^3$ mol $^{-1}$)\n",
    "* $R$ is the ideal gas constant (8.314 $\\frac{J}{mol\\cdot K}$)\n",
    "* $T$ is the temperature of the gas (K)\n",
    "\n",
    "OR\n",
    "\n",
    "* $P$ is the pressure of the gas (MPa)\n",
    "* $V$ is the molar volume of the gas (cm $^3$ mol $^{-1}$)\n",
    "* $R$ is the ideal gas constant (8.314 $\\frac{cm^3 MPa}{mol\\cdot K}$)\n",
    "* $T$ is the temperature of the gas (K)"
   ]
  },
  {
   "attachments": {},
   "cell_type": "markdown",
   "metadata": {},
   "source": [
    "### Task 1: Ideal Gas Law Calculation\n",
    "\n",
    "Calculate the theoretical pressure of the gas, CO<sub>2</sub>, at various temperatures and volumes.\n",
    "\n",
    "> **Python**: For this task, you will need to use the ideal gas law function from the `thermo` module. The function is called `ideal_gas_law` and takes the following arguments: \n",
    "> \n",
    "> `ideal_gas_law(gas_constant: float, list_of_volumes: List, list_of_temperatures: List)`. \n",
    "> \n",
    "> The function returns a DataFrame (a DataFrame is a table of data) with the calculated pressures for each combination of temperature and volume. The index of the Dataframe is the volume and the columns are the temperatures."
   ]
  },
  {
   "cell_type": "code",
   "execution_count": 6,
   "metadata": {},
   "outputs": [],
   "source": [
    "# Press Shift+Enter to run the code\n",
    "# This will import the function ideal_gas_law from the file thermo.py\n",
    "from src.thermo import ideal_gas_law"
   ]
  },
  {
   "attachments": {},
   "cell_type": "markdown",
   "metadata": {},
   "source": [
    "> ***Strongly Recommended***: You can get the `docstring` for a function by using the ? symbol before the function name. The docstring contains information about the function, including the arguments and the return type. We highly recommend you use this to understand the functions you are using. For example, to get the docstring for the `ideal_gas_law` function, you would type `?ideal_gas_law` in a code cell and run it."
   ]
  },
  {
   "cell_type": "code",
   "execution_count": 7,
   "metadata": {},
   "outputs": [
    {
     "name": "stdout",
     "output_type": "stream",
     "text": [
      "\u001b[0;31mSignature:\u001b[0m\n",
      "\u001b[0mideal_gas_law\u001b[0m\u001b[0;34m(\u001b[0m\u001b[0;34m\u001b[0m\n",
      "\u001b[0;34m\u001b[0m    \u001b[0mgas_constant\u001b[0m\u001b[0;34m:\u001b[0m \u001b[0mfloat\u001b[0m\u001b[0;34m,\u001b[0m\u001b[0;34m\u001b[0m\n",
      "\u001b[0;34m\u001b[0m    \u001b[0mlist_of_volumes\u001b[0m\u001b[0;34m:\u001b[0m \u001b[0mList\u001b[0m\u001b[0;34m,\u001b[0m\u001b[0;34m\u001b[0m\n",
      "\u001b[0;34m\u001b[0m    \u001b[0mlist_of_temperatures\u001b[0m\u001b[0;34m:\u001b[0m \u001b[0mList\u001b[0m\u001b[0;34m,\u001b[0m\u001b[0;34m\u001b[0m\n",
      "\u001b[0;34m\u001b[0m\u001b[0;34m)\u001b[0m \u001b[0;34m->\u001b[0m \u001b[0mpandas\u001b[0m\u001b[0;34m.\u001b[0m\u001b[0mcore\u001b[0m\u001b[0;34m.\u001b[0m\u001b[0mframe\u001b[0m\u001b[0;34m.\u001b[0m\u001b[0mDataFrame\u001b[0m\u001b[0;34m\u001b[0m\u001b[0;34m\u001b[0m\u001b[0m\n",
      "\u001b[0;31mDocstring:\u001b[0m\n",
      "A function that calculates the pressure of an ideal gas at a given temperature and volume.\n",
      "\n",
      "Args:\n",
      "    gas_constant (float): The gas constant - 8.3145 J/mol*K \n",
      "    list_of_volumes (List): A list of volumes in m^3\n",
      "    list_of_temperatures (List): A list of temperatures in K\n",
      "\n",
      "Returns:\n",
      "    pd.DataFrame: A DataFrame with the pressure of an ideal gas at a given temperature and volume.\n",
      "\u001b[0;31mFile:\u001b[0m      ~/Code/Thermo_B/src/thermo.py\n",
      "\u001b[0;31mType:\u001b[0m      function"
     ]
    }
   ],
   "source": [
    "?ideal_gas_law"
   ]
  },
  {
   "attachments": {},
   "cell_type": "markdown",
   "metadata": {},
   "source": [
    "`R` will be provided for you in the code cell below. For this task, the units used will be cm $^3$ MPa mol $^{-1}$ K $^{-1}$.\n",
    "\n",
    "`list_of_volumes` will be the list of volumes with units of cm $^3$ mol $^{-1}$. You will need to create this list, ranging from `30` to `600` in steps of `1`. Do not forget that the `range` function does not include the last value.\n",
    "\n",
    "`list_of_temperatures` will be the list of temperatures with units of K. You will need to create this list, The values of the temperatures are: `255.2`, `265.1`, `274.4`, `284.0`, `294.4`, `304.1`, `334.1`, `354.1`"
   ]
  },
  {
   "cell_type": "code",
   "execution_count": null,
   "metadata": {},
   "outputs": [],
   "source": [
    "R = 8.314 # cm^3*MPa/mol*K\n",
    "list_of_volumes = list(range('START', 'END','STEP'))# cm^3mol^-1\n",
    "list_of_temperatures = ['Put Values Here'] # K"
   ]
  },
  {
   "cell_type": "code",
   "execution_count": null,
   "metadata": {},
   "outputs": [],
   "source": [
    "# Call the ideal_gas_law function with the appropriate arguments and set it to the variable ideal_gas_law_df\n",
    "ideal_gas_law_df = ideal_gas_law()"
   ]
  },
  {
   "attachments": {},
   "cell_type": "markdown",
   "metadata": {},
   "source": [
    "### Task 2: Ideal Gas Law Plot and the Critical Point\n",
    "\n",
    "In this task you will need to do the following:\n",
    "1. Plot the pressure of the gas, CO<sub>2</sub>, at various temperatures and volumes using the Dataframe from Task 1.\n",
    "2. Plot the critical point of the gas, CO<sub>2</sub>, on the pressure-volume diagram.\n",
    "\n",
    "> **Python**: For this task, you will need to use the `plot_ideal_gas_law` function from the `thermo` module. The function is called `plot_ideal_gas_law` and takes the following arguments: `plot_ideal_gas_law(ideal_gas_law_df: pd.DataFrame)`. The function returns a plot of the Dataframe. However, the plot will not be shown in the notebook. You will need to use the `plt.show()` function to display the plot. Additionally, you will need to use the `plt.figure(figsize=(width, height))` function to set the size of the plot. Recommended is a width of 10 and a height of 10. You will also need to use the `plt.title()` function to set the title of the plot. You can use the `plt.xlabel()` and `plt.ylabel()` functions to set the x and y axis labels.\n",
    "\n",
    "> **Python**: The plotting of the critical point will require the usage of `plt.scatter()`. The parameters are `x`, `y`, `color` and `label`. This function does not require to be set as a variable, but only called with the correct parameters.\n",
    "\n",
    "> ***Tip***: Before calling `plt.show()`, ensure you have plotted both the ideal gas law and the critical point on the same plot.\n",
    "\n",
    "> ***Tip***: You can get the docstring for a function by using the ? symbol after the function name\n",
    " "
   ]
  },
  {
   "cell_type": "code",
   "execution_count": 6,
   "metadata": {},
   "outputs": [],
   "source": [
    "# Press Shift+Enter to run the code\n",
    "from src.thermo import plot_ideal_gas_law\n",
    "import matplotlib.pyplot as plt"
   ]
  },
  {
   "cell_type": "code",
   "execution_count": 75,
   "metadata": {},
   "outputs": [
    {
     "name": "stdout",
     "output_type": "stream",
     "text": [
      "\u001b[0;31mSignature:\u001b[0m \u001b[0mplot_ideal_gas_law\u001b[0m\u001b[0;34m(\u001b[0m\u001b[0mideal_gas_law_df\u001b[0m\u001b[0;34m:\u001b[0m \u001b[0mpandas\u001b[0m\u001b[0;34m.\u001b[0m\u001b[0mcore\u001b[0m\u001b[0;34m.\u001b[0m\u001b[0mframe\u001b[0m\u001b[0;34m.\u001b[0m\u001b[0mDataFrame\u001b[0m\u001b[0;34m)\u001b[0m \u001b[0;34m->\u001b[0m \u001b[0;32mNone\u001b[0m\u001b[0;34m\u001b[0m\u001b[0;34m\u001b[0m\u001b[0m\n",
      "\u001b[0;31mDocstring:\u001b[0m <no docstring>\n",
      "\u001b[0;31mFile:\u001b[0m      ~/Code/Thermo_B/src/thermo.py\n",
      "\u001b[0;31mType:\u001b[0m      function"
     ]
    }
   ],
   "source": [
    "?plot_ideal_gas_law"
   ]
  },
  {
   "cell_type": "code",
   "execution_count": 7,
   "metadata": {},
   "outputs": [],
   "source": [
    "# From literature of CO2 Critical Point\n",
    "critical_point_pressure = 7.377 # MPa\n",
    "critical_point_temperature = 304.1 # K\n",
    "critical_point_volume = 94.120 # cm^3 mol^-1"
   ]
  },
  {
   "cell_type": "code",
   "execution_count": 8,
   "metadata": {},
   "outputs": [
    {
     "name": "stderr",
     "output_type": "stream",
     "text": [
      "UsageError: Line magic function `%%script` not found.\n"
     ]
    }
   ],
   "source": [
    "# You will need to set the plt.figure() dimensions here. Do not set it as a variable\n",
    "\n",
    "# Call the plot_ideal_gas_law function with the appropriate argument - You will not need to set it as a variable\n",
    "plot_ideal_gas_law()\n",
    "\n",
    "# Provide the x and y labels for the plot. Do not set them as a variable\n",
    "\n",
    "# Provide the scatter point on the plot which will show the critical point of CO2. Do not set it as a variable\n",
    "\n",
    "# Instantiate the legend of the plot\n",
    "plt.legend()\n",
    "# Provide the title of the plot\n",
    "\n",
    "# Show the plot\n"
   ]
  },
  {
   "attachments": {},
   "cell_type": "markdown",
   "metadata": {},
   "source": [
    "As it can be seen, the Critical Point of CO<sub>2</sub> is nowhere near the ideal gas law for temperature 304.1K\n",
    "\n",
    "#### Assumptions:\n",
    "\n",
    "* The gas is a perfect gas\n",
    "* The volume of the gas is negligible compared to the volume of the container\n",
    "* There is no intermolecular attraction or repulsion between the gas molecules\n",
    "\n",
    "#### Limitations:\n",
    "\n",
    "* The ideal gas law is only valid for a small range of temperatures and pressures\n",
    "* It is unreliable at high pressures and low temperatures\n",
    "* Cannot predict vapour-liquid coexistence"
   ]
  },
  {
   "attachments": {},
   "cell_type": "markdown",
   "metadata": {},
   "source": [
    "## Peng-Robinson Equation of State\n",
    "\n",
    "<center><img src=images/preos.png width=\"60%\"></center>\n",
    "\n",
    "The Peng-Robinson equation of state (PR EOS) is a cubic equation of state that was developed in 1976 at The University of Alberta by Ding-Yu Peng and Donald Robinson [[4]](https://en.wikipedia.org/wiki/Cubic_equations_of_state). It is used to predict the behavior of fluids, particularly natural gas systems [[5]](https://eng.libretexts.org/Bookshelves/Chemical_Engineering/Phase_Relations_in_Reservoir_Engineering_(Adewumi)/11%3A_Cubic_EOS_and_Their_Behavior_III/11.01%3A_Peng-Robinson_EOS_(1976)).\n",
    "\n",
    "The PR EOS is more accurate than the Ideal Gas Law for predicting the behavior of real gases because it takes into account molecular interactions and volume [[6]](https://www.sciencedirect.com/topics/chemistry/peng-robinson-equation-of-state)."
   ]
  },
  {
   "attachments": {},
   "cell_type": "markdown",
   "metadata": {},
   "source": [
    "### Task 3: Peng-Robinson Equation of State Calculation\n",
    "\n",
    "Calculate the theoretical pressure of the gas, CO<sub>2</sub>, at various temperatures and volumes using the Peng-Robinson Equation of State.\n",
    "\n",
    "> **Python**: For this task, you will need to use the Peng-Robinson Equation of State function from the `thermo` module. The function is called `peng_robinson_eos` and takes the following arguments: `peng_robinson_eos(gas_constant: float, list_of_volumes: List, list_of_temperatures: List, kappa: float, bc: float, ac: float, alpha: Callable)`. The function returns a Dataframe with the calculated pressures for each combination of temperature and volume. The index of the Dataframe is the volume and the columns are the temperatures.\n",
    "\n",
    "> ***Acentric Factor***: The acentric factor is a measure of how \"non-spherical\" a molecule is. The closer the acentric factor is to 0, the more spherical the molecule is. The closer the acentric factor is to 1, the more non-spherical the molecule is. The acentric factor is used in the Peng-Robinson EOS to calculate the parameter alpha."
   ]
  },
  {
   "cell_type": "code",
   "execution_count": 10,
   "metadata": {},
   "outputs": [],
   "source": [
    "from src.thermo import peng_robinson_eos"
   ]
  },
  {
   "cell_type": "code",
   "execution_count": 11,
   "metadata": {},
   "outputs": [],
   "source": [
    "# Values for the Peng-Robinson EOS\n",
    "critical_point_pressure = 7.377 # MPa\n",
    "critical_point_temperature = 304.1 # K\n",
    "w = 0.224 # Acentric Factor of CO2 - Acquired from literature"
   ]
  },
  {
   "cell_type": "markdown",
   "metadata": {},
   "source": [
    "#### Kappa\n",
    "\n",
    "The kappa parameter is a dimensionless parameter that is calculated from the acentric factor of the substance. The acentric factor is used to measure the non-sphericity of a molecule. The kappa parameter is calculated using the following equation:\n",
    "\n",
    "$$\\kappa = 0.37464 + 1.54226\\omega - 0.26992\\omega^2$$\n",
    "\n",
    "where:\n",
    "\n",
    "* $\\omega$ is the acentric factor of the substance\n",
    "  "
   ]
  },
  {
   "cell_type": "code",
   "execution_count": 12,
   "metadata": {},
   "outputs": [
    {
     "name": "stderr",
     "output_type": "stream",
     "text": [
      "UsageError: Line magic function `%%script` not found.\n"
     ]
    }
   ],
   "source": [
    "# Find Kappa for the Peng-Robinson EOS and set the value to the variable kappa\n",
    "\n",
    "kappa = None # < - Enter your code here, remove None"
   ]
  },
  {
   "cell_type": "markdown",
   "metadata": {},
   "source": [
    "#### Alpha\n",
    "\n",
    "The alpha function is a function of temperature that is used to calculate the acentric factor of the gas. The acentric factor is a measure of the deviation of the gas from ideal gas behavior. The acentric factor is used to calculate the a and b constants of the Peng-Robinson Equation of State. The alpha function is defined as:\n",
    "\n",
    "$$\\alpha(T) = \\left(1 + \\kappa \\left(1 - \\sqrt{\\frac{T}{T_c}}\\right)\\right)^2$$\n",
    "\n",
    "where: \n",
    "\n",
    "* $T$ is the temperature\n",
    "* $\\kappa$ is the acentric factor\n",
    "* $T_c$ is the critical temperature\n",
    "\n",
    "As we already know $\\kappa$ and $T_c$, we can create a function that takes in T and returns the value of alpha:\n",
    "\n",
    "Two ways to do this - *lambda* or defining a *function*\n",
    "\n",
    "You can run either Cell below\n"
   ]
  },
  {
   "attachments": {},
   "cell_type": "markdown",
   "metadata": {},
   "source": [
    "##### Lambda\n",
    "\n",
    "Lambda is a way to create a function in one line. It is useful when you want to create a function that is only used once. The syntax for lambda is:\n",
    "\n",
    "```python\n",
    "lambda arguments: expression\n",
    "```"
   ]
  },
  {
   "cell_type": "code",
   "execution_count": 14,
   "metadata": {},
   "outputs": [],
   "source": [
    "# Lambda version of alpha\n",
    "alpha = lambda T: (1 + kappa * (1 - (T / critical_point_temperature)**0.5))**2"
   ]
  },
  {
   "attachments": {},
   "cell_type": "markdown",
   "metadata": {},
   "source": [
    "##### Function\n",
    "\n",
    "A function is a block of code that is used to perform a specific task. The syntax for a function is:\n",
    "\n",
    "```python\n",
    "def function_name(arguments):\n",
    "    expression\n",
    "    return value\n",
    "```"
   ]
  },
  {
   "cell_type": "code",
   "execution_count": 10,
   "metadata": {},
   "outputs": [],
   "source": [
    "# Function version of alpha\n",
    "def alpha(Temp: float) -> float:\n",
    "    \n",
    "    alpha_value =  (1 + kappa * (1 - (Temp / critical_point_temperature)**0.5))**2\n",
    "    \n",
    "    return alpha_value"
   ]
  },
  {
   "attachments": {},
   "cell_type": "markdown",
   "metadata": {},
   "source": [
    "#### ac variable\n",
    "\n",
    "The a variable is defined as:\n",
    "\n",
    "$$ac = 0.45724\\frac{{\\alpha}R^2T_c^2}{P_c}$$\n",
    "\n",
    "where: \n",
    "* $\\alpha$ is the alpha function\n",
    "* $R$ is the ideal gas constant\n",
    "* $T_c$ is the critical temperature\n",
    "* $P_c$ is the critical pressure\n",
    "\n",
    "For this section you will not need to include the $\\alpha$ function as it is already included in the `peng_robinson_eos` function.\n",
    "\n",
    "Therefore, the ac variable is defined as:\n",
    "\n",
    "$$ac = 0.45724\\frac{R^2T_c^2}{P_c}$$\n",
    "\n"
   ]
  },
  {
   "cell_type": "code",
   "execution_count": null,
   "metadata": {},
   "outputs": [],
   "source": [
    "# Since alpha is a function/lambda, it will not be included in the variable ac, but instead will be included in the function peng_robinson_eos\n",
    "\n",
    "ac = None"
   ]
  },
  {
   "attachments": {},
   "cell_type": "markdown",
   "metadata": {},
   "source": [
    "#### bc variable\n",
    "\n",
    "The bc variable is defined as:\n",
    "\n",
    "$$bc = 0.07780\\frac{R T_c}{P_c}$$\n",
    "\n",
    "where:\n",
    "\n",
    "* $R$ is the ideal gas constant\n",
    "* $T_c$ is the critical temperature\n",
    "* $P_c$ is the critical pressure"
   ]
  },
  {
   "cell_type": "code",
   "execution_count": 19,
   "metadata": {},
   "outputs": [],
   "source": [
    "# Find the value of bc and set it to the variable bc\n",
    "bc = None # < - Enter your code here, remove None"
   ]
  },
  {
   "cell_type": "markdown",
   "metadata": {},
   "source": [
    "#### Peng-Robinson Equation of State Function\n",
    "\n",
    "Now that you have the required variables for the Peng-Robinson Equation of State function, you can create the function."
   ]
  },
  {
   "cell_type": "code",
   "execution_count": null,
   "metadata": {},
   "outputs": [],
   "source": [
    "# Call the peng_robinson_eos function with the appropriate arguments and set it to the variable peng_robinson_eos_df\n",
    "peng_robinson_eos_df = peng_robinson_eos()"
   ]
  },
  {
   "attachments": {},
   "cell_type": "markdown",
   "metadata": {},
   "source": [
    "### Task 4: Peng-Robinson Equation of State Plot\n",
    "\n",
    "In this task you will need to on the same plot:\n",
    "\n",
    "1. Plot the pressure of the gas, CO<sub>2</sub>, at various temperatures and volumes using the Dataframe from Task 3\n",
    "2. Plot the critical point of the gas, CO<sub>2</sub> on the pressure-volume diagram\n",
    "\n",
    "> **Python**: For this task, you will need to use the `plot_peng_robinson_eos` function from the `thermo` module. The function takes the following arguments: `plot_peng_robinson_eos(peng_robinson_eos_df: pd.DataFrame)`. The function returns a plot of the Dataframe. However, the plot will not be shown in the notebook. You will need to use the `plt.show()` function to display the plot. Additionally, you will need to use the `plt.figure(figsize(width, height))` function to set the size of the plot. Recommended is a width of 10 and a height of 10. You will also need to use the `plt.title()`. function to set the title of the plot. You can use the `plt.xlabel()` and `plt.ylabel()` functions.to set the x and y axis labels. Also, set the y axis limits using `plt.ylim()` functions.\n",
    "\n",
    "> ***Tip***: Before calling `plt.show()`, ensure you have plotted both the ideal gas law and the critical point on the same plot.\n",
    "\n",
    "> ***Tip***: You can get the docstring for a function by using the ? symbol after the function name"
   ]
  },
  {
   "cell_type": "code",
   "execution_count": 23,
   "metadata": {},
   "outputs": [],
   "source": [
    "from src.thermo import plot_peng_robinson_eos"
   ]
  },
  {
   "cell_type": "code",
   "execution_count": null,
   "metadata": {},
   "outputs": [],
   "source": [
    "# Similar to the previous plot, you will need to set the plt.figure() dimensions here. Do not set it as a variable\n",
    "\n",
    "# Set the y limit of the plot to 0 and 10\n",
    "\n",
    "# Call the plot_ideal_gas_law function with the appropriate argument - You will not need to set it as a variable\n",
    "plot_peng_robinson_eos()\n",
    "\n",
    "# Provide the x and y labels for the plot. Do not set them as a variable - X label is the molar volume and y label is the pressure \n",
    "\n",
    "# Provide the scatter point on the plot which will show the critical point of CO2. Do not set it as a variable The color of the scatter point should be red and the label should be 'Critical Point'\n",
    "\n",
    "# Instantiate the legend of the plot\n",
    "\n",
    "# Provide the title of the plot\n",
    "\n",
    "# Show the plot\n",
    "\n",
    "### Teacher Solution\n"
   ]
  },
  {
   "attachments": {},
   "cell_type": "markdown",
   "metadata": {},
   "source": [
    "#### Peng-Robinson Equation of State Plot\n",
    "\n",
    "As you can see, the Peng-Robinson Equation of State is a much better fit for the data than the Ideal Gas Law.\n",
    "\n",
    "It provides better accuracy near the critical point and for the liquid molar volumes and it can be used to predict the vapour-liquid equilibria with good accuracy when combined with appropriate mixing rules."
   ]
  },
  {
   "attachments": {},
   "cell_type": "markdown",
   "metadata": {},
   "source": [
    "### Peng-Robinson Equation of State Polynomial Form\n",
    "\n",
    "<center><img src=images/preos_polynomial.png widht=\"110%\"></center>\n",
    "\n",
    "In a more compact and dimensionless form, the Peng-Robinson EOS can be restated as a cubic in $Z$. This is the polynomial form of the Peng Robinson Equation of State. This sets up a cubic equation in $Z$, which has three real roots (as opposed to being imaginary). The largest root is the value of $Z_v$; the smallest root is the value of $Z_L$; and the third root is discarded as having no physical meaning.\n",
    "\n",
    "So how do we solve for the roots? In Python, we will use the module `CubicEquationSolver` which contains the function `solve(a, b, c, d)` which takes the coefficients of the cubic equation and returns the roots in an array.\n",
    "\n",
    "Polynomial Structure:\n",
    "\n",
    "$${ax^3} + {bx^2} + {cx} + {d} = 0$$"
   ]
  },
  {
   "attachments": {},
   "cell_type": "markdown",
   "metadata": {},
   "source": [
    "### Task 5: Finding the Roots of the Peng Robinson Equation of State\n",
    "\n",
    "Find the roots of the Peng Robinson Equation of State Polynomial for the gas, CO<sub>2</sub>, at the temperature `284.0K` and pressure at `4.6 MPa`.\n"
   ]
  },
  {
   "cell_type": "code",
   "execution_count": 12,
   "metadata": {},
   "outputs": [],
   "source": [
    "# Shift + Enter to run the code\n",
    "import src.CubicEquationSolver as ces"
   ]
  },
  {
   "cell_type": "markdown",
   "metadata": {},
   "source": [
    "#### Breaking up the equation: $Z^3$\n",
    "\n",
    "Define the variable Z_3 as the coefficient of $Z^3$ from the polynomial"
   ]
  },
  {
   "cell_type": "code",
   "execution_count": 27,
   "metadata": {},
   "outputs": [],
   "source": [
    "Z_3 = None # < - Enter your code here, remove None"
   ]
  },
  {
   "attachments": {},
   "cell_type": "markdown",
   "metadata": {},
   "source": [
    "#### Breaking up the equation: $Z^2$\n",
    "\n",
    "Define the variable Z_2 as the coefficient of $Z^2$ from the polynomial\n",
    "\n",
    "> ***Tip***: $-(1-B)$ \n",
    "\n",
    "> ***Tip***: $B = \\frac{bP}{RT}$\n",
    "\n",
    "> ***Tip***: Use the variable bc from the previous task"
   ]
  },
  {
   "cell_type": "code",
   "execution_count": 29,
   "metadata": {},
   "outputs": [],
   "source": [
    "B = None # < - Enter your code here, remove None\n",
    "Z_2 = None # < - Enter your code here, remove None"
   ]
  },
  {
   "attachments": {},
   "cell_type": "markdown",
   "metadata": {},
   "source": [
    "#### Breaking up the equation: $Z^1$\n",
    "\n",
    "Define the variable Z_1 as the coefficient of $Z^1$ from the polynomial\n",
    "\n",
    "> ***Tip***: $(A-2B-3B^2)$\n",
    "\n",
    "> ***Tip***: $A = \\frac{aP}{R^2T^2}$\n",
    "\n",
    "> ***Tip***: ac is the variable from the previous task **BUT it must be adjusted due to the alpha function, which is a function of T!**"
   ]
  },
  {
   "cell_type": "code",
   "execution_count": 31,
   "metadata": {},
   "outputs": [],
   "source": [
    "alpha_temp = None # < - Enter your code here, remove None\n",
    "a = None # < - Enter your code here, remove None\n",
    "A = None # < - Enter your code here, remove None\n",
    "\n",
    "Z_1 = None # < - Enter your code here, remove None"
   ]
  },
  {
   "cell_type": "markdown",
   "metadata": {},
   "source": [
    "#### Breaking up the equation: $Z^0$\n",
    "\n",
    "Define the variable Z_0 as the coefficient of $Z_O$ from the polynomial\n",
    "\n",
    "> ***Tip***: $-(AB-B^2-B^3)$"
   ]
  },
  {
   "cell_type": "code",
   "execution_count": 33,
   "metadata": {},
   "outputs": [],
   "source": [
    "Z_0 = None # < - Enter your code here, remove None"
   ]
  },
  {
   "attachments": {},
   "cell_type": "markdown",
   "metadata": {},
   "source": [
    "#### Solving for the roots\n",
    "\n",
    "Recall that you will need to use the `CubicEquationSolver` module to solve for the roots. The function is `solve(a, b, c, d)` where it takes the coefficients of the polynomial. Furthermore, the return value is an array of the roots. As there are three roots, you will need to store each root in a variable. The variables should be called:\n",
    "\n",
    "Z_v: The largest root\n",
    "\n",
    "Z_l: The smallest root\n",
    "\n",
    "Z_none: The middle root"
   ]
  },
  {
   "cell_type": "code",
   "execution_count": 35,
   "metadata": {},
   "outputs": [],
   "source": [
    "_, _, _ = ces.solve() # < - Enter your code here. Variables will need to be set. So where it i s'_' you will need to rename them to the appropriate variable name as in the instructions above\n",
    "\n",
    "print (f'Vapour root: {_},\\nNo Physical Meaning root: {_},\\nLiquid root: {_}')"
   ]
  },
  {
   "cell_type": "markdown",
   "metadata": {},
   "source": [
    "### Task 6: Peng-Robinson Equation of State Plot - Roots\n",
    "\n",
    "Now let's take a look at the plot of CO<sub>2</sub> at temperature 284.0K and pressure at 4.6 MPa. On the plot we will also plot the saturation pressure and the saturation temperature, acquired from literature."
   ]
  },
  {
   "cell_type": "code",
   "execution_count": 37,
   "metadata": {},
   "outputs": [],
   "source": [
    "import matplotlib.pyplot as plt\n",
    "from src.thermo import plot_example_ideal_gas_law_and_peng_robinson_eos"
   ]
  },
  {
   "cell_type": "code",
   "execution_count": null,
   "metadata": {},
   "outputs": [],
   "source": [
    "plt.figure(figsize = (10, 10))\n",
    "\n",
    "plot_example_ideal_gas_law_and_peng_robinson_eos()"
   ]
  },
  {
   "attachments": {},
   "cell_type": "markdown",
   "metadata": {},
   "source": [
    "#### Peng-Robinson Equation of State - CO<sub>2</sub> at 284.0K and 4.6 MPa Example\n",
    "\n",
    "As it can be seen, the saturation line (acquired from  literature) passes through the Peng-Robinson Equation of State plot three times. This is because the Peng-Robinson Equation of State has three roots. The largest root is the value of $Z_v$; the smallest root is the value of $Z_l$; and the third root is discarded as having no physical meaning."
   ]
  },
  {
   "attachments": {},
   "cell_type": "markdown",
   "metadata": {},
   "source": [
    "#### Task 6.1: Calculating the Volumes at the roots\n",
    "\n",
    "Calculate the volumes at the roots of the Peng-Robinson Equation of State for the gas, CO<sub>2</sub>, at the temperature 284.0K and pressure at 4.6 MPa.\n",
    "\n",
    "The equation for the volume is:\n",
    "\n",
    "$$V = \\frac{RTZ}{P}$$\n",
    "\n",
    "where:\n",
    "\n",
    "* $R$ is the ideal gas constant (8.314 J/mol/K)\n",
    "* $T$ is the temperature (K)\n",
    "* $P$ is the pressure (MPa)\n",
    "* $Z$ is the root of the Peng-Robinson Equation of State\n",
    "\n",
    "The volume variable names should be\n",
    "\n",
    "V_v: The volume at the largest root\n",
    "\n",
    "V_l: The volume at the smallest root\n",
    "\n",
    "V_none: The volume at the middle root\n",
    "\n",
    "> ***Tip***: Use the variables from the previous task"
   ]
  },
  {
   "cell_type": "code",
   "execution_count": 39,
   "metadata": {},
   "outputs": [
    {
     "name": "stdout",
     "output_type": "stream",
     "text": [
      "Vapour volume: None,\n",
      "No Physical Meaning volume: None,\n",
      "Liquid volume: None\n"
     ]
    }
   ],
   "source": [
    "V_v = None # < - Enter your code here, remove None\n",
    "V_l = None # < - Enter your code here, remove None\n",
    "V_None = None # < - Enter your code here, remove None\n",
    "\n",
    "print (f'Vapour volume: {V_v},\\nNo Physical Meaning volume: {V_None},\\nLiquid volume: {V_l}')"
   ]
  },
  {
   "cell_type": "markdown",
   "metadata": {},
   "source": [
    "#### Task 6.2: Plot the volumes at the roots on the Peng-Robinson Equation of State Plot of CO<sub>2</sub> at 284.0K and 4.6 MPa\n",
    "\n",
    "Plot the volumes at the roots on the Peng-Robinson Equation of State Plot of CO<sub>2</sub> at 284.0K and 4.6 MPa. \n",
    "\n",
    "You will need to use the `plt.scatter()` function to plot the points. The function takes the following arguments: `plt.scatter(x, y, label)`. The x and y arguments are the x and y coordinates of the point and the label is what will be shown in the legend. \n",
    "\n",
    "Further to this, you will need to annotate two of the points with either `Dew Point` or `Bubble Point`.You will need to use the `plt.annotate()` function to annotate the points. The function takes the following arguments: `plt.annotate(text, xy=(x, y), rotation=45)`. The text argument is the text to be displayed. The xy argument is the x and y coordinates of the point. The rotation argument is the rotation of the text. In this instance, it will be set to 45 degrees.\n",
    "\n",
    "After you have plotted the points, you will need to use the the function `plot_example_ideal_gas_law_and_peng_robinson_eos()`, as can be seen in the example above of the plot."
   ]
  },
  {
   "cell_type": "code",
   "execution_count": 41,
   "metadata": {},
   "outputs": [],
   "source": [
    "# Set the figure size to 10, 10\n",
    "\n",
    "# Plot the scatter of V_v against the pressure with the color red and label 'Vapour'\n",
    "\n",
    "# Plot the scatter of V_l against the pressure with the color blue and label 'Liquid'\n",
    "\n",
    "# Plot the scatter of V_None against the pressure with the color green and label 'No Physical Meaning'\n",
    "\n",
    "# Annotate the Dew Point line with the text 'Dew Point' at rotation 45 degrees\n",
    "\n",
    "# Annotate the Bubble Point line with the text 'Bubble Point' at rotation 45 degrees\n",
    "\n",
    "# Plot the example ideal gas law and peng robinson eos"
   ]
  },
  {
   "attachments": {},
   "cell_type": "markdown",
   "metadata": {},
   "source": [
    "### Task 7: Peng-Robinson Equation of State - Mixing Rules & Fugacity Coefficients\n",
    "\n",
    "In the previous tasks we have only been looking at the Peng-Robinson Equation of State for a single component. However, in reality, we are often dealing with mixtures of components. In this task, we will look at how to use the Peng-Robinson Equation of State to predict the fugacity coefficients of a mixture of components.\n",
    "\n",
    "The fugacity coefficient is defined as the ratio of fugacity to pressure [[7]](https://www.chemeurope.com/en/encyclopedia/Fugacity.html). For gases at low pressures (where the ideal gas law is a good approximation), fugacity is roughly equal to pressure. Thus, for an ideal gas, the ratio between fugacity and pressure (the fugacity coefficient) is equal to 1 [[8]](https://www.chemeurope.com/en/encyclopedia/Fugacity.html). This ratio can be thought of as ‘how closely’ a real gas behaves like an ideal gas [[9]](https://www.chemeurope.com/en/encyclopedia/Fugacity.html)."
   ]
  },
  {
   "cell_type": "markdown",
   "metadata": {},
   "source": [
    "#### Task 7.1: Peng-Robinson Equation of State - Mixing Rules\n",
    "\n",
    "<center><img src='images/mixing_rules.png'></center>\n",
    "\n",
    "The next cell provides you with the variables required and the chemical data for components in a DataFrame. The DataFrame is called `chemical_data_df`\n",
    "\n",
    "The chemical data contains the following columns:\n",
    "\n",
    "* `Element`: The element name\n",
    "* `Tc(K)`: The critical temperature of the element\n",
    "* `Pc(MPa)`: The critical pressure of the element\n",
    "* `Vc(cm3/mol)`: The critical volume of the element\n",
    "* `w`: The acentric factor of the element\n",
    "\n",
    "Below is the element names will be printed, as well as the number of rows and names of the columns."
   ]
  },
  {
   "cell_type": "code",
   "execution_count": 43,
   "metadata": {},
   "outputs": [
    {
     "name": "stdout",
     "output_type": "stream",
     "text": [
      "Index(['Element', 'Tc_K', 'Pc_MPa', 'Vc_cm3_mol', 'w'], dtype='object')\n",
      "------------------\n",
      "Number of rows:  76\n",
      "Number of columns:  5\n",
      "------------------\n",
      "List of elements:  ['Argon' 'Bromine' 'Chlorine' 'Fluorine' 'Helium-4' 'Hydrogen' 'Iodine'\n",
      " 'Krypton' 'Neon' 'Nitrogen' 'Oxygen' 'Xenon' 'Acetylene' 'Benzene'\n",
      " 'n-Butane' '1-Butene' 'Cyclobutane' 'Cyclohexane' 'Cyclopropane' 'Ethane'\n",
      " 'Ethylene' 'n-Heptane' 'n-Hexane' 'Isobutane' 'Isobutylene' 'Isopentane'\n",
      " 'Methane' 'Naphthalene' 'n-Octane' 'n-Pentane' 'Propadiene' 'Propane'\n",
      " 'Propylene' 'Toluene' 'm-Xylene' 'o-Xylene' 'p-Xylene' 'Ammonia'\n",
      " 'Carbon dioxide' 'Carbon disulfide' 'Carbon monoxide'\n",
      " 'Carbon tetrachloride' 'Carbon tetrafluoride' 'Chloroform' 'Hydrazine'\n",
      " 'Hydrogen chloride' 'Hydrogen fluoride' 'Hydrogen sulfide' 'Nitric oxide'\n",
      " 'Nitrous oxide' 'Sulfur dioxide' 'Sulfur trioxide' 'Water' 'Acetaldehyde'\n",
      " 'Acetic acid' 'Acetone' 'Acetonitrile' 'Aniline' 'n-Butanol'\n",
      " 'Chlorobenzene' 'Dichlorodifluoromethane (Freon 12)' 'Diethyl ether'\n",
      " 'Dimethyl ether' 'Ethanol' 'Ethylene oxide' 'Isobutanol'\n",
      " 'Isopropyl alcohol' 'Methanol' 'Methyl chloride' 'Methyl ethyl ketone'\n",
      " 'Phenol' '1-Propanol' 'Pyridine' 'Trichlorotrifluoroethane (Freon 113)'\n",
      " 'Trichlorofluoromethane (Freon 11)' 'Trimethylamine']\n"
     ]
    }
   ],
   "source": [
    "# Shift + Enter to run the code\n",
    "import pandas as pd\n",
    "import numpy as np\n",
    "import matplotlib.pyplot as plt\n",
    "\n",
    "R = 8.314 # J/(mol*K)\n",
    "T = 233.2 # K\n",
    "P = 0.1 # MPa\n",
    "\n",
    "chemical_data_df = pd.read_csv(\"src/Critical_Constants_and_Acentric_Factors.csv\")\n",
    "\n",
    "print(chemical_data_df.columns)\n",
    "print('------------------')\n",
    "print('Number of rows: ', chemical_data_df.shape[0])\n",
    "print('Number of columns: ', chemical_data_df.shape[1])\n",
    "print('------------------')\n",
    "print('List of elements: ', chemical_data_df['Element'].unique())"
   ]
  },
  {
   "cell_type": "markdown",
   "metadata": {},
   "source": [
    "##### Task 7.1.1: Peng-Robinson Equation of State - Mixing Rules - Binary Mixture\n",
    "\n",
    "You have been provided with the chemical data for two components, Methane and Propane. The chemical data is stored in the DataFrame `chemical_data_df`. \n",
    "\n",
    "The mol fractions of the components are:\n",
    "\n",
    "* $x_{CH_4}$ = 0.4\n",
    "* $x_{C_3H_8}$ = 0.6\n",
    "\n",
    "You will need to do the following:\n",
    "\n",
    "1. Create a table of the chemical data for the two components, Methane<sub>2</sub> and Propane<sub>2</sub>. The table should be called `chemical_data_df_binary_mixture`. It should have the following columns:\n",
    "   \n",
    "    * `Methane`\n",
    "    * `Propane`\n",
    "\n",
    "    It then should have the following index:\n",
    "   \n",
    "    * `mol_frac`\n",
    "    * `Tc_K`\n",
    "    * `Pc_MPa`\n",
    "    * `w`\n",
    "    * `ai`\n",
    "    * `bi`\n",
    "    * `ki`\n",
    "\n",
    "2. Fill in the table with the correct values. The values for the `mol_frac` column should be the mol fractions of the components. The values for the `Tc_K` column should be the critical temperature of the components. The values for the `Pc_MPa` column should be the critical pressure of the components. The values for the `w` column should be the acentric factor of the components. The values for the `ai` column should be the attraction parameter of the component. The values for the `bi` column should be the covolume for the component. The values for the `ki` column should be the binary interaction of component.\n",
    "\n",
    "> ***Tip***: Creating an empty table (or rather, DataFrame) can be done using the `pd.DataFrame()` function. The function takes the following arguments: `pd.DataFrame(columns, index)`. The index argument is the index of the DataFrame and the columns argument is the columns of the DataFrame. These both accept only lists - `[]`.\n",
    "\n",
    "> ***Tip***: You will need to use the `chemical_data_df` DataFrame to get the values for the `Tc_K`, `Pc_MPa` and `w` columns. You will need to use the `ai()` function to get the values for the `ai` column. You will need to use the `bi()` function to get the values for the `bi` column. You will need to use the `ki()` function to get the values for the `ki` column.\n",
    "\n",
    "> ***Tip***: Access rows and setting them will require the use of the `.loc[]` function. The function takes the following arguments: `.loc[column]`. The column argument is the column to be accessed. The function will return the row of the column. To set the row of the column, you will need to use the following syntax: `.loc[column] = row`. The column argument is the column to be accessed. The row argument is the row to be set. Ensure the column is a string and the row is a list."
   ]
  },
  {
   "cell_type": "code",
   "execution_count": 44,
   "metadata": {},
   "outputs": [
    {
     "name": "stderr",
     "output_type": "stream",
     "text": [
      "UsageError: Line magic function `%%script` not found.\n"
     ]
    }
   ],
   "source": [
    "# Create the DataFrame\n",
    "\n",
    "molecules = []\n",
    "index_names = []\n",
    "chemical_data_df_binary_mixture = pd.DataFrame(index=None, columns=None)"
   ]
  },
  {
   "cell_type": "code",
   "execution_count": 46,
   "metadata": {},
   "outputs": [
    {
     "name": "stderr",
     "output_type": "stream",
     "text": [
      "UsageError: Line magic function `%%script` not found.\n"
     ]
    }
   ],
   "source": [
    "# Create the list of mole fractions and set it in the table\n",
    "\n",
    "mol_frac = None # < - Enter your code here, remove None\n",
    "chemical_data_df_binary_mixture.loc[''] = None # < - Enter your code here, remove None\n",
    "print(chemical_data_df_binary_mixture)"
   ]
  },
  {
   "cell_type": "code",
   "execution_count": 48,
   "metadata": {},
   "outputs": [
    {
     "name": "stdout",
     "output_type": "stream",
     "text": [
      "         Methane Propane\n",
      "mol_frac     0.4     0.6\n",
      "Tc_K        None    None\n",
      "Pc_MPa      None    None\n",
      "w           None    None\n",
      "ai           NaN     NaN\n",
      "bi           NaN     NaN\n",
      "ki           NaN     NaN\n"
     ]
    }
   ],
   "source": [
    "from src.thermo import get_chemical_values\n",
    "#?get_chemical_values # Uncomment this line to get help on the function\n",
    "\n",
    "# Get the values for Tc_K - You will need to run the get_chemical_values function. Remember to use ?get_chemical_values to get help\n",
    "\n",
    "chemical_data_df_binary_mixture.loc['Tc_K'] = None # < - Enter your code here, remove None\n",
    "\n",
    "# Get the values for Pc_MPa - You will need to run the get_chemical_values function. Remember to use ?get_chemical_values to get help\n",
    "chemical_data_df_binary_mixture.loc['Pc_MPa'] = None # < - Enter your code here, remove None\n",
    "\n",
    "# Get the values for w - You will need to run the get_chemical_values function. Remember to use ?get_chemical_values to get help\n",
    "chemical_data_df_binary_mixture.loc['w'] = None # < - Enter your code here, remove None\n",
    "\n",
    "print(chemical_data_df_binary_mixture)"
   ]
  },
  {
   "attachments": {},
   "cell_type": "markdown",
   "metadata": {},
   "source": [
    "So, now you will need to finish the filling in the last three columns of the table. The values for the `ai` column should be the attraction parameter of the component. The values for the `bi` column should be the covolume for the component. The values for the `ki` column should be the binary interaction of component.\n",
    "\n",
    "The equation for the covolume parameter, `bi`, is:\n",
    "\n",
    "$$b_i = 0.07780\\frac{R T_c}{P_c}$$\n",
    "\n",
    "where:\n",
    "\n",
    "* $R$ is the gas constant\n",
    "* $T_c$ is the critical temperature\n",
    "* $P_c$ is the critical pressure\n",
    "\n",
    "The equation for the binary interaction parameter, `ki`, is:\n",
    "\n",
    "\n",
    "$$k_i = 0.37464 + 1.54226\\omega_i - 0.26992\\omega_i^2$$\n",
    "\n",
    "where:\n",
    "* $\\omega_i$ is the acentric factor\n",
    "\n",
    "\n",
    "The equation for the attraction parameter, `ai`, is:\n",
    "\n",
    "$$a_i = 0.45724 \\frac{R^2 T_c^2}{P_c} \\left(1 + \\kappa_i(1 - \\sqrt{T/T_c})\\right)^2$$\n",
    "\n",
    "where:\n",
    "\n",
    "* $R$ is the gas constant\n",
    "* $T_c$ is the critical temperature\n",
    "* $P_c$ is the critical pressure\n",
    "* $\\kappa_i$ is the binary interaction parameters\n",
    "* $T$ is the temperature\n",
    "\n",
    "For this section, you will need to use write the code to calculate `bi` and `ki` and then use the function `ai()`\n",
    "\n",
    "> ***Hint***: When you are setting the values for `chemical_data_df_binary_mixture.loc['{COLUMNNAME}']` you will need to use the `.loc[]` function in place of the variables required in the formulas. For example, for $T_c$, you will need to use `chemical_data_df.loc['Tc_K']` in place of $T_c$."
   ]
  },
  {
   "cell_type": "code",
   "execution_count": 50,
   "metadata": {},
   "outputs": [],
   "source": [
    "# Shift + Enter to run the code\n",
    "from src.thermo import calculate_ai"
   ]
  },
  {
   "cell_type": "code",
   "execution_count": 51,
   "metadata": {},
   "outputs": [
    {
     "data": {
      "text/html": [
       "<div>\n",
       "<style scoped>\n",
       "    .dataframe tbody tr th:only-of-type {\n",
       "        vertical-align: middle;\n",
       "    }\n",
       "\n",
       "    .dataframe tbody tr th {\n",
       "        vertical-align: top;\n",
       "    }\n",
       "\n",
       "    .dataframe thead th {\n",
       "        text-align: right;\n",
       "    }\n",
       "</style>\n",
       "<table border=\"1\" class=\"dataframe\">\n",
       "  <thead>\n",
       "    <tr style=\"text-align: right;\">\n",
       "      <th></th>\n",
       "      <th>Methane</th>\n",
       "      <th>Propane</th>\n",
       "    </tr>\n",
       "  </thead>\n",
       "  <tbody>\n",
       "    <tr>\n",
       "      <th>mol_frac</th>\n",
       "      <td>0.4</td>\n",
       "      <td>0.6</td>\n",
       "    </tr>\n",
       "    <tr>\n",
       "      <th>Tc_K</th>\n",
       "      <td>190.4</td>\n",
       "      <td>369.8</td>\n",
       "    </tr>\n",
       "    <tr>\n",
       "      <th>Pc_MPa</th>\n",
       "      <td>4.6</td>\n",
       "      <td>4.25</td>\n",
       "    </tr>\n",
       "    <tr>\n",
       "      <th>w</th>\n",
       "      <td>0.011</td>\n",
       "      <td>0.153</td>\n",
       "    </tr>\n",
       "    <tr>\n",
       "      <th>ai</th>\n",
       "      <td>None</td>\n",
       "      <td>None</td>\n",
       "    </tr>\n",
       "    <tr>\n",
       "      <th>bi</th>\n",
       "      <td>None</td>\n",
       "      <td>None</td>\n",
       "    </tr>\n",
       "    <tr>\n",
       "      <th>ki</th>\n",
       "      <td>None</td>\n",
       "      <td>None</td>\n",
       "    </tr>\n",
       "  </tbody>\n",
       "</table>\n",
       "</div>"
      ],
      "text/plain": [
       "         Methane Propane\n",
       "mol_frac     0.4     0.6\n",
       "Tc_K       190.4   369.8\n",
       "Pc_MPa       4.6    4.25\n",
       "w          0.011   0.153\n",
       "ai          None    None\n",
       "bi          None    None\n",
       "ki          None    None"
      ]
     },
     "execution_count": 51,
     "metadata": {},
     "output_type": "execute_result"
    }
   ],
   "source": [
    "# Calculate ki and bi AND THEN ai using the function `calculate_ai(chemical_df, molecules, temperature)`\n",
    "\n",
    "chemical_data_df_binary_mixture.loc['ki'] = None # < - Enter your code here, remove None\n",
    "chemical_data_df_binary_mixture.loc['bi'] = None # < - Enter your code here, remove None\n",
    "chemical_data_df_binary_mixture.loc['ai'] = None # < - Enter your code here, remove None\n",
    "chemical_data_df_binary_mixture"
   ]
  },
  {
   "attachments": {},
   "cell_type": "markdown",
   "metadata": {},
   "source": [
    "##### Task 7.1.2: Peng-Robinson Equation of State - Mixing Rules - Interaction Parameters between components\n",
    "\n",
    "Interaction parameters between components is usually acquired from literature. For this task, there is a DataFrame that has extracted the interaction parameters from literature. The DataFrame is called `interaction_parameters_df`. The DataFrame has the following columns:\n",
    "\n",
    "* `component_1`: The name of the first component\n",
    "* `component_2`: The name of the second componnet\n",
    "* `k12`: The binary interaction parameter between the first and second component\n",
    "\n",
    "You will need to create a table similar to this:\n",
    "\n",
    "##### chemical_data_interaction_df\n",
    "|i, j |Methane    |Ethane |\n",
    "|-----|--------|-----|\n",
    "|Methane|0       |0.00340  |\n",
    "|Ethane|0.0340       |0  |\n",
    "\n",
    "For this,  you will need to create an empty DataFrame called `chemical_data_interaction_df`. The DataFrame should have your components as the columns **AND** the index. \n",
    "\n",
    "Then, you will need to fill in the DataFrame with either 0 when the component is the same for both column and index, or the value from the `interaction_parameters_df` when the component is different for both column and index.\n",
    "\n",
    "> ***Tip***: Filtering a DataFrame will require .isin() function. An example of this is `filtered_df = df[(df['component_1'].str.title().isin(filter_components)) & (df['component_2'].str.title().isin(filter_components))]`.\n",
    "\n",
    "> ***Tip***: Once you have filtered the DataFrame, see what the values are and then you can use the `.loc['{COLUMNNAME}','{INDEXNAME}']` function to set the values\n"
   ]
  },
  {
   "cell_type": "code",
   "execution_count": 54,
   "metadata": {},
   "outputs": [
    {
     "data": {
      "text/html": [
       "<div>\n",
       "<style scoped>\n",
       "    .dataframe tbody tr th:only-of-type {\n",
       "        vertical-align: middle;\n",
       "    }\n",
       "\n",
       "    .dataframe tbody tr th {\n",
       "        vertical-align: top;\n",
       "    }\n",
       "\n",
       "    .dataframe thead th {\n",
       "        text-align: right;\n",
       "    }\n",
       "</style>\n",
       "<table border=\"1\" class=\"dataframe\">\n",
       "  <thead>\n",
       "    <tr style=\"text-align: right;\">\n",
       "      <th></th>\n",
       "      <th>#</th>\n",
       "      <th>component_1</th>\n",
       "      <th>component_2</th>\n",
       "      <th>k12</th>\n",
       "    </tr>\n",
       "  </thead>\n",
       "  <tbody>\n",
       "    <tr>\n",
       "      <th>0</th>\n",
       "      <td>1</td>\n",
       "      <td>benzene</td>\n",
       "      <td>heptane</td>\n",
       "      <td>0.0011</td>\n",
       "    </tr>\n",
       "    <tr>\n",
       "      <th>1</th>\n",
       "      <td>2</td>\n",
       "      <td>carbon dioxide</td>\n",
       "      <td>benzene</td>\n",
       "      <td>0.0774</td>\n",
       "    </tr>\n",
       "    <tr>\n",
       "      <th>2</th>\n",
       "      <td>3</td>\n",
       "      <td>carbon dioxide</td>\n",
       "      <td>decane</td>\n",
       "      <td>0.1141</td>\n",
       "    </tr>\n",
       "    <tr>\n",
       "      <th>3</th>\n",
       "      <td>4</td>\n",
       "      <td>carbon dioxide</td>\n",
       "      <td>ethane</td>\n",
       "      <td>0.1322</td>\n",
       "    </tr>\n",
       "    <tr>\n",
       "      <th>4</th>\n",
       "      <td>5</td>\n",
       "      <td>carbon dioxide</td>\n",
       "      <td>heptane</td>\n",
       "      <td>0.1</td>\n",
       "    </tr>\n",
       "    <tr>\n",
       "      <th>...</th>\n",
       "      <td>...</td>\n",
       "      <td>...</td>\n",
       "      <td>...</td>\n",
       "      <td>...</td>\n",
       "    </tr>\n",
       "    <tr>\n",
       "      <th>56</th>\n",
       "      <td>57</td>\n",
       "      <td>nitrogen</td>\n",
       "      <td>propane</td>\n",
       "      <td>0.0852</td>\n",
       "    </tr>\n",
       "    <tr>\n",
       "      <th>57</th>\n",
       "      <td>58</td>\n",
       "      <td>nitrogen</td>\n",
       "      <td>toluene</td>\n",
       "      <td>0.20142</td>\n",
       "    </tr>\n",
       "    <tr>\n",
       "      <th>58</th>\n",
       "      <td>59</td>\n",
       "      <td>pentane</td>\n",
       "      <td>toluene</td>\n",
       "      <td>0.00845</td>\n",
       "    </tr>\n",
       "    <tr>\n",
       "      <th>59</th>\n",
       "      <td>60</td>\n",
       "      <td>propane</td>\n",
       "      <td>i-butane</td>\n",
       "      <td>−0.0078</td>\n",
       "    </tr>\n",
       "    <tr>\n",
       "      <th>60</th>\n",
       "      <td>61</td>\n",
       "      <td>propane</td>\n",
       "      <td>i-pentane</td>\n",
       "      <td>0.0111</td>\n",
       "    </tr>\n",
       "  </tbody>\n",
       "</table>\n",
       "<p>61 rows × 4 columns</p>\n",
       "</div>"
      ],
      "text/plain": [
       "     #     component_1 component_2      k12\n",
       "0    1         benzene     heptane   0.0011\n",
       "1    2  carbon dioxide     benzene   0.0774\n",
       "2    3  carbon dioxide      decane   0.1141\n",
       "3    4  carbon dioxide      ethane   0.1322\n",
       "4    5  carbon dioxide     heptane      0.1\n",
       "..  ..             ...         ...      ...\n",
       "56  57        nitrogen     propane   0.0852\n",
       "57  58        nitrogen     toluene  0.20142\n",
       "58  59         pentane     toluene  0.00845\n",
       "59  60         propane    i-butane  −0.0078\n",
       "60  61         propane   i-pentane   0.0111\n",
       "\n",
       "[61 rows x 4 columns]"
      ]
     },
     "execution_count": 54,
     "metadata": {},
     "output_type": "execute_result"
    }
   ],
   "source": [
    "# Shift + Enter to run the code\n",
    "import pandas as pd\n",
    "interaction_parameter_df = pd.read_excel(\"src/interaction_parameters_df.xlsx\")\n",
    "interaction_parameter_df"
   ]
  },
  {
   "cell_type": "code",
   "execution_count": 55,
   "metadata": {},
   "outputs": [
    {
     "name": "stdout",
     "output_type": "stream",
     "text": [
      "None\n"
     ]
    }
   ],
   "source": [
    "### Student Solution - 1\n",
    "\n",
    "chemical_data_interaction_df = pd.DataFrame(index=None, columns=None) # < - Enter your code here, remove None\n",
    "\n",
    "# filtered_df = df[(df['component_1'].str.title().isin(filter_components)) & (df['component_2'].str.title().isin(filter_components))]`\n",
    "filtered_df = None\n",
    "print(filtered_df) "
   ]
  },
  {
   "cell_type": "code",
   "execution_count": 56,
   "metadata": {},
   "outputs": [
    {
     "name": "stdout",
     "output_type": "stream",
     "text": [
      "    \n",
      " NaN\n"
     ]
    }
   ],
   "source": [
    "### Student Solution - 2\n",
    "\n",
    "chemical_data_interaction_df.loc['',''] = None # < - Enter your code here, remove None\n",
    "chemical_data_interaction_df.loc['',''] = None # < - Enter your code here, remove None\n",
    "chemical_data_interaction_df.loc['',''] = None # < - Enter your code here, remove None\n",
    "chemical_data_interaction_df.loc['',''] = None # < - Enter your code here, remove None\n",
    "\n",
    "print(chemical_data_interaction_df)"
   ]
  },
  {
   "cell_type": "markdown",
   "metadata": {},
   "source": [
    "#### Task 7.2: Peng-Robinson Equation of State - Mixing Rules - Creating aij table\n",
    "\n",
    "In this section we will now need to create the aij table. The aij table is a table that contains the attraction parameters between components. The table will be called `aij_df`.\n",
    "\n",
    "Remember, the equation for attraction parameter, `aij` is:\n",
    "\n",
    "$$a_{ij} = \\sqrt{a_i a_j}(1 - \\kappa_{ij})$$\n",
    "\n",
    "where:\n",
    "\n",
    "* $a_i$ is the attraction parameter of the first component\n",
    "* $a_j$ is the attraction parameter of the second component\n",
    "* $\\kappa_{ij}$ is the binary interaction parameter between the two components\n",
    "\n",
    "> ***Tip***: You will need to use the function from the module `thermo` called `calculate_df_aij()` to calculate the aij table. The function takes the following arguments: `calculate_df_aij(molecules, chemical_data_df_binary_mixture, chemical_data_interaction_df, df_aij)`. \n",
    "\n",
    "You table will be similar to the interaction table set up, where the columns and the index are the components."
   ]
  },
  {
   "cell_type": "code",
   "execution_count": 59,
   "metadata": {},
   "outputs": [],
   "source": [
    "# Shift + Enter to run the code\n",
    "from src.thermo import calculate_df_aij"
   ]
  },
  {
   "cell_type": "code",
   "execution_count": 60,
   "metadata": {},
   "outputs": [
    {
     "name": "stderr",
     "output_type": "stream",
     "text": [
      "UsageError: Line magic function `%%script` not found.\n"
     ]
    }
   ],
   "source": [
    "### Student Solution\n",
    "\n",
    "df_aij = pd.DataFrame(index=None, columns=None) # < - Enter your code here, remove None\n",
    "\n",
    "df_aij = calculate_df_aij()"
   ]
  },
  {
   "cell_type": "markdown",
   "metadata": {},
   "source": [
    "#### Task 7.2.1: Peng-Robinson Equation of State - Mixing Rules - Finding the value of `a`\n",
    "\n",
    "Now that we have our `aij` table, we will need to find the value of `a`. The equation for `a` is:\n",
    "\n",
    "$$a = \\sum_{i=1}^{n}\\sum_{j=1}^{n}x_i x_j a_{ij}$$\n",
    "\n",
    "where:\n",
    "\n",
    "* $x_i$ is the mole fraction of the first component\n",
    "* $x_j$ is the mole fraction of the second component\n",
    "* $a_{ij}$ is the attraction parameter between the two components\n",
    "\n",
    "Create a DataFrame called `a_mol_frac_df` that has columns and indexes again defined by the molecules list.\n",
    "\n",
    "> ***Python***: Use vectorization to calculate the values for the `a_mol_frac_df` DataFrame. To do this, you will need to lock onto the mol fractions of the components and then multiply them by the aij table. `.multiply()` is a good function to use. Make sure you choose the right axis! You may have to chain the `.multiply()` function twice. *ALTERNATIVELY* you can use two for loops to calculate the values for the DataFrame.\n",
    "\n",
    "Once you have completed this table, you will need to sum all the values in the table. This will give you the value of `a`\n"
   ]
  },
  {
   "cell_type": "code",
   "execution_count": 62,
   "metadata": {},
   "outputs": [],
   "source": [
    "### Student Solution\n",
    "\n",
    "# Get the mol fractions in a list\n",
    "\n",
    "# Use the multiply function, with the axis=0 and then axis=1 \n",
    "\n",
    "# Get the sum of the values in the dataframe - use the sum function, twice!"
   ]
  },
  {
   "cell_type": "markdown",
   "metadata": {},
   "source": [
    "#### Task 7.2.1: Peng-Robinson Equation of State - Mixing Rules - Finding the value of `b`\n",
    "\n",
    "Finally, we will need to find the value of `b`. The equation for `b` is:\n",
    "\n",
    "$$b = \\sum_{i=1}^{n}x_i b_i$$\n",
    "\n",
    "where:\n",
    "\n",
    "* $x_i$ is the mole fraction of the component i\n",
    "* $b_i$ is the covolume of the component i\n",
    "\n",
    "> ***Tip***: You can use `.loc[]` to access the relevant indexes to multiply. Then after the multiplication, you can use `.sum()` to sum all the values."
   ]
  },
  {
   "cell_type": "code",
   "execution_count": 64,
   "metadata": {},
   "outputs": [
    {
     "name": "stderr",
     "output_type": "stream",
     "text": [
      "UsageError: Line magic function `%%script` not found.\n"
     ]
    }
   ],
   "source": [
    "### Student Solution\n",
    "\n",
    "b = (df.loc[''] * df.loc['']).sum() # <- adjust the relevant section of the code to get `b`\n",
    "print(b)"
   ]
  },
  {
   "cell_type": "markdown",
   "metadata": {},
   "source": [
    "#### Task 7.3: Peng-Robinson Equation of State - Mixing Rules - Finding the roots of the cubic equation\n",
    "\n",
    "We have all the data we need now to find the roots of the cubic equation. Recall, the cubic equation is:\n",
    "\n",
    "$$Z^3 + (1-B)Z^2 + (A-3B^2-2B)Z - (AB-B^2-B^3) = 0$$\n",
    "\n",
    "where:\n",
    "\n",
    "* $Z$ is the compressibility factor\n",
    "* $A$ is the value calculated from `a`\n",
    "* $B$ is the value calculated from `b`\n",
    "\n",
    "You will need to find:\n",
    "\n",
    "1. The value of `A`\n",
    "2. The value of `B`\n",
    "3. Then the values of each coefficient:\n",
    "    * $Z^3$ -> $1$\n",
    "    * $Z^2$ -> $(1-B)$\n",
    "    * $Z^1$ -> $(A-3B^2-2B)$\n",
    "    * $Z^0$ -> $(-(AB-B^2-B^3))$\n",
    "4. Use the CubicEquationSolver module to find the roots using the function `solve(a, b, c, d)`"
   ]
  },
  {
   "cell_type": "code",
   "execution_count": 66,
   "metadata": {},
   "outputs": [
    {
     "name": "stderr",
     "output_type": "stream",
     "text": [
      "UsageError: Line magic function `%%script` not found.\n"
     ]
    }
   ],
   "source": [
    "### Student Solution\n",
    "\n",
    "# Find the value of A\n",
    "A = None # <- Enter your code here, remove None\n",
    "\n",
    "# Find the value of B\n",
    "B = None # <- Enter your code here, remove None\n",
    "\n",
    "# Find the coefficients\n",
    "Z_3 = None # <- Enter your code here, remove None\n",
    "Z_2 = None # <- Enter your code here, remove None\n",
    "Z_1 = None # <- Enter your code here, remove None\n",
    "Z_0 = None # <- Enter your code here, remove None\n",
    "\n",
    "# Find the roots of the cubic equation\n",
    "import CubicEquationSolver as ces\n",
    "Z_roots = ces.solve(Z_3, Z_2, Z_1, Z_0)\n",
    "print(Z_roots)\n"
   ]
  },
  {
   "attachments": {},
   "cell_type": "markdown",
   "metadata": {},
   "source": [
    "#### Task 7.4: Peng-Robinson Equation of State - Mixing Rules - Fugacity Coefficient\n",
    "\n",
    "The fugacity coefficient is a dimensionless quantity that relates the fugacity of a real gas to its pressure. The real gas pressure and fugacity are related through the dimensionless fugacity coefficient $φ$ [[1]](https://en.wikipedia.org/wiki/Fugacity). For an ideal gas, fugacity and pressure are equal and so $φ$ = 1. Taken at the same temperature and pressure, the difference between the molar Gibbs free energies of a real gas and the corresponding ideal gas is equal to RT $ln(φ)$ [[1]](https://en.wikipedia.org/wiki/Fugacity). Fugacities are determined experimentally or estimated from various models such as a Van der Waals gas that are closer to reality than an ideal gas [[1]](https://en.wikipedia.org/wiki/Fugacity).\n",
    "\n",
    "<center><img src='images/fug_coefficient.png' width=\"60%\"></center>\n",
    "\n",
    "We have done a lot of work so far, and as seen by the equation above, we have a lot of data we need to work with. However, for this exercise, we will use a script called `preos` that has been developed to calculate the fugacity coefficient and other properties.\n",
    "\n",
    "Source: https://github.com/CorySimon/PREOS\n",
    "\n",
    "Provided is an example of loading a molecule into the `preos` module. You will need to do this for each molecule in the `molecules` list. The class `Molecule` takes the following arguments: `Molecule(name, temperature, pressure, omega)`. The `name` is the name of the molecule, `temperature` is the critical temperature in Kelvin, `pressure` is the critical pressure in bar , and `omega` is the acentric of the molecule.\n",
    "```\n",
    "xe = preos.Molecule(\"Xe\", 16.59 + 273.15, 58.42, 0.0)\n",
    "xe.print_params()\n",
    "```\n",
    "\n",
    "Make sure to use the chemical_data_df_binary_mixture DataFrame you created!"
   ]
  },
  {
   "cell_type": "code",
   "execution_count": 68,
   "metadata": {},
   "outputs": [],
   "source": [
    "# Shift + Enter to run the code\n",
    "import src.preos as preos"
   ]
  },
  {
   "cell_type": "code",
   "execution_count": 69,
   "metadata": {},
   "outputs": [],
   "source": [
    "### Student Solution\n",
    "\n",
    "# save component 1 and component 2 in variables using preos.Molecule\n"
   ]
  },
  {
   "attachments": {},
   "cell_type": "markdown",
   "metadata": {},
   "source": [
    "Now, for the last part.\n",
    "\n",
    "The `preos` module contains a function called `.preos_mixture()` that takes the following arguments:\n",
    "\n",
    "* molecule_a\n",
    "* molecule_b\n",
    "* delta - the binary interaction parameter between the two molecules\n",
    "* T - the temperature in Kelvin chosen\n",
    "* P - the pressure in bar chosen\n",
    "* x - the mole fraction as list [x_a, x_b]\n",
    "\n",
    "For delta, make sure to use `interaction_parameter_df`"
   ]
  },
  {
   "attachments": {},
   "cell_type": "markdown",
   "metadata": {},
   "source": [
    "### "
   ]
  },
  {
   "cell_type": "code",
   "execution_count": 71,
   "metadata": {},
   "outputs": [
    {
     "name": "stderr",
     "output_type": "stream",
     "text": [
      "UsageError: Line magic function `%%` not found.\n"
     ]
    }
   ],
   "source": [
    "### Student Solution\n",
    "%% script false --no-raise-error\n",
    "T = None # <- Enter your code here, remove None\n",
    "P = None # <- Enter your code here, remove None\n",
    "x = list() # <- Enter your code here, remove None\n",
    "delta = None # <- Enter your code here, remove None\n",
    "\n",
    "mixture = preos.preos_mixture()"
   ]
  }
 ],
 "metadata": {
  "kernelspec": {
   "display_name": "thermo_env",
   "language": "python",
   "name": "python3"
  },
  "language_info": {
   "codemirror_mode": {
    "name": "ipython",
    "version": 3
   },
   "file_extension": ".py",
   "mimetype": "text/x-python",
   "name": "python",
   "nbconvert_exporter": "python",
   "pygments_lexer": "ipython3",
   "version": "3.10.11"
  },
  "orig_nbformat": 4
 },
 "nbformat": 4,
 "nbformat_minor": 2
}
